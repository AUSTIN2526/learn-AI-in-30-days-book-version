{
 "cells": [
  {
   "cell_type": "markdown",
   "id": "d8528149",
   "metadata": {},
   "source": [
    "# 相關函式庫介紹\n",
    "\n",
    "* ###  Tensorflow\n",
    "Tensorflow是由Google Brain創建的一個深度學習函式庫，用於訓練和部署機器學習模型，它是目前業界最廣泛使用的深度學習框架之一。它提供了一個靈活且高效的方式來建立、訓練和部署機器學習模型。它支援各種不同的應用領域，包括圖像和語音辨識、自然語言處理、推薦系統等等。TensorFlow 的核心概念是計算圖 (computational graph)，它使用節點 (node) 和邊 (edge) 的方式來表示數學計算操作和數據流動。\n",
    "\n",
    "* ###  Keras\n",
    "Keras 是一個高階的神經網路應用程式接口，它運行在 TensorFlow、Theano 和 CNTK 等深度學習框架之上。它的目標是提供一個簡單、直觀且方便快捷的方式來建立深度學習模型。Keras 的設計原則是用戶友好性、模塊性和可擴展性。它提供了一系列簡單易用的函數和類別，可以幫助用戶快速在五分鐘內快速地構建和訓練各種類型的神經網路模型\n",
    "\n",
    "* ### matplotlib\n",
    "資料視覺化函式庫，它能夠幫助我們觀看資料當前的型態，例如:圖片、折線圖、散點圖、向量圖...等資料型態\n",
    " "
   ]
  },
  {
   "cell_type": "markdown",
   "id": "cf4edf87",
   "metadata": {},
   "source": [
    "# 安裝函式庫"
   ]
  },
  {
   "cell_type": "code",
   "execution_count": 1,
   "id": "d1650b43",
   "metadata": {
    "scrolled": true
   },
   "outputs": [
    {
     "name": "stdout",
     "output_type": "stream",
     "text": [
      "Requirement already satisfied: tensorflow==2.3.0 in c:\\users\\austin\\appdata\\local\\programs\\python\\python37\\lib\\site-packages (2.3.0)\n",
      "Requirement already satisfied: absl-py>=0.7.0 in c:\\users\\austin\\appdata\\local\\programs\\python\\python37\\lib\\site-packages (from tensorflow==2.3.0) (1.4.0)\n",
      "Requirement already satisfied: astunparse==1.6.3 in c:\\users\\austin\\appdata\\local\\programs\\python\\python37\\lib\\site-packages (from tensorflow==2.3.0) (1.6.3)\n",
      "Requirement already satisfied: gast==0.3.3 in c:\\users\\austin\\appdata\\local\\programs\\python\\python37\\lib\\site-packages (from tensorflow==2.3.0) (0.3.3)\n",
      "Requirement already satisfied: google-pasta>=0.1.8 in c:\\users\\austin\\appdata\\local\\programs\\python\\python37\\lib\\site-packages (from tensorflow==2.3.0) (0.2.0)\n",
      "Requirement already satisfied: h5py<2.11.0,>=2.10.0 in c:\\users\\austin\\appdata\\local\\programs\\python\\python37\\lib\\site-packages (from tensorflow==2.3.0) (2.10.0)\n",
      "Requirement already satisfied: keras-preprocessing<1.2,>=1.1.1 in c:\\users\\austin\\appdata\\local\\programs\\python\\python37\\lib\\site-packages (from tensorflow==2.3.0) (1.1.2)\n",
      "Requirement already satisfied: numpy<1.19.0,>=1.16.0 in c:\\users\\austin\\appdata\\local\\programs\\python\\python37\\lib\\site-packages (from tensorflow==2.3.0) (1.18.5)\n",
      "Requirement already satisfied: opt-einsum>=2.3.2 in c:\\users\\austin\\appdata\\local\\programs\\python\\python37\\lib\\site-packages (from tensorflow==2.3.0) (3.3.0)\n",
      "Requirement already satisfied: protobuf>=3.9.2 in c:\\users\\austin\\appdata\\local\\programs\\python\\python37\\lib\\site-packages (from tensorflow==2.3.0) (3.20.3)\n",
      "Requirement already satisfied: tensorboard<3,>=2.3.0 in c:\\users\\austin\\appdata\\local\\programs\\python\\python37\\lib\\site-packages (from tensorflow==2.3.0) (2.11.2)\n",
      "Requirement already satisfied: tensorflow-estimator<2.4.0,>=2.3.0 in c:\\users\\austin\\appdata\\local\\programs\\python\\python37\\lib\\site-packages (from tensorflow==2.3.0) (2.3.0)\n",
      "Requirement already satisfied: termcolor>=1.1.0 in c:\\users\\austin\\appdata\\local\\programs\\python\\python37\\lib\\site-packages (from tensorflow==2.3.0) (2.3.0)\n",
      "Requirement already satisfied: wrapt>=1.11.1 in c:\\users\\austin\\appdata\\local\\programs\\python\\python37\\lib\\site-packages (from tensorflow==2.3.0) (1.15.0)\n",
      "Requirement already satisfied: wheel>=0.26 in c:\\users\\austin\\appdata\\local\\programs\\python\\python37\\lib\\site-packages (from tensorflow==2.3.0) (0.40.0)\n",
      "Requirement already satisfied: six>=1.12.0 in c:\\users\\austin\\appdata\\local\\programs\\python\\python37\\lib\\site-packages (from tensorflow==2.3.0) (1.16.0)\n",
      "Requirement already satisfied: scipy==1.4.1 in c:\\users\\austin\\appdata\\local\\programs\\python\\python37\\lib\\site-packages (from tensorflow==2.3.0) (1.4.1)\n",
      "Requirement already satisfied: grpcio>=1.8.6 in c:\\users\\austin\\appdata\\local\\programs\\python\\python37\\lib\\site-packages (from tensorflow==2.3.0) (1.54.2)\n",
      "Requirement already satisfied: google-auth<3,>=1.6.3 in c:\\users\\austin\\appdata\\local\\programs\\python\\python37\\lib\\site-packages (from tensorboard<3,>=2.3.0->tensorflow==2.3.0) (2.18.1)\n",
      "Requirement already satisfied: google-auth-oauthlib<0.5,>=0.4.1 in c:\\users\\austin\\appdata\\local\\programs\\python\\python37\\lib\\site-packages (from tensorboard<3,>=2.3.0->tensorflow==2.3.0) (0.4.6)\n",
      "Requirement already satisfied: markdown>=2.6.8 in c:\\users\\austin\\appdata\\local\\programs\\python\\python37\\lib\\site-packages (from tensorboard<3,>=2.3.0->tensorflow==2.3.0) (3.4.3)\n",
      "Requirement already satisfied: requests<3,>=2.21.0 in c:\\users\\austin\\appdata\\local\\programs\\python\\python37\\lib\\site-packages (from tensorboard<3,>=2.3.0->tensorflow==2.3.0) (2.30.0)\n",
      "Requirement already satisfied: setuptools>=41.0.0 in c:\\users\\austin\\appdata\\local\\programs\\python\\python37\\lib\\site-packages (from tensorboard<3,>=2.3.0->tensorflow==2.3.0) (47.1.0)\n",
      "Requirement already satisfied: tensorboard-data-server<0.7.0,>=0.6.0 in c:\\users\\austin\\appdata\\local\\programs\\python\\python37\\lib\\site-packages (from tensorboard<3,>=2.3.0->tensorflow==2.3.0) (0.6.1)\n",
      "Requirement already satisfied: tensorboard-plugin-wit>=1.6.0 in c:\\users\\austin\\appdata\\local\\programs\\python\\python37\\lib\\site-packages (from tensorboard<3,>=2.3.0->tensorflow==2.3.0) (1.8.1)\n",
      "Requirement already satisfied: werkzeug>=1.0.1 in c:\\users\\austin\\appdata\\local\\programs\\python\\python37\\lib\\site-packages (from tensorboard<3,>=2.3.0->tensorflow==2.3.0) (2.2.3)\n",
      "Requirement already satisfied: cachetools<6.0,>=2.0.0 in c:\\users\\austin\\appdata\\local\\programs\\python\\python37\\lib\\site-packages (from google-auth<3,>=1.6.3->tensorboard<3,>=2.3.0->tensorflow==2.3.0) (5.3.0)\n",
      "Requirement already satisfied: pyasn1-modules>=0.2.1 in c:\\users\\austin\\appdata\\local\\programs\\python\\python37\\lib\\site-packages (from google-auth<3,>=1.6.3->tensorboard<3,>=2.3.0->tensorflow==2.3.0) (0.3.0)\n",
      "Requirement already satisfied: urllib3<2.0 in c:\\users\\austin\\appdata\\local\\programs\\python\\python37\\lib\\site-packages (from google-auth<3,>=1.6.3->tensorboard<3,>=2.3.0->tensorflow==2.3.0) (1.26.15)\n",
      "Requirement already satisfied: rsa<5,>=3.1.4 in c:\\users\\austin\\appdata\\local\\programs\\python\\python37\\lib\\site-packages (from google-auth<3,>=1.6.3->tensorboard<3,>=2.3.0->tensorflow==2.3.0) (4.9)\n",
      "Requirement already satisfied: requests-oauthlib>=0.7.0 in c:\\users\\austin\\appdata\\local\\programs\\python\\python37\\lib\\site-packages (from google-auth-oauthlib<0.5,>=0.4.1->tensorboard<3,>=2.3.0->tensorflow==2.3.0) (1.3.1)\n",
      "Requirement already satisfied: importlib-metadata>=4.4 in c:\\users\\austin\\appdata\\local\\programs\\python\\python37\\lib\\site-packages (from markdown>=2.6.8->tensorboard<3,>=2.3.0->tensorflow==2.3.0) (6.6.0)\n",
      "Requirement already satisfied: charset-normalizer<4,>=2 in c:\\users\\austin\\appdata\\local\\programs\\python\\python37\\lib\\site-packages (from requests<3,>=2.21.0->tensorboard<3,>=2.3.0->tensorflow==2.3.0) (3.1.0)\n",
      "Requirement already satisfied: idna<4,>=2.5 in c:\\users\\austin\\appdata\\local\\programs\\python\\python37\\lib\\site-packages (from requests<3,>=2.21.0->tensorboard<3,>=2.3.0->tensorflow==2.3.0) (3.4)\n",
      "Requirement already satisfied: certifi>=2017.4.17 in c:\\users\\austin\\appdata\\local\\programs\\python\\python37\\lib\\site-packages (from requests<3,>=2.21.0->tensorboard<3,>=2.3.0->tensorflow==2.3.0) (2023.5.7)\n",
      "Requirement already satisfied: MarkupSafe>=2.1.1 in c:\\users\\austin\\appdata\\local\\programs\\python\\python37\\lib\\site-packages (from werkzeug>=1.0.1->tensorboard<3,>=2.3.0->tensorflow==2.3.0) (2.1.2)\n",
      "Requirement already satisfied: zipp>=0.5 in c:\\users\\austin\\appdata\\local\\programs\\python\\python37\\lib\\site-packages (from importlib-metadata>=4.4->markdown>=2.6.8->tensorboard<3,>=2.3.0->tensorflow==2.3.0) (3.15.0)\n",
      "Requirement already satisfied: typing-extensions>=3.6.4 in c:\\users\\austin\\appdata\\local\\programs\\python\\python37\\lib\\site-packages (from importlib-metadata>=4.4->markdown>=2.6.8->tensorboard<3,>=2.3.0->tensorflow==2.3.0) (4.5.0)\n",
      "Requirement already satisfied: pyasn1<0.6.0,>=0.4.6 in c:\\users\\austin\\appdata\\local\\programs\\python\\python37\\lib\\site-packages (from pyasn1-modules>=0.2.1->google-auth<3,>=1.6.3->tensorboard<3,>=2.3.0->tensorflow==2.3.0) (0.5.0)\n",
      "Requirement already satisfied: oauthlib>=3.0.0 in c:\\users\\austin\\appdata\\local\\programs\\python\\python37\\lib\\site-packages (from requests-oauthlib>=0.7.0->google-auth-oauthlib<0.5,>=0.4.1->tensorboard<3,>=2.3.0->tensorflow==2.3.0) (3.2.2)\n",
      "Requirement already satisfied: matplotlib in c:\\users\\austin\\appdata\\local\\programs\\python\\python37\\lib\\site-packages (3.5.3)\n",
      "Requirement already satisfied: cycler>=0.10 in c:\\users\\austin\\appdata\\local\\programs\\python\\python37\\lib\\site-packages (from matplotlib) (0.11.0)\n",
      "Requirement already satisfied: fonttools>=4.22.0 in c:\\users\\austin\\appdata\\local\\programs\\python\\python37\\lib\\site-packages (from matplotlib) (4.38.0)\n",
      "Requirement already satisfied: kiwisolver>=1.0.1 in c:\\users\\austin\\appdata\\local\\programs\\python\\python37\\lib\\site-packages (from matplotlib) (1.4.4)\n",
      "Requirement already satisfied: numpy>=1.17 in c:\\users\\austin\\appdata\\local\\programs\\python\\python37\\lib\\site-packages (from matplotlib) (1.18.5)\n",
      "Requirement already satisfied: packaging>=20.0 in c:\\users\\austin\\appdata\\local\\programs\\python\\python37\\lib\\site-packages (from matplotlib) (23.1)\n",
      "Requirement already satisfied: pillow>=6.2.0 in c:\\users\\austin\\appdata\\local\\programs\\python\\python37\\lib\\site-packages (from matplotlib) (9.5.0)\n",
      "Requirement already satisfied: pyparsing>=2.2.1 in c:\\users\\austin\\appdata\\local\\programs\\python\\python37\\lib\\site-packages (from matplotlib) (3.0.9)\n",
      "Requirement already satisfied: python-dateutil>=2.7 in c:\\users\\austin\\appdata\\local\\programs\\python\\python37\\lib\\site-packages (from matplotlib) (2.8.2)\n",
      "Requirement already satisfied: typing-extensions in c:\\users\\austin\\appdata\\local\\programs\\python\\python37\\lib\\site-packages (from kiwisolver>=1.0.1->matplotlib) (4.5.0)\n",
      "Requirement already satisfied: six>=1.5 in c:\\users\\austin\\appdata\\local\\programs\\python\\python37\\lib\\site-packages (from python-dateutil>=2.7->matplotlib) (1.16.0)\n"
     ]
    }
   ],
   "source": [
    "!pip install tensorflow==2.3.0\n",
    "!pip install matplotlib"
   ]
  },
  {
   "cell_type": "markdown",
   "id": "2ef44966",
   "metadata": {},
   "source": [
    "# 導入必備的函式庫"
   ]
  },
  {
   "cell_type": "code",
   "execution_count": 2,
   "id": "baa7d245",
   "metadata": {},
   "outputs": [],
   "source": [
    "import numpy as np \n",
    "import tensorflow.keras\n",
    "from tensorflow.keras.datasets import mnist\n",
    "from tensorflow.keras.models import Sequential \n",
    "from tensorflow.keras.layers import Dense, Activation\n",
    "from tensorflow.keras.utils import to_categorical \n",
    "import matplotlib.pyplot as plt "
   ]
  },
  {
   "cell_type": "markdown",
   "id": "377751d6",
   "metadata": {},
   "source": [
    "# 讀取MNIST手寫辨識資料集"
   ]
  },
  {
   "cell_type": "code",
   "execution_count": 3,
   "id": "4cfb173b",
   "metadata": {},
   "outputs": [
    {
     "name": "stdout",
     "output_type": "stream",
     "text": [
      "Train Features Shape: (60000, 28, 28) labels Shape: (60000,)\n",
      "Valid Features Shape: (10000, 28, 28) labels Shape: (10000,)\n"
     ]
    }
   ],
   "source": [
    "(x_train, y_train), (x_valid, y_valid) = mnist.load_data() \n",
    "print('Train Features Shape:', x_train.shape, 'labels Shape:', y_train.shape)\n",
    "print('Valid Features Shape:', x_valid.shape, 'labels Shape:', y_valid.shape)"
   ]
  },
  {
   "cell_type": "markdown",
   "id": "1f315911",
   "metadata": {},
   "source": [
    "# 顯示第0筆資料"
   ]
  },
  {
   "cell_type": "code",
   "execution_count": 4,
   "id": "9e6e8c29",
   "metadata": {},
   "outputs": [
    {
     "name": "stdout",
     "output_type": "stream",
     "text": [
      "Label: 5\n"
     ]
    },
    {
     "data": {
      "image/png": "[encoded data removed]",
      "text/plain": [
       "<Figure size 200x200 with 1 Axes>"
      ]
     },
     "metadata": {},
     "output_type": "display_data"
    }
   ],
   "source": [
    "print('Label:', y_train[0])\n",
    "plt.figure(figsize=(2,2))\n",
    "plt.imshow(x_train[0])\n",
    "plt.show()"
   ]
  },
  {
   "cell_type": "markdown",
   "id": "a980a7aa",
   "metadata": {},
   "source": [
    "# 資料前處理(Data Preprocessing)"
   ]
  },
  {
   "cell_type": "code",
   "execution_count": 5,
   "id": "9396dc5b",
   "metadata": {},
   "outputs": [
    {
     "name": "stdout",
     "output_type": "stream",
     "text": [
      "Train Features Shape: (60000, 784) labels Shape: (60000, 10)\n",
      "Valid Features Shape: (10000, 784) labels Shape: (10000, 10)\n"
     ]
    }
   ],
   "source": [
    "# 將28 x 28 攤平為 784\n",
    "reshape_train = x_train.reshape(x_train.shape[0], -1)\n",
    "reshape_valid = x_valid.reshape(x_valid.shape[0], -1)\n",
    "\n",
    "# 資料正規化(將0~255縮放為0~1)\n",
    "norm_train = reshape_train/255\n",
    "norm_valid = reshape_valid/255\n",
    "\n",
    "# One-hot encoding\n",
    "onehot_train = to_categorical(y_train)\n",
    "onehot_valid = to_categorical(y_valid)\n",
    "\n",
    "\n",
    "print('Train Features Shape:', reshape_train.shape, 'labels Shape:', onehot_train.shape)\n",
    "print('Valid Features Shape:', reshape_valid.shape, 'labels Shape:', onehot_valid.shape)"
   ]
  },
  {
   "cell_type": "markdown",
   "id": "6495403f",
   "metadata": {},
   "source": [
    "# 建立DNN模型\n",
    "名稱 | 神經元數量 | 激勵函數\n",
    ":---: | :---: | :---:\n",
    "輸入層 | 784 | 無\n",
    "隱藏層 | 256 | ReLU\n",
    "隱藏層 | 128 | ReLU\n",
    "輸出層 | 10 |  Softmax\n",
    "\n"
   ]
  },
  {
   "cell_type": "code",
   "execution_count": 6,
   "id": "e8d23fd6",
   "metadata": {},
   "outputs": [],
   "source": [
    "# 建立模型\n",
    "model = Sequential()\n",
    "# 輸入層與隱藏層\n",
    "model.add(Dense(units=256,input_dim=784, activation='relu'))\n",
    "# 隱藏層\n",
    "model.add(Dense(units=128, activation='relu'))\n",
    "# 輸出層\n",
    "model.add(Dense(units=10,activation='softmax')) # 分類任務通常都使用softmax"
   ]
  },
  {
   "cell_type": "markdown",
   "id": "de518274",
   "metadata": {},
   "source": [
    "# 建立損失函數與優化器"
   ]
  },
  {
   "cell_type": "code",
   "execution_count": 8,
   "id": "d08dff26",
   "metadata": {},
   "outputs": [],
   "source": [
    "model.compile(loss='categorical_crossentropy', # 分類任務選擇交叉熵作為Loss function\n",
    "              optimizer='adam',  # 最常使用優化器\n",
    "              metrics=['accuracy']) # 顯示模式(顯示準確率)"
   ]
  },
  {
   "cell_type": "markdown",
   "id": "9ca33043",
   "metadata": {},
   "source": [
    "# 開始訓練模型"
   ]
  },
  {
   "cell_type": "code",
   "execution_count": 9,
   "id": "5790d258",
   "metadata": {},
   "outputs": [
    {
     "name": "stdout",
     "output_type": "stream",
     "text": [
      "Epoch 1/10\n",
      "469/469 [==============================] - 1s 3ms/step - loss: 2.5734 - accuracy: 0.8754 - val_loss: 0.5917 - val_accuracy: 0.9165\n",
      "Epoch 2/10\n",
      "469/469 [==============================] - 1s 2ms/step - loss: 0.3608 - accuracy: 0.9356 - val_loss: 0.3451 - val_accuracy: 0.9354\n",
      "Epoch 3/10\n",
      "469/469 [==============================] - 1s 2ms/step - loss: 0.1894 - accuracy: 0.9559 - val_loss: 0.2407 - val_accuracy: 0.9480\n",
      "Epoch 4/10\n",
      "469/469 [==============================] - 1s 2ms/step - loss: 0.1407 - accuracy: 0.9635 - val_loss: 0.2058 - val_accuracy: 0.9555\n",
      "Epoch 5/10\n",
      "469/469 [==============================] - 1s 2ms/step - loss: 0.1039 - accuracy: 0.9716 - val_loss: 0.2065 - val_accuracy: 0.9588\n",
      "Epoch 6/10\n",
      "469/469 [==============================] - 1s 2ms/step - loss: 0.0892 - accuracy: 0.9749 - val_loss: 0.2104 - val_accuracy: 0.9592\n",
      "Epoch 7/10\n",
      "469/469 [==============================] - 1s 2ms/step - loss: 0.0895 - accuracy: 0.9746 - val_loss: 0.1982 - val_accuracy: 0.9555\n",
      "Epoch 8/10\n",
      "469/469 [==============================] - 1s 2ms/step - loss: 0.0859 - accuracy: 0.9759 - val_loss: 0.1836 - val_accuracy: 0.9674\n",
      "Epoch 9/10\n",
      "469/469 [==============================] - 1s 2ms/step - loss: 0.0723 - accuracy: 0.9789 - val_loss: 0.1885 - val_accuracy: 0.9617\n",
      "Epoch 10/10\n",
      "469/469 [==============================] - 1s 2ms/step - loss: 0.0656 - accuracy: 0.9809 - val_loss: 0.2025 - val_accuracy: 0.9575\n"
     ]
    }
   ],
   "source": [
    "history = model.fit(reshape_train, # 訓練資料\n",
    "                    onehot_train, # 訓練標籤\n",
    "                    batch_size=128, #一次丟入多少資料訓練資料\n",
    "                    epochs=10, # 訓練次數\n",
    "                    verbose=1, # 顯示模式 0 = 不顯示, 1 = 進度條, 2 = 只顯示每行結果\n",
    "                    validation_data=(reshape_valid, onehot_valid)) # 驗證數據集"
   ]
  },
  {
   "cell_type": "code",
   "execution_count": null,
   "id": "0b8fd8f4",
   "metadata": {},
   "outputs": [],
   "source": []
  }
 ],
 "metadata": {
  "kernelspec": {
   "display_name": "Python 3 (ipykernel)",
   "language": "python",
   "name": "python3"
  },
  "language_info": {
   "codemirror_mode": {
    "name": "ipython",
    "version": 3
   },
   "file_extension": ".py",
   "mimetype": "text/x-python",
   "name": "python",
   "nbconvert_exporter": "python",
   "pygments_lexer": "ipython3",
   "version": "3.7.8"
  }
 },
 "nbformat": 4,
 "nbformat_minor": 5
}
