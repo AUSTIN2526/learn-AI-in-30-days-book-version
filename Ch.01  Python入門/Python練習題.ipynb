{
 "cells": [
  {
   "cell_type": "markdown",
   "id": "7b59cdc0",
   "metadata": {},
   "source": [
    "# 初學者練習題：\n",
    "\n",
    "1. 印出 \"Hello, World!\"。\n",
    "2. 計算並印出 1 到 10 的總和。\n",
    "3. 撰寫一個程式，接受使用者輸入的名字並印出 \"你好，名字！\"。\n",
    "4. 撰寫一個程式，計算並印出給定半徑的圓面積。\n",
    "5. 撰寫一個程式，找出列表中所有的偶數。\n",
    "6. 撰寫一個程式，將兩個列表合併成一個新的列表。\n",
    "7. 撰寫一個程式，反轉一個字串。\n",
    "8. 撰寫一個猜數字遊戲，生成一個隨機數字，讓使用者猜測直到猜中為止。"
   ]
  },
  {
   "cell_type": "code",
   "execution_count": null,
   "id": "d2dbcb98",
   "metadata": {},
   "outputs": [],
   "source": [
    "print(\"Hello, World!\")"
   ]
  },
  {
   "cell_type": "code",
   "execution_count": null,
   "id": "3d635d72",
   "metadata": {},
   "outputs": [],
   "source": [
    "total = sum(range(1, 11))\n",
    "print(\"1 到 10 的總和:\", total)"
   ]
  },
  {
   "cell_type": "code",
   "execution_count": null,
   "id": "e4e2ea43",
   "metadata": {},
   "outputs": [],
   "source": [
    "name = input(\"請輸入你的名字：\")\n",
    "print(\"你好，\" + name + \"！\")"
   ]
  },
  {
   "cell_type": "code",
   "execution_count": null,
   "id": "fc6ebabb",
   "metadata": {},
   "outputs": [],
   "source": [
    "import math\n",
    "\n",
    "radius = float(input(\"請輸入圓的半徑：\"))\n",
    "area = math.pi * radius ** 2\n",
    "print(\"圓的面積:\", area)"
   ]
  },
  {
   "cell_type": "code",
   "execution_count": null,
   "id": "87f7ceb2",
   "metadata": {},
   "outputs": [],
   "source": [
    "numbers = [1, 2, 3, 4, 5, 6, 7, 8, 9, 10]\n",
    "even_numbers = [num for num in numbers if num % 2 == 0]\n",
    "print(\"偶數列表:\", even_numbers)"
   ]
  },
  {
   "cell_type": "code",
   "execution_count": null,
   "id": "f436dc54",
   "metadata": {},
   "outputs": [],
   "source": [
    "list1 = [1, 2, 3]\n",
    "list2 = [4, 5, 6]\n",
    "merged_list = list1 + list2\n",
    "print(\"合併後的列表:\", merged_list)"
   ]
  },
  {
   "cell_type": "code",
   "execution_count": null,
   "id": "07c53740",
   "metadata": {},
   "outputs": [],
   "source": [
    "input_str = input(\"請輸入一個字串：\")\n",
    "reversed_str = input_str[::-1]\n",
    "print(\"反轉後的字串:\", reversed_str)"
   ]
  },
  {
   "cell_type": "code",
   "execution_count": null,
   "id": "e331f069",
   "metadata": {},
   "outputs": [],
   "source": [
    "import random\n",
    "\n",
    "target_number = random.randint(1, 100)\n",
    "guess = None\n",
    "attempts = 0\n",
    "\n",
    "while guess != target_number:\n",
    "    guess = int(input(\"請猜一個數字（1 到 100）：\"))\n",
    "    attempts += 1\n",
    "    if guess < target_number:\n",
    "        print(\"猜的數字太小了！\")\n",
    "    elif guess > target_number:\n",
    "        print(\"猜的數字太大了！\")\n",
    "\n",
    "print(\"恭喜！你猜對了，答案是\", target_number)\n",
    "print(\"你總共猜了\", attempts, \"次\")\n"
   ]
  },
  {
   "cell_type": "markdown",
   "id": "89a9ec20",
   "metadata": {},
   "source": [
    "# 中級練習題：\n",
    "1. 撰寫一個函式，接受一個列表並返回其中的最大和最小值。\n",
    "2. 撰寫一個函式，判斷一個字串是否是回文（正讀和倒讀都一樣）。\n",
    "3. 實現一個簡單的待辦事項清單應用，可以新增、刪除和列出事項。(Class寫法)\n",
    "4. 實現一個簡單的計算機函式，支援加、減、乘、除四則運算。\n",
    "5. 撰寫一個函式，接受一個數字參數，返回費波那契數列中對應位置的數值。\n",
    "6. 創建一個猜單詞遊戲，從單詞列表中隨機選擇一個單詞，讓玩家猜測。(可猜測單一字元 EX:梨子可以猜梨 此時系統要顯示\"梨_\")\n",
    "7. 撰寫一個程式，計算給定數字的階乘。"
   ]
  },
  {
   "cell_type": "code",
   "execution_count": null,
   "id": "06530cf1",
   "metadata": {},
   "outputs": [],
   "source": [
    "def find_min_max(numbers):\n",
    "    if not numbers:\n",
    "        return None, None\n",
    "    min_value = min(numbers)\n",
    "    max_value = max(numbers)\n",
    "    return min_value, max_value\n",
    "\n",
    "num_list = [5, 2, 9, 1, 7]\n",
    "min_val, max_val = find_min_max(num_list)\n",
    "print(f\"最小值: {min_val}, 最大值: {max_val}\")"
   ]
  },
  {
   "cell_type": "code",
   "execution_count": null,
   "id": "234c6e79",
   "metadata": {},
   "outputs": [],
   "source": [
    "def is_palindrome(string):\n",
    "    return string == string[::-1]\n",
    "\n",
    "word = \"radar\"\n",
    "if is_palindrome(word):\n",
    "    print(f\"{word} 是回文\")\n",
    "else:\n",
    "    print(f\"{word} 不是回文\")\n"
   ]
  },
  {
   "cell_type": "code",
   "execution_count": null,
   "id": "d6cbf0ab",
   "metadata": {},
   "outputs": [],
   "source": [
    "class TodoList:\n",
    "    def __init__(self):\n",
    "        self.tasks = []\n",
    "\n",
    "    def add_task(self, task):\n",
    "        self.tasks.append(task)\n",
    "\n",
    "    def remove_task(self, task):\n",
    "        if task in self.tasks:\n",
    "            self.tasks.remove(task)\n",
    "\n",
    "    def list_tasks(self):\n",
    "        for idx, task in enumerate(self.tasks, start=1):\n",
    "            print(f\"{idx}. {task}\")\n",
    "\n",
    "todo_list = TodoList()\n",
    "todo_list.add_task(\"買食材\")\n",
    "todo_list.add_task(\"完成作業\")\n",
    "todo_list.add_task(\"去健身房\")\n",
    "todo_list.list_tasks()\n",
    "\n",
    "print('\\n移除完成作業')\n",
    "todo_list.remove_task(\"完成作業\")\n",
    "todo_list.list_tasks()"
   ]
  },
  {
   "cell_type": "code",
   "execution_count": null,
   "id": "5a388f31",
   "metadata": {},
   "outputs": [],
   "source": [
    "def add(x, y):\n",
    "    return x + y\n",
    "\n",
    "def subtract(x, y):\n",
    "    return x - y\n",
    "\n",
    "def multiply(x, y):\n",
    "    return x * y\n",
    "\n",
    "def divide(x, y):\n",
    "    if y != 0:\n",
    "        return x / y\n",
    "    else:\n",
    "        return \"Cannot divide by zero\"\n",
    "\n",
    "num1 = 10\n",
    "num2 = 5\n",
    "print(\"加法:\", add(num1, num2))\n",
    "print(\"減法:\", subtract(num1, num2))\n",
    "print(\"乘法:\", multiply(num1, num2))\n",
    "print(\"除法:\", divide(num1, num2))"
   ]
  },
  {
   "cell_type": "code",
   "execution_count": null,
   "id": "4116c27f",
   "metadata": {},
   "outputs": [],
   "source": [
    "def fibonacci(n):\n",
    "    if n <= 0:\n",
    "        return []\n",
    "    elif n == 1:\n",
    "        return [0]\n",
    "    elif n == 2:\n",
    "        return [0, 1]\n",
    "    else:\n",
    "        fib_series = [0, 1]\n",
    "        for i in range(2, n):\n",
    "            fib_series.append(fib_series[i - 1] + fib_series[i - 2])\n",
    "        return fib_series\n",
    "\n",
    "position = 10\n",
    "fibonacci_sequence = fibonacci(position)\n",
    "print(f\"費波那契數列{position}對應的數值: {fibonacci_sequence}\")"
   ]
  },
  {
   "cell_type": "code",
   "execution_count": null,
   "id": "660b8aa8",
   "metadata": {},
   "outputs": [],
   "source": [
    "import random\n",
    "\n",
    "def choose_random_word(word_list):\n",
    "    return random.choice(word_list)\n",
    "\n",
    "def play_game():\n",
    "    word_list = [\"蘋果\", \"香蕉\", \"橘子\", \"草莓\", \"葡萄\", \"梨子\"]\n",
    "    selected_word = choose_random_word(word_list)\n",
    "    guessed_word = [\"_\"] * len(selected_word)\n",
    "    attempts = 6\n",
    "\n",
    "    print(\"歡迎來到猜單詞遊戲！\")\n",
    "    print(\" \".join(guessed_word))\n",
    "\n",
    "    while attempts > 0:\n",
    "        guess = input(\"請猜一個字母或整個單詞：\").strip()\n",
    "\n",
    "        if len(guess) == 1:  # 猜單個字母\n",
    "            if guess in selected_word:\n",
    "                for i in range(len(selected_word)):\n",
    "                    if selected_word[i] == guess:\n",
    "                        guessed_word[i] = guess\n",
    "                print(\" \".join(guessed_word))\n",
    "                if \"_\" not in guessed_word:\n",
    "                    print(\"恭喜你，你猜對了！單詞是\", selected_word)\n",
    "                    break\n",
    "            else:\n",
    "                attempts -= 1\n",
    "                print(\"猜錯了！還有\", attempts, \"次機會。\")\n",
    "        else:  # 猜整個單詞\n",
    "            if guess == selected_word:\n",
    "                print(\"恭喜你，你猜對了！單詞是\", selected_word)\n",
    "                break\n",
    "            else:\n",
    "                attempts -= 1\n",
    "                print(\"猜錯了！還有\", attempts, \"次機會。\")\n",
    "\n",
    "    if attempts == 0:\n",
    "        print(\"遊戲結束，你沒有猜中。單詞是\", selected_word)\n",
    "\n",
    "if __name__ == \"__main__\":\n",
    "    play_game()\n"
   ]
  },
  {
   "cell_type": "code",
   "execution_count": null,
   "id": "fd51b66d",
   "metadata": {},
   "outputs": [],
   "source": [
    "def factorial(n):\n",
    "    if n == 0 or n == 1:\n",
    "        return 1\n",
    "    else:\n",
    "        return n * factorial(n - 1)\n",
    "\n",
    "number = 5\n",
    "result = factorial(number)\n",
    "print(f\"{number}階算結果是:{result}\")"
   ]
  }
 ],
 "metadata": {
  "kernelspec": {
   "display_name": "Python 3 (ipykernel)",
   "language": "python",
   "name": "python3"
  },
  "language_info": {
   "codemirror_mode": {
    "name": "ipython",
    "version": 3
   },
   "file_extension": ".py",
   "mimetype": "text/x-python",
   "name": "python",
   "nbconvert_exporter": "python",
   "pygments_lexer": "ipython3",
   "version": "3.7.8"
  }
 },
 "nbformat": 4,
 "nbformat_minor": 5
}
