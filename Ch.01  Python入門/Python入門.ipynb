{
 "cells": [
  {
   "cell_type": "markdown",
   "id": "bf513b5e",
   "metadata": {},
   "source": [
    "# 1. Python的資料型態"
   ]
  },
  {
   "cell_type": "markdown",
   "id": "4f9bdc8b",
   "metadata": {},
   "source": [
    "## 數值型態"
   ]
  },
  {
   "cell_type": "code",
   "execution_count": 1,
   "id": "aae31a1c",
   "metadata": {},
   "outputs": [
    {
     "name": "stdout",
     "output_type": "stream",
     "text": [
      "變數a: 4.6 變數b: 0 變數c: (2+3j)\n"
     ]
    }
   ],
   "source": [
    "a = 2 * 2.3                                # int * float\n",
    "b = 2 * False                              # int * bool\n",
    "c = 2 * 1 + 3j                             # int * complex\n",
    "print('變數a:', a, '變數b:', b, '變數c:', c)"
   ]
  },
  {
   "cell_type": "markdown",
   "id": "80f899b3",
   "metadata": {},
   "source": [
    "## 字串型態"
   ]
  },
  {
   "cell_type": "code",
   "execution_count": 2,
   "id": "216e079f",
   "metadata": {},
   "outputs": [
    {
     "name": "stdout",
     "output_type": "stream",
     "text": [
      "變數a: 你好你好 變數b: 你好你好嗎?\n"
     ]
    }
   ],
   "source": [
    "a = '你好' * 2     # str * int\n",
    "b = a + '嗎?'     # str +str\n",
    "print('變數a:', a, '變數b:', b)"
   ]
  },
  {
   "cell_type": "code",
   "execution_count": 3,
   "id": "206f07d0",
   "metadata": {},
   "outputs": [
    {
     "name": "stdout",
     "output_type": "stream",
     "text": [
      "變數a: 想\n"
     ]
    }
   ],
   "source": [
    "# 字串型態取特定字元\n",
    "a = '你想要學習程式嗎?'\n",
    "print('變數a:', a[1]) #取得第二個字元"
   ]
  },
  {
   "cell_type": "markdown",
   "id": "5ecce469",
   "metadata": {},
   "source": [
    "## 容器型態"
   ]
  },
  {
   "cell_type": "code",
   "execution_count": 4,
   "id": "da65da9a",
   "metadata": {},
   "outputs": [
    {
     "name": "stdout",
     "output_type": "stream",
     "text": [
      "Tuple: 1 List: 1 Set: {1, 3, 5, 7, 9} Dict: 1\n"
     ]
    }
   ],
   "source": [
    "my_tuple = (1, 3, 5, 7, 9)         # 元組\n",
    "my_list = [1, 3, 5, 7, 9]          # 列表\n",
    "my_set = {1, 3, 5, 7, 9}           # 集合\n",
    "my_dict = {'x':1, 'y':2}           # 字典\n",
    "print('Tuple:', my_tuple[0],'List:', my_list[0], 'Set:', my_set, 'Dict:', my_dict['x'])"
   ]
  },
  {
   "cell_type": "code",
   "execution_count": 5,
   "id": "45ec0845",
   "metadata": {},
   "outputs": [
    {
     "name": "stdout",
     "output_type": "stream",
     "text": [
      "1 10\n",
      "<class 'list'> <class 'list'>\n"
     ]
    }
   ],
   "source": [
    "# 特殊容器型態取值與修改\n",
    "my_tuple = (1, 3, 5, 7, 9)\n",
    "my_set = {1, 3, 5, 7 ,9}\n",
    "set_to_list = list(my_set)       # 將集合轉換成列表\n",
    "tuple_to_list = list(my_tuple)   # 將元祖轉換成列表\n",
    "tuple_to_list[0] = 10            # 修改0個元素\n",
    "\n",
    "print(set_to_list[0], tuple_to_list[0]) \n",
    "print(type(set_to_list), type(tuple_to_list))\n"
   ]
  },
  {
   "cell_type": "markdown",
   "id": "2ba674d6",
   "metadata": {},
   "source": [
    "# 2. 變數與記憶體空間"
   ]
  },
  {
   "cell_type": "markdown",
   "id": "2fef728d",
   "metadata": {},
   "source": [
    "## 指派變數"
   ]
  },
  {
   "cell_type": "code",
   "execution_count": 6,
   "id": "0f16efb3",
   "metadata": {},
   "outputs": [],
   "source": [
    "A = 5            # 將整數型態指派變數A中\n",
    "B = 'Python'     # 將字串型態指派變數B中\n",
    "C = True         # 將布林型態指派變數C中"
   ]
  },
  {
   "cell_type": "code",
   "execution_count": 7,
   "id": "e490c46b",
   "metadata": {},
   "outputs": [
    {
     "name": "stdout",
     "output_type": "stream",
     "text": [
      "True\n"
     ]
    }
   ],
   "source": [
    "# 指派過後記憶體位子會相同\n",
    "A = 5  \n",
    "B = A\n",
    "C = B\n",
    "print( A is C)   #判斷記憶體位子是否相同"
   ]
  },
  {
   "cell_type": "markdown",
   "id": "62029e32",
   "metadata": {},
   "source": [
    "##  全域與區域變數"
   ]
  },
  {
   "cell_type": "code",
   "execution_count": 8,
   "id": "c0229442",
   "metadata": {},
   "outputs": [
    {
     "name": "stdout",
     "output_type": "stream",
     "text": [
      "在函數中: 1\n"
     ]
    },
    {
     "ename": "NameError",
     "evalue": "name 'local_val' is not defined",
     "output_type": "error",
     "traceback": [
      "\u001b[1;31m---------------------------------------------------------------------------\u001b[0m",
      "\u001b[1;31mNameError\u001b[0m                                 Traceback (most recent call last)",
      "\u001b[1;32m~\\AppData\\Local\\Temp\\ipykernel_10260\\2501617508.py\u001b[0m in \u001b[0;36m<module>\u001b[1;34m\u001b[0m\n\u001b[0;32m      5\u001b[0m \u001b[1;33m\u001b[0m\u001b[0m\n\u001b[0;32m      6\u001b[0m \u001b[0mlocal\u001b[0m\u001b[1;33m(\u001b[0m\u001b[1;33m)\u001b[0m\u001b[1;33m\u001b[0m\u001b[1;33m\u001b[0m\u001b[0m\n\u001b[1;32m----> 7\u001b[1;33m \u001b[0mprint\u001b[0m\u001b[1;33m(\u001b[0m\u001b[1;34m'在主程式中:'\u001b[0m\u001b[1;33m,\u001b[0m \u001b[0mlocal_val\u001b[0m\u001b[1;33m)\u001b[0m \u001b[1;31m# 此行會出錯(因local_val為區域變數)\u001b[0m\u001b[1;33m\u001b[0m\u001b[1;33m\u001b[0m\u001b[0m\n\u001b[0m",
      "\u001b[1;31mNameError\u001b[0m: name 'local_val' is not defined"
     ]
    }
   ],
   "source": [
    "# 區域變數\n",
    "def local():\n",
    "    local_val = 1             # 函數中宣告皆為區域變數\n",
    "    print('在函數中:', local_val)\n",
    "    \n",
    "local()\n",
    "print('在主程式中:', local_val) # 此行會出錯(因local_val為區域變數)"
   ]
  },
  {
   "cell_type": "code",
   "execution_count": null,
   "id": "c3e79270",
   "metadata": {},
   "outputs": [],
   "source": [
    "# 全域變數\n",
    "def local():\n",
    "    print('在函數中:', global_val)\n",
    "\n",
    "global_val = 12    # 主程式中宣告皆為全域變數\n",
    "local()"
   ]
  },
  {
   "cell_type": "markdown",
   "id": "dfbb6fca",
   "metadata": {},
   "source": [
    "## 垃圾回收機制"
   ]
  },
  {
   "cell_type": "code",
   "execution_count": 9,
   "id": "77323336",
   "metadata": {},
   "outputs": [
    {
     "name": "stdout",
     "output_type": "stream",
     "text": [
      "0x27b4381ce48\n",
      "0x27b4392b6c8\n"
     ]
    }
   ],
   "source": [
    "A = [1, 2, 3]\n",
    "print(hex(id(A)))   # 此記憶體稍後會被回收\n",
    "A = [4, 5, 6]\n",
    "print(hex(id(A)))   # 新記憶體位址(原始位址會無效)"
   ]
  },
  {
   "cell_type": "markdown",
   "id": "1a12eb5b",
   "metadata": {},
   "source": [
    "# 3. 運算式、運算子及運算元"
   ]
  },
  {
   "cell_type": "markdown",
   "id": "76103714",
   "metadata": {},
   "source": [
    "## 算術運算子"
   ]
  },
  {
   "cell_type": "code",
   "execution_count": 10,
   "id": "4fa2719d",
   "metadata": {},
   "outputs": [
    {
     "name": "stdout",
     "output_type": "stream",
     "text": [
      "整除: 1 指數: 9 餘數: 1\n",
      "複製字串: 你好你好 字串串聯: 你好Python\n",
      "複製容器: (4, 5, 6, 4, 5, 6) 容器串聯: [1, 2, 3, 4, 5, 6]\n"
     ]
    }
   ],
   "source": [
    "a ,b = 2, 3                                    #數值型態\n",
    "print('整除:',b//a, '指數:', b**2, '餘數:', b%2)\n",
    "\n",
    "a, b = '你好', 'Python'                        #字串型態\n",
    "print('複製字串:', a * 2, '字串串聯:', a + b)\n",
    " \n",
    "a, b = [1, 2, 3], (4, 5, 6)                    #容器形態\n",
    "print('複製容器:', b * 2, '容器串聯:', a + list(b))"
   ]
  },
  {
   "cell_type": "markdown",
   "id": "06760a4c",
   "metadata": {},
   "source": [
    "## 邏輯運算子"
   ]
  },
  {
   "cell_type": "code",
   "execution_count": 11,
   "id": "232e1f8b",
   "metadata": {},
   "outputs": [
    {
     "name": "stdout",
     "output_type": "stream",
     "text": [
      "x and y: False  x or y: True\n",
      "not x and y: False not x or y: False\n",
      "2 and 3: 3\n"
     ]
    }
   ],
   "source": [
    "x ,y = True, False      \n",
    "print('x and y:', x and y,' x or y:', x or y)       \n",
    "print('not x and y:', not x and y,'not x or y:', not x or y)      \n",
    "print('2 and 3:', 2 and 3)      "
   ]
  },
  {
   "cell_type": "markdown",
   "id": "9abfc393",
   "metadata": {},
   "source": [
    "## 比較運算子"
   ]
  },
  {
   "cell_type": "code",
   "execution_count": 12,
   "id": "4608b6cf",
   "metadata": {},
   "outputs": [
    {
     "name": "stdout",
     "output_type": "stream",
     "text": [
      "False True False\n"
     ]
    }
   ],
   "source": [
    "a = (x == y)    \n",
    "b = (x >= y)     \n",
    "c = (x <= 5 <= y)       \n",
    "print(a, b, c)     "
   ]
  },
  {
   "cell_type": "code",
   "execution_count": 13,
   "id": "81fff709",
   "metadata": {},
   "outputs": [
    {
     "name": "stdout",
     "output_type": "stream",
     "text": [
      "True True\n"
     ]
    }
   ],
   "source": [
    "# in與is用法\n",
    "user = {'AUSTIN':[]}\n",
    "b = None\n",
    "print('AUSTIN' in user, b is None)"
   ]
  },
  {
   "cell_type": "markdown",
   "id": "d0226d67",
   "metadata": {},
   "source": [
    "# 4. 判斷式與迴圈"
   ]
  },
  {
   "cell_type": "markdown",
   "id": "427faca4",
   "metadata": {},
   "source": [
    "## if…elif…else"
   ]
  },
  {
   "cell_type": "code",
   "execution_count": 14,
   "id": "dbaf0468",
   "metadata": {},
   "outputs": [
    {
     "name": "stdout",
     "output_type": "stream",
     "text": [
      "執行第一個程式區塊\n",
      "程式執行完畢\n"
     ]
    }
   ],
   "source": [
    "#條件內為True會執行縮排後的程式區塊\n",
    "if True:                                #注意要在最後加入冒號\n",
    "    print('執行第一個程式區塊') \n",
    "print('程式執行完畢')                    #沒有縮排的程式一定會被執行"
   ]
  },
  {
   "cell_type": "code",
   "execution_count": 15,
   "id": "3778516b",
   "metadata": {},
   "outputs": [
    {
     "name": "stdout",
     "output_type": "stream",
     "text": [
      "執行第一個程式區塊\n"
     ]
    }
   ],
   "source": [
    "#巢狀判斷\n",
    "a = 0\n",
    "if a == 0:\n",
    "    print('執行第一個程式區塊')\n",
    "elif a == 1:\n",
    "    print('執行第二個程式區塊')\n",
    "elif a == 2:\n",
    "    print('執行第三個程式區塊')\n",
    "else:\n",
    "    print('以上區塊都尚未被執行時執行此區塊')"
   ]
  },
  {
   "cell_type": "markdown",
   "id": "0cb6bd19",
   "metadata": {},
   "source": [
    "## for迴圈"
   ]
  },
  {
   "cell_type": "code",
   "execution_count": 16,
   "id": "727d285f",
   "metadata": {},
   "outputs": [
    {
     "name": "stdout",
     "output_type": "stream",
     "text": [
      "0 1 2 3 4 5 6 7 8 9 "
     ]
    }
   ],
   "source": [
    "# 基礎用法\n",
    "for i in range(10):     \n",
    "    print(i, end = ' ') "
   ]
  },
  {
   "cell_type": "code",
   "execution_count": 17,
   "id": "13fd98a1",
   "metadata": {},
   "outputs": [
    {
     "name": "stdout",
     "output_type": "stream",
     "text": [
      "1 3 6 4 5 8 2 "
     ]
    }
   ],
   "source": [
    "# 簡易用法\n",
    "a = [1,3,6,4,5,8,2]\n",
    "for i in a:\n",
    "    print(i, end = ' ')"
   ]
  },
  {
   "cell_type": "code",
   "execution_count": 18,
   "id": "b81e5cc7",
   "metadata": {},
   "outputs": [
    {
     "name": "stdout",
     "output_type": "stream",
     "text": [
      "1 3 6 4 5 8 2 "
     ]
    }
   ],
   "source": [
    "# 混和用法\n",
    "a = [1,3,6,4,5,8,2]\n",
    "for i in range(len(a)): # len()會計算出當前的容器或字串的長度\n",
    "    print(a[i], end = ' ')"
   ]
  },
  {
   "cell_type": "markdown",
   "id": "2eb9c75b",
   "metadata": {},
   "source": [
    "## While迴圈"
   ]
  },
  {
   "cell_type": "code",
   "execution_count": 19,
   "id": "bcbf8a20",
   "metadata": {},
   "outputs": [
    {
     "name": "stdout",
     "output_type": "stream",
     "text": [
      "0 1 2 3 4 5 6 7 8 9 "
     ]
    }
   ],
   "source": [
    "# 條件中斷用法\n",
    "cnt = 0\n",
    "while(cnt != 10):\n",
    "    print(cnt, end = ' ')\n",
    "    cnt+=1"
   ]
  },
  {
   "cell_type": "code",
   "execution_count": 20,
   "id": "0c83833c",
   "metadata": {},
   "outputs": [
    {
     "name": "stdout",
     "output_type": "stream",
     "text": [
      "0 1 2 3 4 5 6 7 8 9 "
     ]
    }
   ],
   "source": [
    "# 永久迴圈用法\n",
    "cnt = 0  # 注意要宣告出值因為+=不會宣告\n",
    "while(True):\n",
    "    if cnt == 10:\n",
    "        break\n",
    "    print(cnt, end = ' ')\n",
    "    cnt+=1"
   ]
  },
  {
   "cell_type": "code",
   "execution_count": 21,
   "id": "d919b40c",
   "metadata": {},
   "outputs": [
    {
     "name": "stdout",
     "output_type": "stream",
     "text": [
      "3\n"
     ]
    },
    {
     "ename": "NameError",
     "evalue": "name 'local_c' is not defined",
     "output_type": "error",
     "traceback": [
      "\u001b[1;31m---------------------------------------------------------------------------\u001b[0m",
      "\u001b[1;31mNameError\u001b[0m                                 Traceback (most recent call last)",
      "\u001b[1;32m~\\AppData\\Local\\Temp\\ipykernel_10260\\3997311853.py\u001b[0m in \u001b[0;36m<module>\u001b[1;34m\u001b[0m\n\u001b[0;32m      4\u001b[0m \u001b[1;33m\u001b[0m\u001b[0m\n\u001b[0;32m      5\u001b[0m \u001b[0mprint\u001b[0m\u001b[1;33m(\u001b[0m\u001b[0mtwo_sun\u001b[0m\u001b[1;33m(\u001b[0m\u001b[1;36m1\u001b[0m\u001b[1;33m,\u001b[0m \u001b[1;36m2\u001b[0m\u001b[1;33m)\u001b[0m\u001b[1;33m)\u001b[0m               \u001b[1;31m# 使用函數\u001b[0m\u001b[1;33m\u001b[0m\u001b[1;33m\u001b[0m\u001b[0m\n\u001b[1;32m----> 6\u001b[1;33m \u001b[0mprint\u001b[0m\u001b[1;33m(\u001b[0m\u001b[0mlocal_c\u001b[0m\u001b[1;33m)\u001b[0m                     \u001b[1;31m# 此行出錯，再次注意函數中的變數為區域變數\u001b[0m\u001b[1;33m\u001b[0m\u001b[1;33m\u001b[0m\u001b[0m\n\u001b[0m",
      "\u001b[1;31mNameError\u001b[0m: name 'local_c' is not defined"
     ]
    }
   ],
   "source": [
    "def two_sun(a, b):                 # def 名稱(傳入的參數)\n",
    "    local_c = a + b                # 函數的實際內容\n",
    "    return local_c                 # return 回傳值\n",
    "\n",
    "print(two_sun(1, 2))               # 使用函數\n",
    "print(local_c)                     # 此行出錯，再次注意函數中的變數為區域變數"
   ]
  },
  {
   "cell_type": "markdown",
   "id": "bfe1e3d7",
   "metadata": {},
   "source": [
    "# 5. 類別"
   ]
  },
  {
   "cell_type": "code",
   "execution_count": 22,
   "id": "5428f00e",
   "metadata": {},
   "outputs": [
    {
     "name": "stdout",
     "output_type": "stream",
     "text": [
      "1\n",
      "1\n"
     ]
    }
   ],
   "source": [
    "a = '你好'          # 宣告類別為str\n",
    "print(a.find('好')) # 取得'好'這個字的索引\n",
    "\n",
    "\n",
    "## 等同於\n",
    "class StringIndexFinder:\n",
    "    def __init__(self, main_string):\n",
    "        self.main_string = main_string\n",
    "\n",
    "    def find(self, sub_string):\n",
    "        return self.main_string.find(sub_string)\n",
    "\n",
    "a = StringIndexFinder('你好')\n",
    "print(a.find('好'))"
   ]
  },
  {
   "cell_type": "code",
   "execution_count": 23,
   "id": "f5605761",
   "metadata": {},
   "outputs": [
    {
     "name": "stdout",
     "output_type": "stream",
     "text": [
      "austin:100\n"
     ]
    }
   ],
   "source": [
    "class Student:\n",
    "    def __init__(self, name, score):           # 建構式(Constructor)\n",
    "        self.name = name                       # 屬性(Attribute)\n",
    "        self.score = score  \n",
    "    def print_info(self):                      # 方法(Method)\n",
    "        print(f\"{self.name}:{self.score}\")\n",
    "        \n",
    "\n",
    "people = Student('austin',100)                 # 傳入建構式\n",
    "people.print_info()                            # 使用方法\n"
   ]
  },
  {
   "cell_type": "markdown",
   "id": "fa0d4329",
   "metadata": {},
   "source": [
    "# 6. 特殊用法"
   ]
  },
  {
   "cell_type": "markdown",
   "id": "e56a1586",
   "metadata": {},
   "source": [
    "## 6.1 字串型態"
   ]
  },
  {
   "cell_type": "code",
   "execution_count": 24,
   "id": "d45fc811",
   "metadata": {},
   "outputs": [
    {
     "name": "stdout",
     "output_type": "stream",
     "text": [
      "hello, world!\n",
      "HELLO, WORLD!\n",
      "Hello, world!\n",
      "Hella, warld!\n",
      "True\n",
      "True\n"
     ]
    }
   ],
   "source": [
    "s = \"Hello, world!\"\n",
    "print(s.lower())      # 轉換為小寫: hello, world!\n",
    "print(s.upper())      # 轉換為大寫: HELLO, WORLD!\n",
    "print(s.strip(''))      # 根據''中的內容去首尾資料\n",
    "print(s.replace('o', 'a'))  # 替换字元: Hella, warld!\n",
    "print(s.startswith(\"Hello\"))  # 是否以\"Hello\"開頭: True\n",
    "print(s.endswith(\"world!\"))   # 是否以\"world!\"结尾: True"
   ]
  },
  {
   "cell_type": "markdown",
   "id": "384ba831",
   "metadata": {},
   "source": [
    "### 字串切片"
   ]
  },
  {
   "cell_type": "code",
   "execution_count": 25,
   "id": "55832ef4",
   "metadata": {},
   "outputs": [
    {
     "name": "stdout",
     "output_type": "stream",
     "text": [
      "Hello\n",
      "world!\n"
     ]
    }
   ],
   "source": [
    "# s[start:end:step] (同range參數順序)\n",
    "s = \"Hello, world!\"\n",
    "print(s[0:5])  # 輸出: Hello\n",
    "print(s[7:])   # 輸出: world!"
   ]
  },
  {
   "cell_type": "markdown",
   "id": "218072cf",
   "metadata": {},
   "source": [
    "### 字串長度"
   ]
  },
  {
   "cell_type": "code",
   "execution_count": 26,
   "id": "c2916e38",
   "metadata": {},
   "outputs": [
    {
     "name": "stdout",
     "output_type": "stream",
     "text": [
      "6\n"
     ]
    }
   ],
   "source": [
    "s = \"Python\"\n",
    "length = len(s)\n",
    "print(length)  # 输出: 6"
   ]
  },
  {
   "cell_type": "markdown",
   "id": "c4c9c592",
   "metadata": {},
   "source": [
    "### 字串切割與連接"
   ]
  },
  {
   "cell_type": "code",
   "execution_count": 27,
   "id": "6e7936fc",
   "metadata": {},
   "outputs": [
    {
     "name": "stdout",
     "output_type": "stream",
     "text": [
      "apple-banana-orange\n"
     ]
    }
   ],
   "source": [
    "s = \"apple,banana,orange\"\n",
    "fruits_list = s.split(',')  # 切割成列表: ['apple', 'banana', 'orange']\n",
    "new_string = '-'.join(fruits_list)  # 使用'-'連接列表元素: apple-banana-orange(此時變回字串)\n",
    "print(new_string)"
   ]
  },
  {
   "cell_type": "markdown",
   "id": "75178e06",
   "metadata": {},
   "source": [
    "### 查詢字串索引"
   ]
  },
  {
   "cell_type": "code",
   "execution_count": 28,
   "id": "13586539",
   "metadata": {},
   "outputs": [
    {
     "name": "stdout",
     "output_type": "stream",
     "text": [
      "7\n"
     ]
    }
   ],
   "source": [
    "s = \"Python programming\"\n",
    "index = s.find(\"pro\")  # 查找子字符串的索引位置\n",
    "print(index)  # 输出: 7"
   ]
  },
  {
   "cell_type": "markdown",
   "id": "a653b426",
   "metadata": {},
   "source": [
    "### 字符串检查"
   ]
  },
  {
   "cell_type": "code",
   "execution_count": 29,
   "id": "997614b5",
   "metadata": {},
   "outputs": [
    {
     "name": "stdout",
     "output_type": "stream",
     "text": [
      "False\n",
      "False\n",
      "True\n"
     ]
    }
   ],
   "source": [
    "s = \"Python123\"\n",
    "print(s.isalpha())  # 是否只包含字母: False\n",
    "print(s.isdigit())  # 是否只包含數字: False\n",
    "print(s.isalnum())  # 是否只包含字母和g數字: True"
   ]
  },
  {
   "cell_type": "markdown",
   "id": "765bd4ee",
   "metadata": {},
   "source": [
    "## 6.2 列表型態"
   ]
  },
  {
   "cell_type": "code",
   "execution_count": 30,
   "id": "bc50e99a",
   "metadata": {},
   "outputs": [],
   "source": [
    "# 創建列表\n",
    "empty_list = []                       # 宣告空陣列(通常是後續才會加入)\n",
    "num_list = [1, 2, 3, 4, 5]            # 直接宣告陣列與元素\n",
    "mixed_list = [1, \"apple\", True, 3.14] # 元素可混合使用\n",
    "\n",
    "#字串切片(同字串用法)\n",
    "first_item = num_list[0]\n",
    "last_item = num_list[-1] #-1為最後一個元素\n",
    "sub_list = num_list[1:4]\n",
    "reversed_list = num_list[::-1]  # 反轉寫法\n",
    "\n",
    "# 修改元素\n",
    "num_list[0] = 10"
   ]
  },
  {
   "cell_type": "markdown",
   "id": "3253f718",
   "metadata": {},
   "source": [
    "### 添加列表"
   ]
  },
  {
   "cell_type": "code",
   "execution_count": 31,
   "id": "ae0d9b86",
   "metadata": {},
   "outputs": [
    {
     "name": "stdout",
     "output_type": "stream",
     "text": [
      "[1, 2, 3, 4, 5, [7, 8, 9]]\n",
      "[1, 2, 3, 4, 5, 7, 8, 9]\n",
      "[0, 1, 2, 3, 4, 5]\n"
     ]
    }
   ],
   "source": [
    "num_list = [1, 2, 3, 4, 5]\n",
    "num_list.append([7, 8, 9])   # 會將輸入視為一個元素\n",
    "print(num_list)\n",
    "\n",
    "num_list = [1, 2, 3, 4, 5]\n",
    "num_list.extend([7, 8, 9])   # 會將列表資料分開存入\n",
    "print(num_list)\n",
    "\n",
    "num_list = [1, 2, 3, 4, 5]   \n",
    "num_list.insert(0, 0)         # 指定插入位子與資料\n",
    "print(num_list)"
   ]
  },
  {
   "cell_type": "markdown",
   "id": "819c52c1",
   "metadata": {},
   "source": [
    "### 刪除列表"
   ]
  },
  {
   "cell_type": "code",
   "execution_count": 32,
   "id": "aed94091",
   "metadata": {},
   "outputs": [
    {
     "name": "stdout",
     "output_type": "stream",
     "text": [
      "[1, 2, 4, 5]\n",
      "3 [1, 2, 4, 5]\n",
      "[2, 3, 4, 5]\n"
     ]
    }
   ],
   "source": [
    "num_list = [1, 2, 3, 4, 5]\n",
    "num_list.remove(3)              # 刪除3這個元素\n",
    "print(num_list)\n",
    "\n",
    "num_list = [1, 2, 3, 4, 5]\n",
    "removed_item = num_list.pop(2)  # 刪除第二個元素同時被刪除值\n",
    "print(removed_item, num_list)\n",
    "\n",
    "num_list = [1, 2, 3, 4, 5]\n",
    "del num_list[0]                 # 直接刪除第零個元素的記憶體位子\n",
    "print(num_list)"
   ]
  },
  {
   "cell_type": "markdown",
   "id": "e11cab51",
   "metadata": {},
   "source": [
    "### 排序與反轉"
   ]
  },
  {
   "cell_type": "code",
   "execution_count": 33,
   "id": "6cc5f685",
   "metadata": {},
   "outputs": [
    {
     "name": "stdout",
     "output_type": "stream",
     "text": [
      "[1, 2, 3, 4, 5, 9]\n",
      "[3.14, True, 'apple', 1]\n"
     ]
    }
   ],
   "source": [
    "num_list = [9, 1, 2, 3, 4, 5]\n",
    "num_list.sort()  # 排序(同sorted(num_list))\n",
    "print(num_list)\n",
    "\n",
    "mixed_list = [1, \"apple\", True, 3.14]\n",
    "mixed_list.reverse()  #反轉\n",
    "print(mixed_list)"
   ]
  },
  {
   "cell_type": "markdown",
   "id": "f111eaf1",
   "metadata": {},
   "source": [
    "### 查詢索引"
   ]
  },
  {
   "cell_type": "code",
   "execution_count": 34,
   "id": "0512b5e5",
   "metadata": {},
   "outputs": [
    {
     "name": "stdout",
     "output_type": "stream",
     "text": [
      "2\n"
     ]
    }
   ],
   "source": [
    "num_list = [10, 20, 30, 40, 50]\n",
    "index_30 = num_list.index(30)  # 返回索引 2\n",
    "index_30 = num_list.index(30, 1, 4)  # 在索引范围 [1, 4) 中查詢\n",
    "print(index_30)"
   ]
  },
  {
   "cell_type": "markdown",
   "id": "2e720244",
   "metadata": {},
   "source": [
    "## 6.3 簡寫方式"
   ]
  },
  {
   "cell_type": "markdown",
   "id": "a2999f4d",
   "metadata": {},
   "source": [
    "### 變數賦值簡寫"
   ]
  },
  {
   "cell_type": "code",
   "execution_count": 35,
   "id": "4082fec6",
   "metadata": {},
   "outputs": [],
   "source": [
    "x, y ,z , w = 9,8,7,6\n",
    "\n",
    "x = x + 1  # 可以簡寫成\n",
    "x += 1\n",
    "\n",
    "y = y - 2  # 可以簡寫成\n",
    "y -= 2\n",
    "\n",
    "z = z * 3  # 可以簡寫成\n",
    "z *= 3\n",
    "\n",
    "w = w / 4  # 可以簡寫成\n",
    "w /= 4"
   ]
  },
  {
   "cell_type": "markdown",
   "id": "4a2342bf",
   "metadata": {},
   "source": [
    "### 條件語句簡寫"
   ]
  },
  {
   "cell_type": "code",
   "execution_count": 36,
   "id": "5cd560eb",
   "metadata": {},
   "outputs": [],
   "source": [
    "if a == 1:  # 可以簡寫成\n",
    "    pass\n",
    "if a:\n",
    "    pass\n",
    "    \n",
    "if b != 0:  # 可以簡寫成\n",
    "    pass\n",
    "if b:\n",
    "    pass"
   ]
  },
  {
   "cell_type": "code",
   "execution_count": 37,
   "id": "d58863c3",
   "metadata": {},
   "outputs": [],
   "source": [
    "if x > 0:\n",
    "    result = \"positive\"\n",
    "else:\n",
    "    result = \"non-positive\"\n",
    "    \n",
    "# 可以簡寫成\n",
    "result = \"positive\" if x > 0 else \"non-positive\""
   ]
  },
  {
   "cell_type": "markdown",
   "id": "3fbe7099",
   "metadata": {},
   "source": [
    "### 加入列表簡寫"
   ]
  },
  {
   "cell_type": "code",
   "execution_count": 45,
   "id": "9fd1a68b",
   "metadata": {},
   "outputs": [],
   "source": [
    "item =0\n",
    "another_list = [1,2,3]\n",
    "my_list.append(item)          # 可以簡寫成\n",
    "my_list += [item]\n",
    "\n",
    "my_list.extend(another_list)  # 可以簡寫成\n",
    "my_list += another_list"
   ]
  },
  {
   "cell_type": "markdown",
   "id": "70865749",
   "metadata": {},
   "source": [
    "## 迴圈簡寫(適用於多數容器型態)"
   ]
  },
  {
   "cell_type": "code",
   "execution_count": 39,
   "id": "66f64932",
   "metadata": {},
   "outputs": [
    {
     "name": "stdout",
     "output_type": "stream",
     "text": [
      "[0, 1, 4, 9, 16, 25, 36, 49, 64, 81]\n",
      "[0, 1, 4, 9, 16, 25, 36, 49, 64, 81]\n"
     ]
    }
   ],
   "source": [
    "squared_numbers = []\n",
    "for x in range(10):\n",
    "    squared_numbers.append(x**2)    \n",
    "print(squared_numbers)\n",
    "\n",
    "squared_numbers = [x ** 2 for x in range(10)]  # 可以簡寫成\n",
    "print(squared_numbers)"
   ]
  },
  {
   "cell_type": "code",
   "execution_count": 40,
   "id": "4ddb51f9",
   "metadata": {},
   "outputs": [
    {
     "name": "stdout",
     "output_type": "stream",
     "text": [
      "[0, 4, 16, 36, 64]\n",
      "[0, 4, 16, 36, 64]\n"
     ]
    }
   ],
   "source": [
    "squared_numbers = []\n",
    "for x in range(10):\n",
    "    if x%2 ==0:\n",
    "        squared_numbers.append(x**2)\n",
    "print(squared_numbers)\n",
    "\n",
    "squared_numbers = [x ** 2 for x in range(10) if x%2==0]  # 可以簡寫成\n",
    "print(squared_numbers)"
   ]
  },
  {
   "cell_type": "code",
   "execution_count": 41,
   "id": "0c6faaeb",
   "metadata": {},
   "outputs": [
    {
     "name": "stdout",
     "output_type": "stream",
     "text": [
      "[0, 0, 4, 0, 16, 0, 36, 0, 64, 0]\n",
      "[0, 0, 4, 0, 16, 0, 36, 0, 64, 0]\n"
     ]
    }
   ],
   "source": [
    "squared_numbers = []\n",
    "for x in range(10):\n",
    "    if x%2 ==0:\n",
    "        squared_numbers.append(x**2)\n",
    "    else:\n",
    "        squared_numbers.append(0)\n",
    "print(squared_numbers)\n",
    "\n",
    "squared_numbers = [x ** 2 if x%2==0 else 0 for x in range(10)] # 可以簡寫成\n",
    "print(squared_numbers)"
   ]
  },
  {
   "cell_type": "markdown",
   "id": "615ceb89",
   "metadata": {},
   "source": [
    "### 參數傳入簡寫"
   ]
  },
  {
   "cell_type": "code",
   "execution_count": 42,
   "id": "8f87633f",
   "metadata": {},
   "outputs": [
    {
     "name": "stdout",
     "output_type": "stream",
     "text": [
      "0 1 2\n"
     ]
    }
   ],
   "source": [
    "def f(a, b, c):\n",
    "    print(a, b, c)\n",
    "    \n",
    "p = {'a':0,'b':1,'c':2}\n",
    "f(**p)"
   ]
  }
 ],
 "metadata": {
  "kernelspec": {
   "display_name": "Python 3 (ipykernel)",
   "language": "python",
   "name": "python3"
  },
  "language_info": {
   "codemirror_mode": {
    "name": "ipython",
    "version": 3
   },
   "file_extension": ".py",
   "mimetype": "text/x-python",
   "name": "python",
   "nbconvert_exporter": "python",
   "pygments_lexer": "ipython3",
   "version": "3.7.8"
  }
 },
 "nbformat": 4,
 "nbformat_minor": 5
}
