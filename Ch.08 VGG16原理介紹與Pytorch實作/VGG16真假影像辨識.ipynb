{
 "cells": [
  {
   "cell_type": "code",
   "execution_count": 1,
   "id": "c831d7d5",
   "metadata": {},
   "outputs": [
    {
     "name": "stdout",
     "output_type": "stream",
     "text": [
      "Requirement already satisfied: prettytable in c:\\users\\user\\appdata\\local\\programs\\python\\python37\\lib\\site-packages (3.7.0)"
     ]
    },
    {
     "name": "stderr",
     "output_type": "stream",
     "text": [
      "\n",
      "[notice] A new release of pip is available: 23.1.2 -> 23.2\n",
      "[notice] To update, run: python.exe -m pip install --upgrade pip\n"
     ]
    },
    {
     "name": "stdout",
     "output_type": "stream",
     "text": [
      "\n",
      "Requirement already satisfied: importlib-metadata in c:\\users\\user\\appdata\\local\\programs\\python\\python37\\lib\\site-packages (from prettytable) (6.7.0)\n",
      "Requirement already satisfied: wcwidth in c:\\users\\user\\appdata\\local\\programs\\python\\python37\\lib\\site-packages (from prettytable) (0.2.6)\n",
      "Requirement already satisfied: zipp>=0.5 in c:\\users\\user\\appdata\\local\\programs\\python\\python37\\lib\\site-packages (from importlib-metadata->prettytable) (3.15.0)\n",
      "Requirement already satisfied: typing-extensions>=3.6.4 in c:\\users\\user\\appdata\\local\\programs\\python\\python37\\lib\\site-packages (from importlib-metadata->prettytable) (4.7.1)\n"
     ]
    }
   ],
   "source": [
    "!pip install prettytable"
   ]
  },
  {
   "cell_type": "code",
   "execution_count": 2,
   "id": "830eb160",
   "metadata": {},
   "outputs": [],
   "source": [
    "import torch\n",
    "import torch.nn as nn\n",
    "import torch.optim as optim\n",
    "import torchvision as tv\n",
    "from torch.utils.data import DataLoader\n",
    "import numpy as np\n",
    "import random\n",
    "\n",
    "from tqdm import tqdm \n",
    "import matplotlib.pyplot as plt "
   ]
  },
  {
   "cell_type": "code",
   "execution_count": 3,
   "id": "52e917e8",
   "metadata": {},
   "outputs": [],
   "source": [
    "def set_seed(seed):\n",
    "    random.seed(seed) \n",
    "    np.random.seed(seed)  \n",
    "    torch.manual_seed(seed)\n",
    "    if torch.cuda.is_available():\n",
    "        torch.cuda.manual_seed(seed)\n",
    "        torch.cuda.manual_seed_all(seed) \n",
    "    torch.backends.cudnn.benchmark = False\n",
    "    torch.backends.cudnn.deterministic = True\n",
    "set_seed(0)"
   ]
  },
  {
   "cell_type": "code",
   "execution_count": 4,
   "id": "1a8ec9b0",
   "metadata": {},
   "outputs": [],
   "source": [
    "transform = tv.transforms.Compose([\n",
    "    tv.transforms.Resize(32),\n",
    "    tv.transforms.CenterCrop(32),\n",
    "    tv.transforms.ToTensor(),\n",
    "    tv.transforms.Normalize(mean=[0.5, 0.5, 0.5], std=[0.5, 0.5, 0.5])\n",
    "])"
   ]
  },
  {
   "cell_type": "code",
   "execution_count": 5,
   "id": "eb28bea7",
   "metadata": {},
   "outputs": [],
   "source": [
    "label_encoding = {'Fake':0, 'Real':1}\n",
    "label_decoding = {v:k for k, v in label_encoding.items()}"
   ]
  },
  {
   "cell_type": "code",
   "execution_count": 6,
   "id": "570110c4",
   "metadata": {},
   "outputs": [],
   "source": [
    "trainset = tv.datasets.ImageFolder('Image/Train',transform = transform)\n",
    "validset = tv.datasets.ImageFolder('Image/Valid',transform = transform)\n",
    "train_loader = DataLoader(trainset, batch_size = 64, shuffle = True, num_workers = 0, pin_memory = True)\n",
    "valid_loader = DataLoader(validset, batch_size = 64, shuffle = True, num_workers = 0, pin_memory = True)"
   ]
  },
  {
   "cell_type": "code",
   "execution_count": 7,
   "id": "e134f30b",
   "metadata": {},
   "outputs": [
    {
     "name": "stderr",
     "output_type": "stream",
     "text": [
      "c:\\Users\\user\\AppData\\Local\\Programs\\Python\\Python37\\lib\\site-packages\\torchvision\\models\\_utils.py:209: UserWarning: The parameter 'pretrained' is deprecated since 0.13 and may be removed in the future, please use 'weights' instead.\n",
      "  f\"The parameter '{pretrained_param}' is deprecated since 0.13 and may be removed in the future, \"\n",
      "c:\\Users\\user\\AppData\\Local\\Programs\\Python\\Python37\\lib\\site-packages\\torchvision\\models\\_utils.py:223: UserWarning: Arguments other than a weight enum or `None` for 'weights' are deprecated since 0.13 and may be removed in the future. The current behavior is equivalent to passing `weights=None`.\n",
      "  warnings.warn(msg)\n"
     ]
    }
   ],
   "source": [
    "device = torch.device('cuda' if torch.cuda.is_available() else 'cpu')\n",
    "model = tv.models.vgg16(pretrained=False)\n",
    "model.classifier._modules['6'] = nn.Linear(4096, 2)\n",
    "model.to(device)\n",
    "criterion = nn.CrossEntropyLoss()\n",
    "optimizer = optim.Adam(model.parameters(), lr=1e-4)"
   ]
  },
  {
   "cell_type": "code",
   "execution_count": 8,
   "id": "5f9aef46",
   "metadata": {},
   "outputs": [
    {
     "data": {
      "text/plain": [
       "Sequential(\n",
       "  (0): Linear(in_features=25088, out_features=4096, bias=True)\n",
       "  (1): ReLU(inplace=True)\n",
       "  (2): Dropout(p=0.5, inplace=False)\n",
       "  (3): Linear(in_features=4096, out_features=4096, bias=True)\n",
       "  (4): ReLU(inplace=True)\n",
       "  (5): Dropout(p=0.5, inplace=False)\n",
       "  (6): Linear(in_features=4096, out_features=2, bias=True)\n",
       ")"
      ]
     },
     "execution_count": 8,
     "metadata": {},
     "output_type": "execute_result"
    }
   ],
   "source": [
    "model.classifier"
   ]
  },
  {
   "cell_type": "code",
   "execution_count": 9,
   "id": "30e3f23b",
   "metadata": {},
   "outputs": [
    {
     "name": "stdout",
     "output_type": "stream",
     "text": [
      "+---------------------+------------+\n",
      "|       Modules       | Parameters |\n",
      "+---------------------+------------+\n",
      "|  features.0.weight  |    1728    |\n",
      "|   features.0.bias   |     64     |\n",
      "|  features.2.weight  |   36864    |\n",
      "|   features.2.bias   |     64     |\n",
      "|  features.5.weight  |   73728    |\n",
      "|   features.5.bias   |    128     |\n",
      "|  features.7.weight  |   147456   |\n",
      "|   features.7.bias   |    128     |\n",
      "|  features.10.weight |   294912   |\n",
      "|   features.10.bias  |    256     |\n",
      "|  features.12.weight |   589824   |\n",
      "|   features.12.bias  |    256     |\n",
      "|  features.14.weight |   589824   |\n",
      "|   features.14.bias  |    256     |\n",
      "|  features.17.weight |  1179648   |\n",
      "|   features.17.bias  |    512     |\n",
      "|  features.19.weight |  2359296   |\n",
      "|   features.19.bias  |    512     |\n",
      "|  features.21.weight |  2359296   |\n",
      "|   features.21.bias  |    512     |\n",
      "|  features.24.weight |  2359296   |\n",
      "|   features.24.bias  |    512     |\n",
      "|  features.26.weight |  2359296   |\n",
      "|   features.26.bias  |    512     |\n",
      "|  features.28.weight |  2359296   |\n",
      "|   features.28.bias  |    512     |\n",
      "| classifier.0.weight | 102760448  |\n",
      "|  classifier.0.bias  |    4096    |\n",
      "| classifier.3.weight |  16777216  |\n",
      "|  classifier.3.bias  |    4096    |\n",
      "| classifier.6.weight |    8192    |\n",
      "|  classifier.6.bias  |     2      |\n",
      "+---------------------+------------+\n",
      "Total Trainable Params: 134268738\n"
     ]
    },
    {
     "data": {
      "text/plain": [
       "134268738"
      ]
     },
     "execution_count": 9,
     "metadata": {},
     "output_type": "execute_result"
    }
   ],
   "source": [
    "from prettytable import PrettyTable \n",
    "\n",
    "def count_parameters(model): \n",
    "    table = PrettyTable(['Modules', 'Parameters']) \n",
    "    total_params = 0 \n",
    "    for name, parameter in model.named_parameters(): \n",
    "        if not parameter.requires_grad: continue \n",
    "        params = parameter.numel() \n",
    "        table.add_row([name, params]) \n",
    "        total_params+=params \n",
    "    print(table) \n",
    "    print(f'Total Trainable Params: {total_params}') \n",
    "    return total_params\n",
    "\n",
    "count_parameters(model)"
   ]
  },
  {
   "cell_type": "code",
   "execution_count": 10,
   "id": "6d7b2ac2",
   "metadata": {},
   "outputs": [],
   "source": [
    "def train(epoch):\n",
    "    train_loss, train_acc = 0, 0\n",
    "    train_pbar = tqdm(train_loader, position=0, leave=True) # 宣告進度條\n",
    "    \n",
    "    model.train() # 將模型切換成訓練模式\n",
    "    for input_datas in train_pbar: \n",
    "        features, labels = [i.to(device) for i in input_datas] # 將資料放入到GPU中\n",
    "        optimizer.zero_grad()  # 梯度清零\n",
    "        outputs = model(features) # 模型計算答案(前向傳播)\n",
    "        \n",
    "        loss = criterion(outputs, labels) # 計算Loss值\n",
    "        loss.backward() # 返向傳播\n",
    "        optimizer.step() # 更新模型權重\n",
    "        \n",
    "        train_pbar.set_description(f'Train Epoch {epoch}')  # 顯示訓練次數\n",
    "        train_pbar.set_postfix({'loss':f'{loss:.3f}'}) # 顯示當下模型損失\n",
    "        \n",
    "        _, pred = torch.max(outputs, dim = 1)  # 計算類別\n",
    "        train_acc += sum(pred == labels) # 計算預測成功的數量\n",
    "        train_loss += loss.item()  # 模型總損失\n",
    "\n",
    "    return train_loss/len(train_loader), train_acc/len(trainset) # 計算一次訓練的Loss與準確率\n",
    "\n",
    "\n",
    "def valid(epoch):\n",
    "    valid_loss, valid_acc = 0, 0\n",
    "    valid_pbar = tqdm(valid_loader, position=0, leave=True)\n",
    "    \n",
    "    model.eval()\n",
    "    with torch.no_grad(): \n",
    "        for input_datas in valid_pbar:\n",
    "            features, labels = [i.to(device) for i in input_datas]\n",
    "            outputs = model(features) \n",
    "            loss = criterion(outputs, labels)\n",
    "\n",
    "            valid_pbar.set_description(f'Valid Epoch {epoch}')\n",
    "            valid_pbar.set_postfix({'loss':f'{loss:.3f}'})\n",
    "\n",
    "            _, pred = torch.max(outputs, dim = 1) \n",
    "            valid_acc += sum(pred == labels)\n",
    "            valid_loss += loss.item()\n",
    "\n",
    "    return valid_loss/len(valid_loader), valid_acc/len(validset)\n",
    "\n",
    "        \n",
    "def show_training_loss(loss_record):\n",
    "    train_loss, valid_loss = [i for i in loss_record.values()]\n",
    "    \n",
    "    plt.plot(train_loss)\n",
    "    plt.plot(valid_loss)\n",
    "    #標題\n",
    "    plt.title('Result')\n",
    "    #y軸標籤\n",
    "    plt.ylabel('Loss')\n",
    "    #x軸標籤\n",
    "    plt.xlabel('Epoch')\n",
    "    #顯示折線的名稱\n",
    "    plt.legend(['train', 'valid'], loc='upper left')\n",
    "    #顯示折線圖\n",
    "    plt.show()"
   ]
  },
  {
   "cell_type": "code",
   "execution_count": 11,
   "id": "dcd3ffec",
   "metadata": {},
   "outputs": [
    {
     "name": "stderr",
     "output_type": "stream",
     "text": [
      "Train Epoch 0: 100%|██████████| 1875/1875 [02:24<00:00, 12.96it/s, loss=0.201]\n",
      "Valid Epoch 0: 100%|██████████| 313/313 [00:17<00:00, 17.66it/s, loss=0.350]\n"
     ]
    },
    {
     "name": "stdout",
     "output_type": "stream",
     "text": [
      "Saving Model With Acc 0.88980\n",
      "Train Loss: 0.57481 Train Acc: 0.63377| Valid Loss: 0.25936 Valid Acc: 0.88980| Best Acc: 0.88980\n",
      "\n"
     ]
    },
    {
     "name": "stderr",
     "output_type": "stream",
     "text": [
      "Train Epoch 1: 100%|██████████| 1875/1875 [02:11<00:00, 14.27it/s, loss=0.127]\n",
      "Valid Epoch 1: 100%|██████████| 313/313 [00:16<00:00, 18.91it/s, loss=0.095]\n"
     ]
    },
    {
     "name": "stdout",
     "output_type": "stream",
     "text": [
      "Saving Model With Acc 0.95730\n",
      "Train Loss: 0.13456 Train Acc: 0.94797| Valid Loss: 0.11062 Valid Acc: 0.95730| Best Acc: 0.95730\n",
      "\n"
     ]
    },
    {
     "name": "stderr",
     "output_type": "stream",
     "text": [
      "Train Epoch 2: 100%|██████████| 1875/1875 [02:12<00:00, 14.12it/s, loss=0.073]\n",
      "Valid Epoch 2: 100%|██████████| 313/313 [00:15<00:00, 20.04it/s, loss=0.144]\n"
     ]
    },
    {
     "name": "stdout",
     "output_type": "stream",
     "text": [
      "Saving Model With Acc 0.97275\n",
      "Train Loss: 0.06085 Train Acc: 0.97757| Valid Loss: 0.08331 Valid Acc: 0.97275| Best Acc: 0.97275\n",
      "\n"
     ]
    },
    {
     "name": "stderr",
     "output_type": "stream",
     "text": [
      "Train Epoch 3: 100%|██████████| 1875/1875 [02:12<00:00, 14.13it/s, loss=0.007]\n",
      "Valid Epoch 3: 100%|██████████| 313/313 [00:15<00:00, 19.70it/s, loss=0.004]\n"
     ]
    },
    {
     "name": "stdout",
     "output_type": "stream",
     "text": [
      "Saving Model With Acc 0.98230\n",
      "Train Loss: 0.04095 Train Acc: 0.98506| Valid Loss: 0.04899 Valid Acc: 0.98230| Best Acc: 0.98230\n",
      "\n"
     ]
    },
    {
     "name": "stderr",
     "output_type": "stream",
     "text": [
      "Train Epoch 4: 100%|██████████| 1875/1875 [02:11<00:00, 14.31it/s, loss=0.035]\n",
      "Valid Epoch 4: 100%|██████████| 313/313 [00:16<00:00, 19.07it/s, loss=0.004]\n"
     ]
    },
    {
     "name": "stdout",
     "output_type": "stream",
     "text": [
      "Train Loss: 0.03502 Train Acc: 0.98755| Valid Loss: 0.09834 Valid Acc: 0.97165| Best Acc: 0.98230\n",
      "\n"
     ]
    },
    {
     "name": "stderr",
     "output_type": "stream",
     "text": [
      "Train Epoch 5: 100%|██████████| 1875/1875 [02:08<00:00, 14.60it/s, loss=0.012]\n",
      "Valid Epoch 5: 100%|██████████| 313/313 [00:16<00:00, 18.89it/s, loss=0.018]\n"
     ]
    },
    {
     "name": "stdout",
     "output_type": "stream",
     "text": [
      "Saving Model With Acc 0.98510\n",
      "Train Loss: 0.02721 Train Acc: 0.99032| Valid Loss: 0.04692 Valid Acc: 0.98510| Best Acc: 0.98510\n",
      "\n"
     ]
    },
    {
     "name": "stderr",
     "output_type": "stream",
     "text": [
      "Train Epoch 6: 100%|██████████| 1875/1875 [02:09<00:00, 14.45it/s, loss=0.033]\n",
      "Valid Epoch 6: 100%|██████████| 313/313 [00:17<00:00, 18.20it/s, loss=0.055]\n"
     ]
    },
    {
     "name": "stdout",
     "output_type": "stream",
     "text": [
      "Train Loss: 0.02244 Train Acc: 0.99219| Valid Loss: 0.06295 Valid Acc: 0.98000| Best Acc: 0.98510\n",
      "\n"
     ]
    },
    {
     "name": "stderr",
     "output_type": "stream",
     "text": [
      "Train Epoch 7: 100%|██████████| 1875/1875 [02:12<00:00, 14.13it/s, loss=0.001]\n",
      "Valid Epoch 7: 100%|██████████| 313/313 [00:17<00:00, 18.21it/s, loss=0.000]\n"
     ]
    },
    {
     "name": "stdout",
     "output_type": "stream",
     "text": [
      "Train Loss: 0.02445 Train Acc: 0.99152| Valid Loss: 0.05014 Valid Acc: 0.98210| Best Acc: 0.98510\n",
      "\n"
     ]
    },
    {
     "name": "stderr",
     "output_type": "stream",
     "text": [
      "Train Epoch 8: 100%|██████████| 1875/1875 [02:12<00:00, 14.12it/s, loss=0.001]\n",
      "Valid Epoch 8: 100%|██████████| 313/313 [00:16<00:00, 19.10it/s, loss=0.139]\n"
     ]
    },
    {
     "name": "stdout",
     "output_type": "stream",
     "text": [
      "Train Loss: 0.01587 Train Acc: 0.99437| Valid Loss: 0.04219 Valid Acc: 0.98505| Best Acc: 0.98510\n",
      "\n"
     ]
    },
    {
     "name": "stderr",
     "output_type": "stream",
     "text": [
      "Train Epoch 9: 100%|██████████| 1875/1875 [02:10<00:00, 14.34it/s, loss=0.000]\n",
      "Valid Epoch 9: 100%|██████████| 313/313 [00:16<00:00, 18.62it/s, loss=0.000]\n"
     ]
    },
    {
     "name": "stdout",
     "output_type": "stream",
     "text": [
      "Saving Model With Acc 0.98700\n",
      "Train Loss: 0.01613 Train Acc: 0.99448| Valid Loss: 0.04624 Valid Acc: 0.98700| Best Acc: 0.98700\n",
      "\n"
     ]
    },
    {
     "data": {
      "image/png": "[encoded data removed]",
      "text/plain": [
       "<Figure size 640x480 with 1 Axes>"
      ]
     },
     "metadata": {},
     "output_type": "display_data"
    }
   ],
   "source": [
    "epochs = 10                              # 訓練次數\n",
    "early_stopping = 5                      # 模型訓練幾次沒進步就停止\n",
    "stop_cnt = 0                             # 計數模型是否有進步的計數器\n",
    "model_path = 'model.ckpt'                # 模型存放路徑\n",
    "show_loss = True                         # 是否顯示訓練折線圖\n",
    "best_acc = 0                             # 最佳的準確率\n",
    "loss_record = {'train':[], 'valid':[]}   # 訓練紀錄\n",
    "\n",
    "for epoch in range(epochs):   \n",
    "    train_loss, train_acc = train(epoch)\n",
    "    valid_loss, valid_acc = valid(epoch)\n",
    "    \n",
    "    loss_record['train'].append(train_loss)\n",
    "    loss_record['valid'].append(valid_loss)\n",
    "    \n",
    "    # 儲存最佳的模型權重\n",
    "    if valid_acc > best_acc:\n",
    "        best_acc = valid_acc\n",
    "        torch.save(model.state_dict(), model_path)\n",
    "        print(f'Saving Model With Acc {best_acc:.5f}')\n",
    "        stop_cnt = 0\n",
    "    else:\n",
    "        stop_cnt+=1\n",
    "    \n",
    "    # Early stopping\n",
    "    if stop_cnt == early_stopping:\n",
    "        output = \"Model can't improve, stop training\"\n",
    "        print('-' * (len(output)+2))\n",
    "        print(f'|{output}|')\n",
    "        print('-' * (len(output)+2))\n",
    "        break\n",
    "        \n",
    "    print(f'Train Loss: {train_loss:.5f} Train Acc: {train_acc:.5f}', end='| ')\n",
    "    print(f'Valid Loss: {valid_loss:.5f} Valid Acc: {valid_acc:.5f}', end='| ')\n",
    "    print(f'Best Acc: {best_acc:.5f}', end ='\\n\\n')\n",
    "\n",
    "if show_loss:\n",
    "    show_training_loss(loss_record)\n",
    "        "
   ]
  },
  {
   "cell_type": "code",
   "execution_count": 12,
   "id": "1335fbd9",
   "metadata": {},
   "outputs": [
    {
     "name": "stderr",
     "output_type": "stream",
     "text": [
      "c:\\Users\\user\\AppData\\Local\\Programs\\Python\\Python37\\lib\\site-packages\\torchvision\\models\\_utils.py:223: UserWarning: Arguments other than a weight enum or `None` for 'weights' are deprecated since 0.13 and may be removed in the future. The current behavior is equivalent to passing `weights=VGG16_Weights.IMAGENET1K_V1`. You can also use `weights=VGG16_Weights.DEFAULT` to get the most up-to-date weights.\n",
      "  warnings.warn(msg)\n"
     ]
    },
    {
     "data": {
      "text/plain": [
       "VGG(\n",
       "  (features): Sequential(\n",
       "    (0): Conv2d(3, 64, kernel_size=(3, 3), stride=(1, 1), padding=(1, 1))\n",
       "    (1): ReLU(inplace=True)\n",
       "    (2): Conv2d(64, 64, kernel_size=(3, 3), stride=(1, 1), padding=(1, 1))\n",
       "    (3): ReLU(inplace=True)\n",
       "    (4): MaxPool2d(kernel_size=2, stride=2, padding=0, dilation=1, ceil_mode=False)\n",
       "    (5): Conv2d(64, 128, kernel_size=(3, 3), stride=(1, 1), padding=(1, 1))\n",
       "    (6): ReLU(inplace=True)\n",
       "    (7): Conv2d(128, 128, kernel_size=(3, 3), stride=(1, 1), padding=(1, 1))\n",
       "    (8): ReLU(inplace=True)\n",
       "    (9): MaxPool2d(kernel_size=2, stride=2, padding=0, dilation=1, ceil_mode=False)\n",
       "    (10): Conv2d(128, 256, kernel_size=(3, 3), stride=(1, 1), padding=(1, 1))\n",
       "    (11): ReLU(inplace=True)\n",
       "    (12): Conv2d(256, 256, kernel_size=(3, 3), stride=(1, 1), padding=(1, 1))\n",
       "    (13): ReLU(inplace=True)\n",
       "    (14): Conv2d(256, 256, kernel_size=(3, 3), stride=(1, 1), padding=(1, 1))\n",
       "    (15): ReLU(inplace=True)\n",
       "    (16): MaxPool2d(kernel_size=2, stride=2, padding=0, dilation=1, ceil_mode=False)\n",
       "    (17): Conv2d(256, 512, kernel_size=(3, 3), stride=(1, 1), padding=(1, 1))\n",
       "    (18): ReLU(inplace=True)\n",
       "    (19): Conv2d(512, 512, kernel_size=(3, 3), stride=(1, 1), padding=(1, 1))\n",
       "    (20): ReLU(inplace=True)\n",
       "    (21): Conv2d(512, 512, kernel_size=(3, 3), stride=(1, 1), padding=(1, 1))\n",
       "    (22): ReLU(inplace=True)\n",
       "    (23): MaxPool2d(kernel_size=2, stride=2, padding=0, dilation=1, ceil_mode=False)\n",
       "    (24): Conv2d(512, 512, kernel_size=(3, 3), stride=(1, 1), padding=(1, 1))\n",
       "    (25): ReLU(inplace=True)\n",
       "    (26): Conv2d(512, 512, kernel_size=(3, 3), stride=(1, 1), padding=(1, 1))\n",
       "    (27): ReLU(inplace=True)\n",
       "    (28): Conv2d(512, 512, kernel_size=(3, 3), stride=(1, 1), padding=(1, 1))\n",
       "    (29): ReLU(inplace=True)\n",
       "    (30): MaxPool2d(kernel_size=2, stride=2, padding=0, dilation=1, ceil_mode=False)\n",
       "  )\n",
       "  (avgpool): AdaptiveAvgPool2d(output_size=(7, 7))\n",
       "  (classifier): Sequential(\n",
       "    (0): Linear(in_features=25088, out_features=4096, bias=True)\n",
       "    (1): ReLU(inplace=True)\n",
       "    (2): Dropout(p=0.5, inplace=False)\n",
       "    (3): Linear(in_features=4096, out_features=4096, bias=True)\n",
       "    (4): ReLU(inplace=True)\n",
       "    (5): Dropout(p=0.5, inplace=False)\n",
       "    (6): Linear(in_features=4096, out_features=2, bias=True)\n",
       "  )\n",
       ")"
      ]
     },
     "execution_count": 12,
     "metadata": {},
     "output_type": "execute_result"
    }
   ],
   "source": [
    "model = tv.models.vgg16(pretrained=True)\n",
    "model.classifier._modules['6'] = nn.Linear(4096, 2)\n",
    "model.to(device)\n",
    "model.load_state_dict(torch.load(model_path))\n",
    "model.eval()"
   ]
  },
  {
   "cell_type": "code",
   "execution_count": 13,
   "id": "8c2b0ecf",
   "metadata": {},
   "outputs": [],
   "source": [
    "new_valid = list(validset)"
   ]
  },
  {
   "cell_type": "code",
   "execution_count": 14,
   "id": "151b7c4d",
   "metadata": {},
   "outputs": [
    {
     "name": "stdout",
     "output_type": "stream",
     "text": [
      "Real Label: Fake\n",
      "Pred Label: Fake\n"
     ]
    },
    {
     "data": {
      "image/png": "[encoded data removed]",
      "text/plain": [
       "<Figure size 640x480 with 1 Axes>"
      ]
     },
     "metadata": {},
     "output_type": "display_data"
    }
   ],
   "source": [
    "x_valid, y_valid = new_valid[0]\n",
    "label_decoding = {0:'Fake', 1:'Real'}\n",
    "img = x_valid.unsqueeze(0).to(device)    # 將圖片新增維度\n",
    "output = model(img)                          # 計算各類別機率\n",
    "_, pred = torch.max(output, dim = 1)        # 找到最大機率的位子 \n",
    "npimg = (x_valid/2+0.5).numpy()          # 還原正規化\n",
    "npimg = np.transpose(npimg, (1, 2, 0))       # 維度還原\n",
    "\n",
    "plt.imshow(npimg)                            # 顯示圖片\n",
    "print('Real Label:',label_decoding[y_valid])                 # 顯示文字 \n",
    "print('Pred Label:',label_decoding[pred[0].tolist()])"
   ]
  },
  {
   "cell_type": "code",
   "execution_count": null,
   "id": "9db2a5e7",
   "metadata": {},
   "outputs": [],
   "source": [
    "\n"
   ]
  }
 ],
 "metadata": {
  "kernelspec": {
   "display_name": "Python 3 (ipykernel)",
   "language": "python",
   "name": "python3"
  },
  "language_info": {
   "codemirror_mode": {
    "name": "ipython",
    "version": 3
   },
   "file_extension": ".py",
   "mimetype": "text/x-python",
   "name": "python",
   "nbconvert_exporter": "python",
   "pygments_lexer": "ipython3",
   "version": "3.7.8"
  }
 },
 "nbformat": 4,
 "nbformat_minor": 5
}
