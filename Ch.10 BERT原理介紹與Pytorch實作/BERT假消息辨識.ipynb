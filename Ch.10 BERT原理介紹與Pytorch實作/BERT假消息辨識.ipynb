{
 "cells": [
  {
   "cell_type": "code",
   "execution_count": 1,
   "id": "c831d7d5",
   "metadata": {},
   "outputs": [
    {
     "name": "stdout",
     "output_type": "stream",
     "text": [
      "Requirement already satisfied: transformers in c:\\users\\user\\appdata\\local\\programs\\python\\python37\\lib\\site-packages (4.30.2)\n",
      "Requirement already satisfied: filelock in c:\\users\\user\\appdata\\local\\programs\\python\\python37\\lib\\site-packages (from transformers) (3.12.2)\n",
      "Requirement already satisfied: huggingface-hub<1.0,>=0.14.1 in c:\\users\\user\\appdata\\local\\programs\\python\\python37\\lib\\site-packages (from transformers) (0.16.4)\n",
      "Requirement already satisfied: numpy>=1.17 in c:\\users\\user\\appdata\\local\\programs\\python\\python37\\lib\\site-packages (from transformers) (1.18.5)\n",
      "Requirement already satisfied: packaging>=20.0 in c:\\users\\user\\appdata\\local\\programs\\python\\python37\\lib\\site-packages (from transformers) (23.1)\n",
      "Requirement already satisfied: pyyaml>=5.1 in c:\\users\\user\\appdata\\local\\programs\\python\\python37\\lib\\site-packages (from transformers) (6.0)\n",
      "Requirement already satisfied: regex!=2019.12.17 in c:\\users\\user\\appdata\\local\\programs\\python\\python37\\lib\\site-packages (from transformers) (2023.6.3)\n",
      "Requirement already satisfied: requests in c:\\users\\user\\appdata\\local\\programs\\python\\python37\\lib\\site-packages (from transformers) (2.31.0)\n",
      "Requirement already satisfied: tokenizers!=0.11.3,<0.14,>=0.11.1 in c:\\users\\user\\appdata\\local\\programs\\python\\python37\\lib\\site-packages (from transformers) (0.13.3)\n",
      "Requirement already satisfied: safetensors>=0.3.1 in c:\\users\\user\\appdata\\local\\programs\\python\\python37\\lib\\site-packages (from transformers) (0.3.1)\n",
      "Requirement already satisfied: tqdm>=4.27 in c:\\users\\user\\appdata\\local\\programs\\python\\python37\\lib\\site-packages (from transformers) (4.65.0)\n",
      "Requirement already satisfied: importlib-metadata in c:\\users\\user\\appdata\\local\\programs\\python\\python37\\lib\\site-packages (from transformers) (6.7.0)\n",
      "Requirement already satisfied: fsspec in c:\\users\\user\\appdata\\local\\programs\\python\\python37\\lib\\site-packages (from huggingface-hub<1.0,>=0.14.1->transformers) (2023.1.0)\n",
      "Requirement already satisfied: typing-extensions>=3.7.4.3 in c:\\users\\user\\appdata\\local\\programs\\python\\python37\\lib\\site-packages (from huggingface-hub<1.0,>=0.14.1->transformers) (4.7.1)\n",
      "Requirement already satisfied: colorama in c:\\users\\user\\appdata\\local\\programs\\python\\python37\\lib\\site-packages (from tqdm>=4.27->transformers) (0.4.6)\n",
      "Requirement already satisfied: zipp>=0.5 in c:\\users\\user\\appdata\\local\\programs\\python\\python37\\lib\\site-packages (from importlib-metadata->transformers) (3.15.0)\n",
      "Requirement already satisfied: charset-normalizer<4,>=2 in c:\\users\\user\\appdata\\local\\programs\\python\\python37\\lib\\site-packages (from requests->transformers) (3.2.0)\n",
      "Requirement already satisfied: idna<4,>=2.5 in c:\\users\\user\\appdata\\local\\programs\\python\\python37\\lib\\site-packages (from requests->transformers) (3.4)\n",
      "Requirement already satisfied: urllib3<3,>=1.21.1 in c:\\users\\user\\appdata\\local\\programs\\python\\python37\\lib\\site-packages (from requests->transformers) (1.26.16)\n",
      "Requirement already satisfied: certifi>=2017.4.17 in c:\\users\\user\\appdata\\local\\programs\\python\\python37\\lib\\site-packages (from requests->transformers) (2023.5.7)\n"
     ]
    },
    {
     "name": "stderr",
     "output_type": "stream",
     "text": [
      "\n",
      "[notice] A new release of pip is available: 23.1.2 -> 23.2\n",
      "[notice] To update, run: python.exe -m pip install --upgrade pip\n"
     ]
    }
   ],
   "source": [
    "!pip install transformers"
   ]
  },
  {
   "cell_type": "code",
   "execution_count": 2,
   "id": "5e446048",
   "metadata": {},
   "outputs": [],
   "source": [
    "import torch \n",
    "import torch.optim as optim \n",
    "import numpy as np \n",
    "import pandas as pd\n",
    "import random \n",
    "from tqdm import tqdm \n",
    "import matplotlib.pyplot as plt \n",
    "from torch.utils.data import Dataset, DataLoader\n",
    "from sklearn.model_selection import train_test_split\n",
    "from transformers import BertTokenizer, BertForSequenceClassification\n",
    "from torch.utils.data import Dataset, DataLoader\n"
   ]
  },
  {
   "cell_type": "code",
   "execution_count": 3,
   "id": "52e917e8",
   "metadata": {},
   "outputs": [],
   "source": [
    "def set_seeds(seed):\n",
    "    random.seed(seed) \n",
    "    np.random.seed(seed)  \n",
    "    torch.manual_seed(seed)\n",
    "    if torch.cuda.is_available():\n",
    "        torch.cuda.manual_seed(seed)\n",
    "        torch.cuda.manual_seed_all(seed) \n",
    "    torch.backends.cudnn.benchmark = False\n",
    "    torch.backends.cudnn.deterministic = True\n",
    "    \n",
    "set_seeds(0)"
   ]
  },
  {
   "cell_type": "markdown",
   "id": "ea6827ca",
   "metadata": {},
   "source": [
    "## 讀檔"
   ]
  },
  {
   "cell_type": "code",
   "execution_count": 4,
   "id": "1a8ec9b0",
   "metadata": {},
   "outputs": [],
   "source": [
    "df_fake = pd.read_csv('newsData/Fake.csv')['text'].values\n",
    "df_real = pd.read_csv('newsData/True.csv')['text'].values\n",
    "\n",
    "datas = np.concatenate((df_fake, df_real), axis = 0).tolist()\n",
    "labels = df_fake.shape[0] * [0] + df_real.shape[0] * [1]\n",
    "\n",
    "x_train, x_valid, y_train, y_valid = train_test_split(datas, labels, train_size=0.8, random_state=46, shuffle=True)"
   ]
  },
  {
   "cell_type": "code",
   "execution_count": 5,
   "id": "6d490d1d",
   "metadata": {
    "scrolled": false
   },
   "outputs": [
    {
     "name": "stderr",
     "output_type": "stream",
     "text": [
      "Token indices sequence length is longer than the specified maximum sequence length for this model (730 > 512). Running this sequence through the model will result in indexing errors\n"
     ]
    },
    {
     "name": "stdout",
     "output_type": "stream",
     "text": [
      "原始文字:\n",
      " Donald Trump just couldn t wish all Americans a Happy New Year and leave it at that. Instead, he had to give a shout out to his enemies, haters and  the very dishonest fake news media.  The former reality show star had just one job to do and he couldn t do it. As our Country rapidly grows stronger and smarter, I want to wish all of my friends, supporters, enemies, haters, and even the very dishonest Fake News Media, a Happy and Healthy New Year,  President Angry Pants tweeted.  2018 will be a great year for America! As our Country rapidly grows stronger and smarter, I want to wish all of my friends, supporters, enemies, haters, and even the very dishonest Fake News Media, a Happy and Healthy New Year. 2018 will be a great year for America!  Donald J. Trump (@realDonaldTrump) December 31, 2017Trump s tweet went down about as welll as you d expect.What kind of president sends a New Year s greeting like this despicable, petty, infantile gibberish? Only Trump! His lack of decency won t even allow him to rise above the gutter long enough to wish the American citizens a happy new year!  Bishop Talbert Swan (@TalbertSwan) December 31, 2017no one likes you  Calvin (@calvinstowell) December 31, 2017Your impeachment would make 2018 a great year for America, but I ll also accept regaining control of Congress.  Miranda Yaver (@mirandayaver) December 31, 2017Do you hear yourself talk? When you have to include that many people that hate you you have to wonder? Why do the they all hate me?  Alan Sandoval (@AlanSandoval13) December 31, 2017Who uses the word Haters in a New Years wish??  Marlene (@marlene399) December 31, 2017You can t just say happy new year?  Koren pollitt (@Korencarpenter) December 31, 2017Here s Trump s New Year s Eve tweet from 2016.Happy New Year to all, including to my many enemies and those who have fought me and lost so badly they just don t know what to do. Love!  Donald J. Trump (@realDonaldTrump) December 31, 2016This is nothing new for Trump. He s been doing this for years.Trump has directed messages to his  enemies  and  haters  for New Year s, Easter, Thanksgiving, and the anniversary of 9/11. pic.twitter.com/4FPAe2KypA  Daniel Dale (@ddale8) December 31, 2017Trump s holiday tweets are clearly not presidential.How long did he work at Hallmark before becoming President?  Steven Goodine (@SGoodine) December 31, 2017He s always been like this . . . the only difference is that in the last few years, his filter has been breaking down.  Roy Schulze (@thbthttt) December 31, 2017Who, apart from a teenager uses the term haters?  Wendy (@WendyWhistles) December 31, 2017he s a fucking 5 year old  Who Knows (@rainyday80) December 31, 2017So, to all the people who voted for this a hole thinking he would change once he got into power, you were wrong! 70-year-old men don t change and now he s a year older.Photo by Andrew Burton/Getty Images.\n",
      "\n",
      "轉換後的文字:\n",
      " [CLS] donald trump just couldn t wish all americans a happy new year and leave it at that . instead , he had to give a shout out to his enemies , haters and the very dishonest fake news media . the former reality show star had just one job to do and he couldn t do it . as our country rapidly grows stronger and smarter , i want to wish all of my friends , supporters , enemies , haters , and even the very dishonest fake news media , a happy and healthy new year , president angry pants tweeted . 2018 will be a great year for america ! as our country rapidly grows stronger and smarter , i want to wish all of my friends , supporters , enemies , haters , and even the very dishonest fake news media , a happy and healthy new year . 2018 will be a great year for america ! donald j . trump ( @ realdonaldtrump ) december 31 , 2017trump s tweet went down about as welll as you d expect . what kind of president sends a new year s greeting like this despicable , petty , infantile gibberish ? only trump ! his lack of decency won t even allow him to rise above the gutter long enough to wish the american citizens a happy new year ! bishop talbert swan ( @ talbertswan ) december 31 , 2017no one likes you calvin ( @ calvinstowell ) december 31 , 2017your impeachment would make 2018 a great year for america , but i ll also accept regaining control of congress . miranda yaver ( @ mirandayaver ) december 31 , 2017do you hear yourself talk ? when you have to include that many people that hate you you have to wonder ? why do the they all hate me ? alan sandoval ( @ alansandoval13 ) december 31 , 2017who uses the word haters in a new years wish ? ? marlene ( @ marlene399 ) december 31 , 2017you can t just say happy new year ? koren pollitt ( @ korencarpenter ) december 31 , 2017here s trump s new year s eve tweet from 2016 . happy new year to all , including to my many enemies and those who have fought me and lost so badly they just don t know what to do . love ! donald j . trump ( @ realdonaldtrump ) december 31 , 2016this is nothing new for trump . he s been doing this for years . trump has directed messages to his enemies and haters for new year s , easter , thanksgiving , and the anniversary of 9 / 11 . pic . twitter . com / 4fpae2kypa daniel dale ( @ ddale8 ) december 31 , 2017trump s holiday tweets are clearly not presidential . how long did he work at hallmark before becoming president ? steven goodine ( @ sgoodine ) december 31 , 2017he s always been like this . . . the only difference is that in the last few years , his filter has been breaking down . roy schulze ( @ thbthttt ) december 31 , 2017who , apart from a teenager uses the term haters ? wendy ( @ wendywhistles ) december 31 , 2017he s a fucking 5 year old who knows ( @ rainyday80 ) december 31 , 2017so , to all the people who voted for this a hole thinking he would change once he got into power , you were wrong ! 70 - year - old men don t change and now he s a year older . photo by andrew burton / getty images . [SEP]\n"
     ]
    }
   ],
   "source": [
    "tokenizer = BertTokenizer.from_pretrained(\"textattack/bert-base-uncased-yelp-polarity\")\n",
    "\n",
    "ids = tokenizer(datas[0]).input_ids\n",
    "tokens = tokenizer.convert_ids_to_tokens(ids)\n",
    "string = tokenizer.convert_tokens_to_string(tokens)\n",
    "\n",
    "print('原始文字:\\n', datas[0], end = '\\n\\n')\n",
    "print('轉換後的文字:\\n', string)"
   ]
  },
  {
   "cell_type": "markdown",
   "id": "73991ec5",
   "metadata": {},
   "source": [
    "## 創建資料集"
   ]
  },
  {
   "cell_type": "code",
   "execution_count": 6,
   "id": "543ce9b7",
   "metadata": {},
   "outputs": [],
   "source": [
    "class News(Dataset):\n",
    "    def __init__(self, x, y):\n",
    "        self.x = x\n",
    "        self.y = y\n",
    "\n",
    "          \n",
    "    def __getitem__(self, index):\n",
    "        return self.x[index], self.y[index]\n",
    "       \n",
    "    def __len__(self):\n",
    "        return len(self.x)\n",
    "    \n",
    "trainset = News(x_train, y_train)\n",
    "validset = News(x_valid, y_valid)\n",
    "\n",
    "\n"
   ]
  },
  {
   "cell_type": "code",
   "execution_count": 7,
   "id": "613bc868",
   "metadata": {},
   "outputs": [],
   "source": [
    "def collate_fn(batch):    \n",
    "    (x, y) = zip(*batch)\n",
    "    x = tokenizer(x, max_length=512, truncation=True, padding=\"longest\", return_tensors='pt')\n",
    "    y = {'labels': torch.LongTensor(y)}\n",
    "    return {**x, **y}\n",
    "\n",
    "train_loader = DataLoader(trainset, batch_size = 32, shuffle = True, num_workers = 0, pin_memory = True, collate_fn=collate_fn)\n",
    "valid_loader = DataLoader(validset, batch_size = 32, shuffle = True, num_workers = 0, pin_memory = True, collate_fn=collate_fn)"
   ]
  },
  {
   "cell_type": "code",
   "execution_count": 8,
   "id": "e134f30b",
   "metadata": {},
   "outputs": [],
   "source": [
    "device = torch.device('cuda' if torch.cuda.is_available() else 'cpu')\n",
    "model = BertForSequenceClassification.from_pretrained(\"textattack/bert-base-uncased-yelp-polarity\").to(device)\n",
    "optimizer = optim.AdamW(model.parameters(), lr=1e-4)"
   ]
  },
  {
   "cell_type": "code",
   "execution_count": 9,
   "id": "6d7b2ac2",
   "metadata": {},
   "outputs": [],
   "source": [
    "def train(epoch):\n",
    "    train_loss, train_acc = 0, 0\n",
    "    train_pbar = tqdm(train_loader, position=0, leave=True) # 宣告進度條\n",
    "    \n",
    "    model.train() # 將模型切換成訓練模式\n",
    "    for input_datas in train_pbar: \n",
    "        for key in input_datas.keys():\n",
    "            input_datas[key] = input_datas[key].to(device)\n",
    "        optimizer.zero_grad()  # 梯度清零\n",
    "        outputs = model(**input_datas) # 模型計算答案(前向傳播)\n",
    "        \n",
    "        logits = outputs.logits\n",
    "        loss = outputs.loss\n",
    "\n",
    "        loss.backward() # 返向傳播\n",
    "        optimizer.step() # 更新模型權重\n",
    "        \n",
    "        train_pbar.set_description(f'Train Epoch {epoch}')  # 顯示訓練次數\n",
    "        train_pbar.set_postfix({'loss':f'{loss:.3f}'}) # 顯示當下模型損失\n",
    "        \n",
    "        pred = torch.argmax(logits, dim = 1)\n",
    "        train_acc += sum(pred == input_datas['labels']) # 計算預測成功的數量\n",
    "        train_loss += loss.item()  # 模型總損失\n",
    "    return train_loss/len(train_loader), train_acc/len(trainset) # 計算一次訓練的Loss與準確率\n",
    "\n",
    "\n",
    "def valid(epoch):\n",
    "    valid_loss, valid_acc = 0, 0\n",
    "    valid_pbar = tqdm(valid_loader, position=0, leave=True)\n",
    "    \n",
    "    model.eval()\n",
    "    with torch.no_grad(): \n",
    "        for input_datas in valid_pbar:\n",
    "            for key in input_datas.keys():\n",
    "                input_datas[key] = input_datas[key].to(device)\n",
    "            \n",
    "            outputs = model(**input_datas)\n",
    "            logits = outputs.logits\n",
    "            loss = outputs.loss\n",
    "            \n",
    "            valid_pbar.set_description(f'Valid Epoch {epoch}')\n",
    "            valid_pbar.set_postfix({'loss':f'{loss:.3f}'})\n",
    "\n",
    "            pred = torch.argmax(logits, dim = 1)\n",
    "            valid_acc += sum(pred == input_datas['labels'])\n",
    "            valid_loss += loss.item()\n",
    "\n",
    "    return valid_loss/len(valid_loader), valid_acc/len(validset)\n",
    "\n",
    "        \n",
    "def show_training_loss(loss_record):\n",
    "    train_loss, valid_loss = [i for i in loss_record.values()]\n",
    "    \n",
    "    plt.plot(train_loss)\n",
    "    plt.plot(valid_loss)\n",
    "    #標題\n",
    "    plt.title('Result')\n",
    "    #y軸標籤\n",
    "    plt.ylabel('Loss')\n",
    "    #x軸標籤\n",
    "    plt.xlabel('Epoch')\n",
    "    #顯示折線的名稱\n",
    "    plt.legend(['train', 'valid'], loc='upper left')\n",
    "    #顯示折線圖\n",
    "    plt.show()"
   ]
  },
  {
   "cell_type": "code",
   "execution_count": 10,
   "id": "dcd3ffec",
   "metadata": {},
   "outputs": [
    {
     "name": "stderr",
     "output_type": "stream",
     "text": [
      "Train Epoch 0: 100%|██████████| 1123/1123 [24:43<00:00,  1.32s/it, loss=0.002]\n",
      "Valid Epoch 0: 100%|██████████| 281/281 [02:44<00:00,  1.71it/s, loss=0.002]\n"
     ]
    },
    {
     "name": "stdout",
     "output_type": "stream",
     "text": [
      "Saving Model With Acc 0.99833\n",
      "Train Loss: 0.02403 Train Acc: 0.99387| Valid Loss: 0.00912 Valid Acc: 0.99833| Best Acc: 0.99833\n",
      "\n"
     ]
    },
    {
     "name": "stderr",
     "output_type": "stream",
     "text": [
      "Train Epoch 1: 100%|██████████| 1123/1123 [21:11<00:00,  1.13s/it, loss=0.004]\n",
      "Valid Epoch 1: 100%|██████████| 281/281 [03:02<00:00,  1.54it/s, loss=0.006]\n"
     ]
    },
    {
     "name": "stdout",
     "output_type": "stream",
     "text": [
      "Train Loss: 0.03192 Train Acc: 0.99418| Valid Loss: 0.02761 Valid Acc: 0.99510| Best Acc: 0.99833\n",
      "\n"
     ]
    },
    {
     "name": "stderr",
     "output_type": "stream",
     "text": [
      "Train Epoch 2: 100%|██████████| 1123/1123 [24:20<00:00,  1.30s/it, loss=0.004]\n",
      "Valid Epoch 2: 100%|██████████| 281/281 [03:01<00:00,  1.55it/s, loss=0.238]\n"
     ]
    },
    {
     "name": "stdout",
     "output_type": "stream",
     "text": [
      "Train Loss: 0.03524 Train Acc: 0.99357| Valid Loss: 0.03047 Valid Acc: 0.99454| Best Acc: 0.99833\n",
      "\n"
     ]
    },
    {
     "name": "stderr",
     "output_type": "stream",
     "text": [
      "Train Epoch 3: 100%|██████████| 1123/1123 [23:39<00:00,  1.26s/it, loss=0.009]\n",
      "Valid Epoch 3: 100%|██████████| 281/281 [02:47<00:00,  1.68it/s, loss=0.006]\n"
     ]
    },
    {
     "name": "stdout",
     "output_type": "stream",
     "text": [
      "Train Loss: 0.03610 Train Acc: 0.99337| Valid Loss: 0.03120 Valid Acc: 0.99454| Best Acc: 0.99833\n",
      "\n"
     ]
    },
    {
     "name": "stderr",
     "output_type": "stream",
     "text": [
      "Train Epoch 4: 100%|██████████| 1123/1123 [23:33<00:00,  1.26s/it, loss=0.004]\n",
      "Valid Epoch 4: 100%|██████████| 281/281 [02:59<00:00,  1.56it/s, loss=0.003]"
     ]
    },
    {
     "name": "stdout",
     "output_type": "stream",
     "text": [
      "------------------------------------\n",
      "|Model can't improve, stop training|\n",
      "------------------------------------\n"
     ]
    },
    {
     "name": "stderr",
     "output_type": "stream",
     "text": [
      "\n"
     ]
    },
    {
     "data": {
      "image/png": "[encoded data removed]",
      "text/plain": [
       "<Figure size 640x480 with 1 Axes>"
      ]
     },
     "metadata": {},
     "output_type": "display_data"
    }
   ],
   "source": [
    "epochs = 10                              # 訓練次數\n",
    "early_stopping = 4                      # 模型訓練幾次沒進步就停止\n",
    "stop_cnt = 0                             # 計數模型是否有進步的計數器\n",
    "model_path = 'model.ckpt'                # 模型存放路徑\n",
    "show_loss = True                         # 是否顯示訓練折線圖\n",
    "best_acc = 0                             # 最佳的準確率\n",
    "loss_record = {'train':[], 'valid':[]}   # 訓練紀錄\n",
    "\n",
    "for epoch in range(epochs):   \n",
    "    train_loss, train_acc = train(epoch)\n",
    "    valid_loss, valid_acc = valid(epoch)\n",
    "    \n",
    "    loss_record['train'].append(train_loss)\n",
    "    loss_record['valid'].append(valid_loss)\n",
    "    \n",
    "    # 儲存最佳的模型權重\n",
    "    if valid_acc > best_acc:\n",
    "        best_acc = valid_acc\n",
    "        torch.save(model.state_dict(), model_path)\n",
    "        print(f'Saving Model With Acc {best_acc:.5f}')\n",
    "        stop_cnt = 0\n",
    "    else:\n",
    "        stop_cnt+=1\n",
    "    \n",
    "    # Early stopping\n",
    "    if stop_cnt == early_stopping:\n",
    "        output = \"Model can't improve, stop training\"\n",
    "        print('-' * (len(output)+2))\n",
    "        print(f'|{output}|')\n",
    "        print('-' * (len(output)+2))\n",
    "        break\n",
    "\n",
    "    print(f'Train Loss: {train_loss:.5f} Train Acc: {train_acc:.5f}', end='| ')\n",
    "    print(f'Valid Loss: {valid_loss:.5f} Valid Acc: {valid_acc:.5f}', end='| ')\n",
    "    print(f'Best Acc: {best_acc:.5f}', end='\\n\\n')\n",
    "\n",
    "if show_loss:\n",
    "    show_training_loss(loss_record)\n",
    "        "
   ]
  },
  {
   "cell_type": "code",
   "execution_count": 11,
   "id": "1335fbd9",
   "metadata": {},
   "outputs": [
    {
     "ename": "NameError",
     "evalue": "name 'modcel_path' is not defined",
     "output_type": "error",
     "traceback": [
      "\u001b[1;31m---------------------------------------------------------------------------\u001b[0m",
      "\u001b[1;31mNameError\u001b[0m                                 Traceback (most recent call last)",
      "\u001b[1;32m~\\AppData\\Local\\Temp\\ipykernel_40268\\3152873274.py\u001b[0m in \u001b[0;36m<module>\u001b[1;34m\u001b[0m\n\u001b[1;32m----> 1\u001b[1;33m \u001b[0mmodel\u001b[0m\u001b[1;33m.\u001b[0m\u001b[0mload_state_dict\u001b[0m\u001b[1;33m(\u001b[0m\u001b[0mtorch\u001b[0m\u001b[1;33m.\u001b[0m\u001b[0mload\u001b[0m\u001b[1;33m(\u001b[0m\u001b[0mmodcel_path\u001b[0m\u001b[1;33m)\u001b[0m\u001b[1;33m)\u001b[0m\u001b[1;33m\u001b[0m\u001b[1;33m\u001b[0m\u001b[0m\n\u001b[0m\u001b[0;32m      2\u001b[0m \u001b[0mmodel\u001b[0m\u001b[1;33m.\u001b[0m\u001b[0meval\u001b[0m\u001b[1;33m(\u001b[0m\u001b[1;33m)\u001b[0m\u001b[1;33m\u001b[0m\u001b[1;33m\u001b[0m\u001b[0m\n",
      "\u001b[1;31mNameError\u001b[0m: name 'modcel_path' is not defined"
     ]
    }
   ],
   "source": [
    "model.load_state_dict(torch.load(modcel_path))\n",
    "model.eval()"
   ]
  },
  {
   "cell_type": "code",
   "execution_count": null,
   "id": "9db2a5e7",
   "metadata": {},
   "outputs": [],
   "source": [
    "\n"
   ]
  },
  {
   "cell_type": "code",
   "execution_count": null,
   "id": "3e50af89",
   "metadata": {},
   "outputs": [],
   "source": []
  }
 ],
 "metadata": {
  "kernelspec": {
   "display_name": "Python 3 (ipykernel)",
   "language": "python",
   "name": "python3"
  },
  "language_info": {
   "codemirror_mode": {
    "name": "ipython",
    "version": 3
   },
   "file_extension": ".py",
   "mimetype": "text/x-python",
   "name": "python",
   "nbconvert_exporter": "python",
   "pygments_lexer": "ipython3",
   "version": "3.7.8"
  }
 },
 "nbformat": 4,
 "nbformat_minor": 5
}
