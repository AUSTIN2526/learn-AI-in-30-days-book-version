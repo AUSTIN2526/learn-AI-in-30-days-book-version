{
 "cells": [
  {
   "cell_type": "code",
   "execution_count": 1,
   "id": "c831d7d5",
   "metadata": {},
   "outputs": [],
   "source": [
    "import torch \n",
    "import torch.nn as nn \n",
    "import torch.optim as optim \n",
    "import numpy as np \n",
    "import pandas as pd\n",
    "from torch.utils.data import Dataset, DataLoader\n",
    "from tqdm import tqdm \n",
    "import matplotlib.pyplot as plt \n",
    "import random \n",
    "from torch.nn.utils.rnn import pad_sequence\n",
    "from sklearn.model_selection import train_test_split\n",
    "from collections import Counter\n",
    "from torchtext.vocab import vocab\n",
    "from torchtext.data.utils import get_tokenizer"
   ]
  },
  {
   "cell_type": "code",
   "execution_count": 2,
   "id": "52e917e8",
   "metadata": {},
   "outputs": [],
   "source": [
    "def set_seeds(seed):\n",
    "    random.seed(seed) \n",
    "    np.random.seed(seed)  \n",
    "    torch.manual_seed(seed)\n",
    "    if torch.cuda.is_available():\n",
    "        torch.cuda.manual_seed(seed)\n",
    "        torch.cuda.manual_seed_all(seed) \n",
    "    torch.backends.cudnn.benchmark = False\n",
    "    torch.backends.cudnn.deterministic = True\n",
    "    \n",
    "set_seeds(0)"
   ]
  },
  {
   "cell_type": "markdown",
   "id": "ea6827ca",
   "metadata": {},
   "source": [
    "## 讀檔"
   ]
  },
  {
   "cell_type": "code",
   "execution_count": 3,
   "id": "1a8ec9b0",
   "metadata": {},
   "outputs": [],
   "source": [
    "df = pd.read_csv('sentimentData/IMDB Dataset.csv')\n",
    "reviews = df['review'].values\n",
    "sentiments = df['sentiment'].values"
   ]
  },
  {
   "cell_type": "code",
   "execution_count": 4,
   "id": "a7d483b1",
   "metadata": {},
   "outputs": [
    {
     "name": "stdout",
     "output_type": "stream",
     "text": [
      "原始標籤:\n",
      " ['positive' 'positive' 'positive' ... 'negative' 'negative' 'negative']\n",
      "\n",
      "轉換後的標籤:\n",
      " [1. 1. 1. ... 0. 0. 0.]\n"
     ]
    }
   ],
   "source": [
    "print('原始標籤:\\n', sentiments, end = '\\n\\n')\n",
    "print('轉換後的標籤:\\n', (sentiments=='positive').astype('float32'))"
   ]
  },
  {
   "cell_type": "code",
   "execution_count": 5,
   "id": "6d490d1d",
   "metadata": {
    "scrolled": false
   },
   "outputs": [
    {
     "name": "stdout",
     "output_type": "stream",
     "text": [
      "原始文字:\n",
      " One of the other reviewers has mentioned that after watching just 1 Oz episode you'll be hooked. They are right, as this is exactly what happened with me.<br /><br />The first thing that struck me about Oz was its brutality and unflinching scenes of violence, which set in right from the word GO. Trust me, this is not a show for the faint hearted or timid. This show pulls no punches with regards to drugs, sex or violence. Its is hardcore, in the classic use of the word.<br /><br />It is called OZ as that is the nickname given to the Oswald Maximum Security State Penitentary. It focuses mainly on Emerald City, an experimental section of the prison where all the cells have glass fronts and face inwards, so privacy is not high on the agenda. Em City is home to many..Aryans, Muslims, gangstas, Latinos, Christians, Italians, Irish and more....so scuffles, death stares, dodgy dealings and shady agreements are never far away.<br /><br />I would say the main appeal of the show is due to the fact that it goes where other shows wouldn't dare. Forget pretty pictures painted for mainstream audiences, forget charm, forget romance...OZ doesn't mess around. The first episode I ever saw struck me as so nasty it was surreal, I couldn't say I was ready for it, but as I watched more, I developed a taste for Oz, and got accustomed to the high levels of graphic violence. Not just violence, but injustice (crooked guards who'll be sold out for a nickel, inmates who'll kill on order and get away with it, well mannered, middle class inmates being turned into prison bitches due to their lack of street skills or prison experience) Watching Oz, you may become comfortable with what is uncomfortable viewing....thats if you can get in touch with your darker side.\n",
      "\n",
      "轉換後的文字:\n",
      " one of the other reviewers has mentioned that after watching just 1 oz episode you ' ll be hooked . they are right , as this is exactly what happened with me . the first thing that struck me about oz was its brutality and unflinching scenes of violence , which set in right from the word go . trust me , this is not a show for the faint hearted or timid . this show pulls no punches with regards to drugs , sex or violence . its is hardcore , in the classic use of the word . it is called oz as that is the nickname given to the oswald maximum security state penitentary . it focuses mainly on emerald city , an experimental section of the prison where all the cells have glass fronts and face inwards , so privacy is not high on the agenda . em city is home to many . . aryans , muslims , gangstas , latinos , christians , italians , irish and more . . . . so scuffles , death stares , dodgy dealings and shady agreements are never far away . i would say the main appeal of the show is due to the fact that it goes where other shows wouldn ' t dare . forget pretty pictures painted for mainstream audiences , forget charm , forget romance . . . oz doesn ' t mess around . the first episode i ever saw struck me as so nasty it was surreal , i couldn ' t say i was ready for it , but as i watched more , i developed a taste for oz , and got accustomed to the high levels of graphic violence . not just violence , but injustice ( crooked guards who ' ll be sold out for a nickel , inmates who ' ll kill on order and get away with it , well mannered , middle class inmates being turned into prison bitches due to their lack of street skills or prison experience ) watching oz , you may become comfortable with what is uncomfortable viewing . . . . thats if you can get in touch with your darker side .\n"
     ]
    }
   ],
   "source": [
    "tokenizer = get_tokenizer('basic_english')\n",
    "\n",
    "print('原始文字:\\n', reviews[0], end = '\\n\\n')\n",
    "print('轉換後的文字:\\n', \" \".join(tokenizer(reviews[0])))"
   ]
  },
  {
   "cell_type": "code",
   "execution_count": 6,
   "id": "3b70b154",
   "metadata": {},
   "outputs": [],
   "source": [
    "counter = Counter()\n",
    "for review in reviews:\n",
    "    token = tokenizer(review)\n",
    "    counter.update(token)\n",
    "\n",
    "token_vocab = vocab(counter, min_freq=10, specials=('<pad>', '<unk>'))\n",
    "token_vocab.set_default_index(token_vocab.get_stoi()['<unk>'])\n",
    "\n",
    "PAD_IDX = token_vocab.get_stoi()['<pad>']\n",
    "INPUT_DIM = len(token_vocab)\n",
    "\n",
    "reviews_ids = [torch.tensor(token_vocab.lookup_indices(tokenizer(i))) for i in reviews]\n",
    "labels = (sentiments=='positive').astype('float32')\n",
    "\n",
    "x_train, x_valid, y_train, y_valid = train_test_split(reviews_ids, labels, train_size=0.8, random_state=46, shuffle=False)"
   ]
  },
  {
   "cell_type": "markdown",
   "id": "73991ec5",
   "metadata": {},
   "source": [
    "## 創建資料集"
   ]
  },
  {
   "cell_type": "code",
   "execution_count": 7,
   "id": "543ce9b7",
   "metadata": {},
   "outputs": [],
   "source": [
    "class IMDB(Dataset):\n",
    "    def __init__(self, x, y):\n",
    "        self.x = x\n",
    "        self.y = y\n",
    "          \n",
    "    def __getitem__(self, index):\n",
    "        return self.x[index], self.y[index]\n",
    "       \n",
    "    def __len__(self):\n",
    "        return len(self.x)\n",
    "    \n",
    "trainset = IMDB(x_train, y_train)\n",
    "validset = IMDB(x_valid, y_valid)"
   ]
  },
  {
   "cell_type": "code",
   "execution_count": 8,
   "id": "b90f8f91",
   "metadata": {},
   "outputs": [],
   "source": [
    "def collate_fn(batch):    \n",
    "    (x, y) = zip(*batch)\n",
    "    return pad_sequence(x, padding_value=PAD_IDX, batch_first=True), torch.tensor(y)\n",
    "\n",
    "train_loader = DataLoader(trainset, batch_size = 64, shuffle = True, num_workers = 0, pin_memory = True, collate_fn=collate_fn)\n",
    "valid_loader = DataLoader(validset, batch_size = 64, shuffle = True, num_workers = 0, pin_memory = True, collate_fn=collate_fn)"
   ]
  },
  {
   "cell_type": "code",
   "execution_count": 14,
   "id": "e134f30b",
   "metadata": {},
   "outputs": [],
   "source": [
    "class LSTM(nn.Module):\n",
    "    def __init__(self, embedding_dim, hidden_size, num_layers=1, bidirectional=True):\n",
    "        super().__init__()\n",
    "        self.embedding = nn.Embedding(INPUT_DIM,  embedding_dim, padding_idx = PAD_IDX)\n",
    "        self.lstm =nn.LSTM(embedding_dim, \n",
    "                           hidden_size = hidden_size, \n",
    "                           num_layers = num_layers,\n",
    "                           bidirectional = bidirectional,\n",
    "                           batch_first=True\n",
    "        )\n",
    "\n",
    "        hidden = hidden_size * 2 if bidirectional else hidden_size\n",
    "        self.fc = nn.Linear(hidden, 1)\n",
    "\n",
    "        self.sigmoid = nn.Sigmoid()\n",
    "\n",
    "    def forward(self, x):\n",
    "        emb_out = self.embedding(x)\n",
    "        out, (h, c)  = self.lstm(emb_out)\n",
    "        x = out[:, -1, :]\n",
    "        x = self.fc(x)\n",
    "        print(x.shape)\n",
    "        return self.sigmoid(x)\n",
    "    \n",
    "device = torch.device('cuda' if torch.cuda.is_available() else 'cpu')\n",
    "model = LSTM(embedding_dim = 300, hidden_size= 128).to(device)\n",
    "criterion = nn.BCELoss()\n",
    "optimizer = optim.Adam(model.parameters(), lr=1e-3)"
   ]
  },
  {
   "cell_type": "code",
   "execution_count": 15,
   "id": "6d7b2ac2",
   "metadata": {},
   "outputs": [],
   "source": [
    "def train(epoch):\n",
    "    train_loss, train_acc = 0, 0\n",
    "    train_pbar = tqdm(train_loader, position=0, leave=True) # 宣告進度條\n",
    "    \n",
    "    model.train() # 將模型切換成訓練模式\n",
    "    for input_datas in train_pbar: \n",
    "        features, labels = [i.to(device) for i in input_datas] # 將資料放入到GPU中\n",
    "        optimizer.zero_grad()  # 梯度清零\n",
    "        outputs = model(features).view(-1) # 模型計算答案(前向傳播)\n",
    "        \n",
    "        loss = criterion(outputs, labels) # 計算Loss值\n",
    "        loss.backward() # 返向傳播\n",
    "        optimizer.step() # 更新模型權重\n",
    "        \n",
    "        train_pbar.set_description(f'Train Epoch {epoch}')  # 顯示訓練次數\n",
    "        train_pbar.set_postfix({'loss':f'{loss:.3f}'}) # 顯示當下模型損失\n",
    "        \n",
    "        pred = outputs > 0.5\n",
    "        train_acc += sum(pred == labels) # 計算預測成功的數量\n",
    "        train_loss += loss.item()  # 模型總損失\n",
    "    return train_loss/len(train_loader), train_acc/len(trainset) # 計算一次訓練的Loss與準確率\n",
    "\n",
    "\n",
    "def valid(epoch):\n",
    "    valid_loss, valid_acc = 0, 0\n",
    "    valid_pbar = tqdm(valid_loader, position=0, leave=True)\n",
    "    \n",
    "    model.eval()\n",
    "    with torch.no_grad(): \n",
    "        for input_datas in valid_pbar:\n",
    "            features, labels = [i.to(device) for i in input_datas]\n",
    "            outputs = model(features).view(-1)\n",
    "            loss = criterion(outputs, labels)\n",
    "            \n",
    "            valid_pbar.set_description(f'Valid Epoch {epoch}')\n",
    "            valid_pbar.set_postfix({'loss':f'{loss:.3f}'})\n",
    "\n",
    "            pred = outputs > 0.5\n",
    "            valid_acc += sum(pred == labels)\n",
    "            valid_loss += loss.item()\n",
    "\n",
    "    return valid_loss/len(valid_loader), valid_acc/len(validset)\n",
    "\n",
    "        \n",
    "def show_training_loss(loss_record):\n",
    "    train_loss, valid_loss = [i for i in loss_record.values()]\n",
    "    \n",
    "    plt.plot(train_loss)\n",
    "    plt.plot(valid_loss)\n",
    "    #標題\n",
    "    plt.title('Result')\n",
    "    #y軸標籤\n",
    "    plt.ylabel('Loss')\n",
    "    #x軸標籤\n",
    "    plt.xlabel('Epoch')\n",
    "    #顯示折線的名稱\n",
    "    plt.legend(['train', 'valid'], loc='upper left')\n",
    "    #顯示折線圖\n",
    "    plt.show()"
   ]
  },
  {
   "cell_type": "code",
   "execution_count": 11,
   "id": "8f1cded5",
   "metadata": {},
   "outputs": [
    {
     "name": "stderr",
     "output_type": "stream",
     "text": [
      "Train Epoch 0: 100%|█████████████████████████████████████████████████████| 625/625 [00:16<00:00, 37.14it/s, loss=0.697]\n",
      "Valid Epoch 0: 100%|█████████████████████████████████████████████████████| 157/157 [00:01<00:00, 83.87it/s, loss=0.683]\n"
     ]
    },
    {
     "name": "stdout",
     "output_type": "stream",
     "text": [
      "Saving Model With Acc 0.50170\n",
      "Train Loss: 0.69323 Train Acc: 0.49615| Valid Loss: 0.69273 Valid Acc: 0.50170| Best Acc: 0.50170\n",
      "\n"
     ]
    },
    {
     "name": "stderr",
     "output_type": "stream",
     "text": [
      "Train Epoch 1: 100%|█████████████████████████████████████████████████████| 625/625 [00:16<00:00, 38.47it/s, loss=0.690]\n",
      "Valid Epoch 1: 100%|█████████████████████████████████████████████████████| 157/157 [00:02<00:00, 78.03it/s, loss=0.725]\n"
     ]
    },
    {
     "name": "stdout",
     "output_type": "stream",
     "text": [
      "Train Loss: 0.69177 Train Acc: 0.49975| Valid Loss: 0.69322 Valid Acc: 0.50170| Best Acc: 0.50170\n",
      "\n"
     ]
    },
    {
     "name": "stderr",
     "output_type": "stream",
     "text": [
      "Train Epoch 2: 100%|█████████████████████████████████████████████████████| 625/625 [00:16<00:00, 38.55it/s, loss=0.686]\n",
      "Valid Epoch 2: 100%|█████████████████████████████████████████████████████| 157/157 [00:01<00:00, 83.15it/s, loss=0.661]\n"
     ]
    },
    {
     "name": "stdout",
     "output_type": "stream",
     "text": [
      "Train Loss: 0.68995 Train Acc: 0.50825| Valid Loss: 0.69371 Valid Acc: 0.50080| Best Acc: 0.50170\n",
      "\n"
     ]
    },
    {
     "name": "stderr",
     "output_type": "stream",
     "text": [
      "Train Epoch 3: 100%|█████████████████████████████████████████████████████| 625/625 [00:16<00:00, 38.18it/s, loss=0.684]\n",
      "Valid Epoch 3: 100%|█████████████████████████████████████████████████████| 157/157 [00:01<00:00, 82.22it/s, loss=0.759]\n"
     ]
    },
    {
     "name": "stdout",
     "output_type": "stream",
     "text": [
      "Train Loss: 0.68769 Train Acc: 0.50635| Valid Loss: 0.69341 Valid Acc: 0.50040| Best Acc: 0.50170\n",
      "\n"
     ]
    },
    {
     "name": "stderr",
     "output_type": "stream",
     "text": [
      "Train Epoch 4: 100%|█████████████████████████████████████████████████████| 625/625 [00:16<00:00, 38.31it/s, loss=0.689]\n",
      "Valid Epoch 4: 100%|█████████████████████████████████████████████████████| 157/157 [00:01<00:00, 84.00it/s, loss=0.718]\n"
     ]
    },
    {
     "name": "stdout",
     "output_type": "stream",
     "text": [
      "Train Loss: 0.68684 Train Acc: 0.50647| Valid Loss: 0.69612 Valid Acc: 0.50140| Best Acc: 0.50170\n",
      "\n"
     ]
    },
    {
     "name": "stderr",
     "output_type": "stream",
     "text": [
      "Train Epoch 5: 100%|█████████████████████████████████████████████████████| 625/625 [00:16<00:00, 38.05it/s, loss=0.689]\n",
      "Valid Epoch 5: 100%|█████████████████████████████████████████████████████| 157/157 [00:01<00:00, 82.48it/s, loss=0.654]\n"
     ]
    },
    {
     "name": "stdout",
     "output_type": "stream",
     "text": [
      "Train Loss: 0.68589 Train Acc: 0.50302| Valid Loss: 0.69502 Valid Acc: 0.50040| Best Acc: 0.50170\n",
      "\n"
     ]
    },
    {
     "name": "stderr",
     "output_type": "stream",
     "text": [
      "Train Epoch 6: 100%|█████████████████████████████████████████████████████| 625/625 [00:16<00:00, 37.23it/s, loss=0.687]\n",
      "Valid Epoch 6: 100%|█████████████████████████████████████████████████████| 157/157 [00:01<00:00, 82.79it/s, loss=0.796]\n"
     ]
    },
    {
     "name": "stdout",
     "output_type": "stream",
     "text": [
      "Saving Model With Acc 0.50240\n",
      "Train Loss: 0.68600 Train Acc: 0.50673| Valid Loss: 0.69523 Valid Acc: 0.50240| Best Acc: 0.50240\n",
      "\n"
     ]
    },
    {
     "name": "stderr",
     "output_type": "stream",
     "text": [
      "Train Epoch 7: 100%|█████████████████████████████████████████████████████| 625/625 [00:17<00:00, 36.42it/s, loss=0.687]\n",
      "Valid Epoch 7: 100%|█████████████████████████████████████████████████████| 157/157 [00:01<00:00, 79.58it/s, loss=0.610]\n"
     ]
    },
    {
     "name": "stdout",
     "output_type": "stream",
     "text": [
      "Saving Model With Acc 0.50580\n",
      "Train Loss: 0.68472 Train Acc: 0.50477| Valid Loss: 0.69549 Valid Acc: 0.50580| Best Acc: 0.50580\n",
      "\n"
     ]
    },
    {
     "name": "stderr",
     "output_type": "stream",
     "text": [
      "Train Epoch 8: 100%|█████████████████████████████████████████████████████| 625/625 [00:17<00:00, 36.67it/s, loss=0.683]\n",
      "Valid Epoch 8: 100%|█████████████████████████████████████████████████████| 157/157 [00:01<00:00, 83.68it/s, loss=0.670]\n"
     ]
    },
    {
     "name": "stdout",
     "output_type": "stream",
     "text": [
      "Train Loss: 0.68389 Train Acc: 0.50717| Valid Loss: 0.69239 Valid Acc: 0.50380| Best Acc: 0.50580\n",
      "\n"
     ]
    },
    {
     "name": "stderr",
     "output_type": "stream",
     "text": [
      "Train Epoch 9: 100%|█████████████████████████████████████████████████████| 625/625 [00:16<00:00, 37.96it/s, loss=0.443]\n",
      "Valid Epoch 9: 100%|█████████████████████████████████████████████████████| 157/157 [00:01<00:00, 84.61it/s, loss=0.414]\n"
     ]
    },
    {
     "name": "stdout",
     "output_type": "stream",
     "text": [
      "Saving Model With Acc 0.82460\n",
      "Train Loss: 0.52592 Train Acc: 0.72475| Valid Loss: 0.40941 Valid Acc: 0.82460| Best Acc: 0.82460\n",
      "\n"
     ]
    },
    {
     "name": "stderr",
     "output_type": "stream",
     "text": [
      "Train Epoch 10: 100%|████████████████████████████████████████████████████| 625/625 [00:16<00:00, 38.35it/s, loss=0.351]\n",
      "Valid Epoch 10: 100%|████████████████████████████████████████████████████| 157/157 [00:01<00:00, 81.87it/s, loss=0.452]\n"
     ]
    },
    {
     "name": "stdout",
     "output_type": "stream",
     "text": [
      "Saving Model With Acc 0.85470\n",
      "Train Loss: 0.32359 Train Acc: 0.87460| Valid Loss: 0.35618 Valid Acc: 0.85470| Best Acc: 0.85470\n",
      "\n"
     ]
    },
    {
     "name": "stderr",
     "output_type": "stream",
     "text": [
      "Train Epoch 11: 100%|████████████████████████████████████████████████████| 625/625 [00:16<00:00, 37.40it/s, loss=0.308]\n",
      "Valid Epoch 11: 100%|████████████████████████████████████████████████████| 157/157 [00:01<00:00, 82.04it/s, loss=0.493]\n"
     ]
    },
    {
     "name": "stdout",
     "output_type": "stream",
     "text": [
      "Saving Model With Acc 0.87630\n",
      "Train Loss: 0.23585 Train Acc: 0.91600| Valid Loss: 0.31757 Valid Acc: 0.87630| Best Acc: 0.87630\n",
      "\n"
     ]
    },
    {
     "name": "stderr",
     "output_type": "stream",
     "text": [
      "Train Epoch 12: 100%|████████████████████████████████████████████████████| 625/625 [00:16<00:00, 37.78it/s, loss=0.168]\n",
      "Valid Epoch 12: 100%|████████████████████████████████████████████████████| 157/157 [00:01<00:00, 81.72it/s, loss=0.211]\n"
     ]
    },
    {
     "name": "stdout",
     "output_type": "stream",
     "text": [
      "Saving Model With Acc 0.88040\n",
      "Train Loss: 0.17951 Train Acc: 0.94305| Valid Loss: 0.33369 Valid Acc: 0.88040| Best Acc: 0.88040\n",
      "\n"
     ]
    },
    {
     "name": "stderr",
     "output_type": "stream",
     "text": [
      "Train Epoch 13: 100%|████████████████████████████████████████████████████| 625/625 [00:16<00:00, 37.32it/s, loss=0.093]\n",
      "Valid Epoch 13: 100%|████████████████████████████████████████████████████| 157/157 [00:01<00:00, 82.58it/s, loss=0.691]\n"
     ]
    },
    {
     "name": "stdout",
     "output_type": "stream",
     "text": [
      "Train Loss: 0.14679 Train Acc: 0.95677| Valid Loss: 0.33177 Valid Acc: 0.88010| Best Acc: 0.88040\n",
      "\n"
     ]
    },
    {
     "name": "stderr",
     "output_type": "stream",
     "text": [
      "Train Epoch 14: 100%|████████████████████████████████████████████████████| 625/625 [00:16<00:00, 37.81it/s, loss=0.081]\n",
      "Valid Epoch 14: 100%|████████████████████████████████████████████████████| 157/157 [00:01<00:00, 78.53it/s, loss=0.412]\n"
     ]
    },
    {
     "name": "stdout",
     "output_type": "stream",
     "text": [
      "Train Loss: 0.12537 Train Acc: 0.96455| Valid Loss: 0.35959 Valid Acc: 0.87900| Best Acc: 0.88040\n",
      "\n"
     ]
    },
    {
     "data": {
      "image/png": "[encoded data removed]",
      "text/plain": [
       "<Figure size 640x480 with 1 Axes>"
      ]
     },
     "metadata": {},
     "output_type": "display_data"
    }
   ],
   "source": [
    "epochs = 15                              # 訓練次數\n",
    "early_stopping = 7                      # 模型訓練幾次沒進步就停止\n",
    "stop_cnt = 0                             # 計數模型是否有進步的計數器\n",
    "model_path = 'model.ckpt'                # 模型存放路徑\n",
    "show_loss = True                         # 是否顯示訓練折線圖\n",
    "best_acc = 0                             # 最佳的準確率\n",
    "loss_record = {'train':[], 'valid':[]}   # 訓練紀錄\n",
    "\n",
    "for epoch in range(epochs):   \n",
    "    train_loss, train_acc = train(epoch)\n",
    "    valid_loss, valid_acc = valid(epoch)\n",
    "    \n",
    "    loss_record['train'].append(train_loss)\n",
    "    loss_record['valid'].append(valid_loss)\n",
    "    \n",
    "    # 儲存最佳的模型權重\n",
    "    if valid_acc > best_acc:\n",
    "        best_acc = valid_acc\n",
    "        torch.save(model.state_dict(), model_path)\n",
    "        print(f'Saving Model With Acc {best_acc:.5f}')\n",
    "        stop_cnt = 0\n",
    "    else:\n",
    "        stop_cnt+=1\n",
    "    \n",
    "    # Early stopping\n",
    "    if stop_cnt == early_stopping:\n",
    "        output = \"Model can't improve, stop training\"\n",
    "        print('-' * (len(output)+2))\n",
    "        print(f'|{output}|')\n",
    "        print('-' * (len(output)+2))\n",
    "        break\n",
    "\n",
    "    print(f'Train Loss: {train_loss:.5f} Train Acc: {train_acc:.5f}', end='| ')\n",
    "    print(f'Valid Loss: {valid_loss:.5f} Valid Acc: {valid_acc:.5f}', end='| ')\n",
    "    print(f'Best Acc: {best_acc:.5f}', end='\\n\\n')\n",
    "\n",
    "if show_loss:\n",
    "    show_training_loss(loss_record)\n",
    "        "
   ]
  },
  {
   "cell_type": "code",
   "execution_count": 16,
   "id": "dcd3ffec",
   "metadata": {},
   "outputs": [
    {
     "name": "stderr",
     "output_type": "stream",
     "text": [
      "\r",
      "  0%|                                                                                          | 0/625 [00:00<?, ?it/s]"
     ]
    },
    {
     "name": "stdout",
     "output_type": "stream",
     "text": [
      "torch.Size([64, 1])\n"
     ]
    },
    {
     "name": "stderr",
     "output_type": "stream",
     "text": [
      "Train Epoch 0:   1%|▍                                                      | 5/625 [00:00<00:38, 16.10it/s, loss=0.682]"
     ]
    },
    {
     "name": "stdout",
     "output_type": "stream",
     "text": [
      "torch.Size([64, 1])\n",
      "torch.Size([64, 1])\n",
      "torch.Size([64, 1])\n",
      "torch.Size([64, 1])\n",
      "torch.Size([64, 1])\n",
      "torch.Size([64, 1])\n",
      "torch.Size([64, 1])\n"
     ]
    },
    {
     "name": "stderr",
     "output_type": "stream",
     "text": [
      "Train Epoch 0:   2%|█▏                                                    | 14/625 [00:00<00:21, 29.09it/s, loss=0.712]"
     ]
    },
    {
     "name": "stdout",
     "output_type": "stream",
     "text": [
      "torch.Size([64, 1])\n",
      "torch.Size([64, 1])\n",
      "torch.Size([64, 1])\n",
      "torch.Size([64, 1])\n",
      "torch.Size([64, 1])\n",
      "torch.Size([64, 1])\n",
      "torch.Size([64, 1])\n",
      "torch.Size([64, 1])\n"
     ]
    },
    {
     "name": "stderr",
     "output_type": "stream",
     "text": [
      "Train Epoch 0:   4%|█▉                                                    | 22/625 [00:00<00:18, 32.79it/s, loss=0.696]"
     ]
    },
    {
     "name": "stdout",
     "output_type": "stream",
     "text": [
      "torch.Size([64, 1])\n",
      "torch.Size([64, 1])\n",
      "torch.Size([64, 1])\n",
      "torch.Size([64, 1])\n",
      "torch.Size([64, 1])\n",
      "torch.Size([64, 1])\n",
      "torch.Size([64, 1])\n"
     ]
    },
    {
     "name": "stderr",
     "output_type": "stream",
     "text": [
      "Train Epoch 0:   4%|██▎                                                   | 27/625 [00:01<00:16, 35.60it/s, loss=0.692]"
     ]
    },
    {
     "name": "stdout",
     "output_type": "stream",
     "text": [
      "torch.Size([64, 1])\n",
      "torch.Size([64, 1])\n",
      "torch.Size([64, 1])\n",
      "torch.Size([64, 1])\n",
      "torch.Size([64, 1])\n",
      "torch.Size([64, 1])\n",
      "torch.Size([64, 1])\n",
      "torch.Size([64, 1])\n"
     ]
    },
    {
     "name": "stderr",
     "output_type": "stream",
     "text": [
      "Train Epoch 0:   6%|███                                                   | 36/625 [00:01<00:15, 37.14it/s, loss=0.694]"
     ]
    },
    {
     "name": "stdout",
     "output_type": "stream",
     "text": [
      "torch.Size([64, 1])\n",
      "torch.Size([64, 1])\n",
      "torch.Size([64, 1])\n",
      "torch.Size([64, 1])\n",
      "torch.Size([64, 1])\n",
      "torch.Size([64, 1])\n",
      "torch.Size([64, 1])\n",
      "torch.Size([64, 1])\n"
     ]
    },
    {
     "name": "stderr",
     "output_type": "stream",
     "text": [
      "Train Epoch 0:   7%|███▉                                                  | 45/625 [00:01<00:15, 37.90it/s, loss=0.696]"
     ]
    },
    {
     "name": "stdout",
     "output_type": "stream",
     "text": [
      "torch.Size([64, 1])\n",
      "torch.Size([64, 1])\n",
      "torch.Size([64, 1])\n",
      "torch.Size([64, 1])\n",
      "torch.Size([64, 1])\n",
      "torch.Size([64, 1])\n",
      "torch.Size([64, 1])\n"
     ]
    },
    {
     "name": "stderr",
     "output_type": "stream",
     "text": [
      "Train Epoch 0:   8%|████▌                                                 | 53/625 [00:01<00:14, 38.15it/s, loss=0.699]"
     ]
    },
    {
     "name": "stdout",
     "output_type": "stream",
     "text": [
      "torch.Size([64, 1])\n",
      "torch.Size([64, 1])\n",
      "torch.Size([64, 1])\n",
      "torch.Size([64, 1])\n",
      "torch.Size([64, 1])\n",
      "torch.Size([64, 1])\n",
      "torch.Size([64, 1])\n",
      "torch.Size([64, 1])\n"
     ]
    },
    {
     "name": "stderr",
     "output_type": "stream",
     "text": [
      "Train Epoch 0:   9%|████▉                                                 | 57/625 [00:01<00:15, 35.83it/s, loss=0.704]"
     ]
    },
    {
     "name": "stdout",
     "output_type": "stream",
     "text": [
      "torch.Size([64, 1])\n",
      "torch.Size([64, 1])\n",
      "torch.Size([64, 1])\n",
      "torch.Size([64, 1])\n",
      "torch.Size([64, 1])\n",
      "torch.Size([64, 1])\n",
      "torch.Size([64, 1])\n"
     ]
    },
    {
     "name": "stderr",
     "output_type": "stream",
     "text": [
      "Train Epoch 0:  10%|█████▌                                                | 65/625 [00:02<00:15, 35.07it/s, loss=0.701]"
     ]
    },
    {
     "name": "stdout",
     "output_type": "stream",
     "text": [
      "torch.Size([64, 1])\n",
      "torch.Size([64, 1])\n",
      "torch.Size([64, 1])\n",
      "torch.Size([64, 1])\n",
      "torch.Size([64, 1])\n",
      "torch.Size([64, 1])\n",
      "torch.Size([64, 1])\n"
     ]
    },
    {
     "name": "stderr",
     "output_type": "stream",
     "text": [
      "Train Epoch 0:  12%|██████▍                                               | 74/625 [00:02<00:14, 36.95it/s, loss=0.699]"
     ]
    },
    {
     "name": "stdout",
     "output_type": "stream",
     "text": [
      "torch.Size([64, 1])\n",
      "torch.Size([64, 1])\n",
      "torch.Size([64, 1])\n",
      "torch.Size([64, 1])\n",
      "torch.Size([64, 1])\n",
      "torch.Size([64, 1])\n",
      "torch.Size([64, 1])\n"
     ]
    },
    {
     "name": "stderr",
     "output_type": "stream",
     "text": [
      "Train Epoch 0:  12%|██████▋                                               | 78/625 [00:02<00:16, 33.39it/s, loss=0.694]"
     ]
    },
    {
     "name": "stdout",
     "output_type": "stream",
     "text": [
      "torch.Size([64, 1])\n",
      "torch.Size([64, 1])\n",
      "torch.Size([64, 1])\n",
      "torch.Size([64, 1])\n"
     ]
    },
    {
     "name": "stderr",
     "output_type": "stream",
     "text": [
      "\n"
     ]
    },
    {
     "ename": "KeyboardInterrupt",
     "evalue": "",
     "output_type": "error",
     "traceback": [
      "\u001b[1;31m---------------------------------------------------------------------------\u001b[0m",
      "\u001b[1;31mKeyboardInterrupt\u001b[0m                         Traceback (most recent call last)",
      "\u001b[1;32m~\\AppData\\Local\\Temp\\ipykernel_31760\\1693332233.py\u001b[0m in \u001b[0;36m<module>\u001b[1;34m\u001b[0m\n\u001b[0;32m      8\u001b[0m \u001b[1;33m\u001b[0m\u001b[0m\n\u001b[0;32m      9\u001b[0m \u001b[1;32mfor\u001b[0m \u001b[0mepoch\u001b[0m \u001b[1;32min\u001b[0m \u001b[0mrange\u001b[0m\u001b[1;33m(\u001b[0m\u001b[0mepochs\u001b[0m\u001b[1;33m)\u001b[0m\u001b[1;33m:\u001b[0m\u001b[1;33m\u001b[0m\u001b[1;33m\u001b[0m\u001b[0m\n\u001b[1;32m---> 10\u001b[1;33m     \u001b[0mtrain_loss\u001b[0m\u001b[1;33m,\u001b[0m \u001b[0mtrain_acc\u001b[0m \u001b[1;33m=\u001b[0m \u001b[0mtrain\u001b[0m\u001b[1;33m(\u001b[0m\u001b[0mepoch\u001b[0m\u001b[1;33m)\u001b[0m\u001b[1;33m\u001b[0m\u001b[1;33m\u001b[0m\u001b[0m\n\u001b[0m\u001b[0;32m     11\u001b[0m     \u001b[0mvalid_loss\u001b[0m\u001b[1;33m,\u001b[0m \u001b[0mvalid_acc\u001b[0m \u001b[1;33m=\u001b[0m \u001b[0mvalid\u001b[0m\u001b[1;33m(\u001b[0m\u001b[0mepoch\u001b[0m\u001b[1;33m)\u001b[0m\u001b[1;33m\u001b[0m\u001b[1;33m\u001b[0m\u001b[0m\n\u001b[0;32m     12\u001b[0m \u001b[1;33m\u001b[0m\u001b[0m\n",
      "\u001b[1;32m~\\AppData\\Local\\Temp\\ipykernel_31760\\318592541.py\u001b[0m in \u001b[0;36mtrain\u001b[1;34m(epoch)\u001b[0m\n\u001b[0;32m     10\u001b[0m \u001b[1;33m\u001b[0m\u001b[0m\n\u001b[0;32m     11\u001b[0m         \u001b[0mloss\u001b[0m \u001b[1;33m=\u001b[0m \u001b[0mcriterion\u001b[0m\u001b[1;33m(\u001b[0m\u001b[0moutputs\u001b[0m\u001b[1;33m,\u001b[0m \u001b[0mlabels\u001b[0m\u001b[1;33m)\u001b[0m \u001b[1;31m# 計算Loss值\u001b[0m\u001b[1;33m\u001b[0m\u001b[1;33m\u001b[0m\u001b[0m\n\u001b[1;32m---> 12\u001b[1;33m         \u001b[0mloss\u001b[0m\u001b[1;33m.\u001b[0m\u001b[0mbackward\u001b[0m\u001b[1;33m(\u001b[0m\u001b[1;33m)\u001b[0m \u001b[1;31m# 返向傳播\u001b[0m\u001b[1;33m\u001b[0m\u001b[1;33m\u001b[0m\u001b[0m\n\u001b[0m\u001b[0;32m     13\u001b[0m         \u001b[0moptimizer\u001b[0m\u001b[1;33m.\u001b[0m\u001b[0mstep\u001b[0m\u001b[1;33m(\u001b[0m\u001b[1;33m)\u001b[0m \u001b[1;31m# 更新模型權重\u001b[0m\u001b[1;33m\u001b[0m\u001b[1;33m\u001b[0m\u001b[0m\n\u001b[0;32m     14\u001b[0m \u001b[1;33m\u001b[0m\u001b[0m\n",
      "\u001b[1;32mc:\\users\\user\\appdata\\local\\programs\\python\\python37\\lib\\site-packages\\torch\\_tensor.py\u001b[0m in \u001b[0;36mbackward\u001b[1;34m(self, gradient, retain_graph, create_graph, inputs)\u001b[0m\n\u001b[0;32m    487\u001b[0m             )\n\u001b[0;32m    488\u001b[0m         torch.autograd.backward(\n\u001b[1;32m--> 489\u001b[1;33m             \u001b[0mself\u001b[0m\u001b[1;33m,\u001b[0m \u001b[0mgradient\u001b[0m\u001b[1;33m,\u001b[0m \u001b[0mretain_graph\u001b[0m\u001b[1;33m,\u001b[0m \u001b[0mcreate_graph\u001b[0m\u001b[1;33m,\u001b[0m \u001b[0minputs\u001b[0m\u001b[1;33m=\u001b[0m\u001b[0minputs\u001b[0m\u001b[1;33m\u001b[0m\u001b[1;33m\u001b[0m\u001b[0m\n\u001b[0m\u001b[0;32m    490\u001b[0m         )\n\u001b[0;32m    491\u001b[0m \u001b[1;33m\u001b[0m\u001b[0m\n",
      "\u001b[1;32mc:\\users\\user\\appdata\\local\\programs\\python\\python37\\lib\\site-packages\\torch\\autograd\\__init__.py\u001b[0m in \u001b[0;36mbackward\u001b[1;34m(tensors, grad_tensors, retain_graph, create_graph, grad_variables, inputs)\u001b[0m\n\u001b[0;32m    197\u001b[0m     Variable._execution_engine.run_backward(  # Calls into the C++ engine to run the backward pass\n\u001b[0;32m    198\u001b[0m         \u001b[0mtensors\u001b[0m\u001b[1;33m,\u001b[0m \u001b[0mgrad_tensors_\u001b[0m\u001b[1;33m,\u001b[0m \u001b[0mretain_graph\u001b[0m\u001b[1;33m,\u001b[0m \u001b[0mcreate_graph\u001b[0m\u001b[1;33m,\u001b[0m \u001b[0minputs\u001b[0m\u001b[1;33m,\u001b[0m\u001b[1;33m\u001b[0m\u001b[1;33m\u001b[0m\u001b[0m\n\u001b[1;32m--> 199\u001b[1;33m         allow_unreachable=True, accumulate_grad=True)  # Calls into the C++ engine to run the backward pass\n\u001b[0m\u001b[0;32m    200\u001b[0m \u001b[1;33m\u001b[0m\u001b[0m\n\u001b[0;32m    201\u001b[0m def grad(\n",
      "\u001b[1;31mKeyboardInterrupt\u001b[0m: "
     ]
    }
   ],
   "source": [
    "epochs = 15                              # 訓練次數\n",
    "early_stopping = 7                      # 模型訓練幾次沒進步就停止\n",
    "stop_cnt = 0                             # 計數模型是否有進步的計數器\n",
    "model_path = 'model.ckpt'                # 模型存放路徑\n",
    "show_loss = True                         # 是否顯示訓練折線圖\n",
    "best_acc = 0                             # 最佳的準確率\n",
    "loss_record = {'train':[], 'valid':[]}   # 訓練紀錄\n",
    "\n",
    "for epoch in range(epochs):   \n",
    "    train_loss, train_acc = train(epoch)\n",
    "    valid_loss, valid_acc = valid(epoch)\n",
    "    \n",
    "    loss_record['train'].append(train_loss)\n",
    "    loss_record['valid'].append(valid_loss)\n",
    "    \n",
    "    # 儲存最佳的模型權重\n",
    "    if valid_acc > best_acc:\n",
    "        best_acc = valid_acc\n",
    "        torch.save(model.state_dict(), model_path)\n",
    "        print(f'Saving Model With Acc {best_acc:.5f}')\n",
    "        stop_cnt = 0\n",
    "    else:\n",
    "        stop_cnt+=1\n",
    "    \n",
    "    # Early stopping\n",
    "    if stop_cnt == early_stopping:\n",
    "        output = \"Model can't improve, stop training\"\n",
    "        print('-' * (len(output)+2))\n",
    "        print(f'|{output}|')\n",
    "        print('-' * (len(output)+2))\n",
    "        break\n",
    "\n",
    "    print(f'Train Loss: {train_loss:.5f} Train Acc: {train_acc:.5f}', end='| ')\n",
    "    print(f'Valid Loss: {valid_loss:.5f} Valid Acc: {valid_acc:.5f}', end='| ')\n",
    "    print(f'Best Acc: {best_acc:.5f}', end='\\n\\n')\n",
    "\n",
    "if show_loss:\n",
    "    show_training_loss(loss_record)\n",
    "        "
   ]
  },
  {
   "cell_type": "code",
   "execution_count": 17,
   "id": "1335fbd9",
   "metadata": {},
   "outputs": [
    {
     "data": {
      "text/plain": [
       "LSTM(\n",
       "  (embedding): Embedding(29065, 300, padding_idx=0)\n",
       "  (lstm): LSTM(300, 128, batch_first=True, bidirectional=True)\n",
       "  (fc): Linear(in_features=256, out_features=1, bias=True)\n",
       "  (sigmoid): Sigmoid()\n",
       ")"
      ]
     },
     "execution_count": 17,
     "metadata": {},
     "output_type": "execute_result"
    }
   ],
   "source": [
    "model = LSTM(embedding_dim = 300, hidden_size= 128).to(device)\n",
    "model.load_state_dict(torch.load(model_path))\n",
    "model.eval()"
   ]
  },
  {
   "cell_type": "code",
   "execution_count": 23,
   "id": "b7910bfa",
   "metadata": {},
   "outputs": [
    {
     "name": "stdout",
     "output_type": "stream",
     "text": [
      "torch.Size([1, 1])\n"
     ]
    },
    {
     "data": {
      "text/plain": [
       "tensor([[0.0224]], device='cuda:0', grad_fn=<SigmoidBackward0>)"
      ]
     },
     "execution_count": 23,
     "metadata": {},
     "output_type": "execute_result"
    }
   ],
   "source": [
    "text = x_valid[0].unsqueeze(0).to(device)\n",
    "model(text)"
   ]
  },
  {
   "cell_type": "code",
   "execution_count": 26,
   "id": "151b7c4d",
   "metadata": {},
   "outputs": [
    {
     "name": "stdout",
     "output_type": "stream",
     "text": [
      "torch.Size([1, 1])\n",
      "Pred Label: negative\n",
      "Real Label: negative\n",
      "Reivew:\n",
      " first off i want to say that i lean liberal on the political scale and i found the movie offensive . i managed to watch the whole <unk> disgrace of a film . this movie brings a low to original ideas . yes it was original thus my 2 stars instead of 1 . are our film writers that uncreative that they can only come up with this ? ? acting was horrible , and the characters were unlikeable for the most part . the lead lady in the story had no good qualities at all . they made her <unk> into some sort of a bad guy and i did not see that at all . maybe i missed something , i do not know . he was the most down to earth , relevant character in the movie . i did not shell out any money for this garbage . i almost wish peta would come to the rescue of this awful , offensive movie and form a protest . disgusting thats all i have to say anymore !\n"
     ]
    }
   ],
   "source": [
    "label_decoding = {0:'negative', 1:'positive'}\n",
    "text = x_valid[0].unsqueeze(0).to(device)\n",
    "\n",
    "output = model(text)                                     \n",
    "pred = (output.view(-1) > 0.5)\n",
    "label = y_valid.tolist()[0]                                # 取得Label\n",
    "\n",
    "print('Pred Label:',label_decoding[int(pred)])             # 顯示文字 \n",
    "print('Real Label:',label_decoding[label])                 # 顯示文字 \n",
    "print('Reivew:\\n', \" \".join(token_vocab.lookup_tokens(x_valid[0].tolist())))\n"
   ]
  },
  {
   "cell_type": "code",
   "execution_count": null,
   "id": "1647c642",
   "metadata": {},
   "outputs": [],
   "source": []
  }
 ],
 "metadata": {
  "kernelspec": {
   "display_name": "Python 3 (ipykernel)",
   "language": "python",
   "name": "python3"
  },
  "language_info": {
   "codemirror_mode": {
    "name": "ipython",
    "version": 3
   },
   "file_extension": ".py",
   "mimetype": "text/x-python",
   "name": "python",
   "nbconvert_exporter": "python",
   "pygments_lexer": "ipython3",
   "version": "3.7.8"
  }
 },
 "nbformat": 4,
 "nbformat_minor": 5
}
