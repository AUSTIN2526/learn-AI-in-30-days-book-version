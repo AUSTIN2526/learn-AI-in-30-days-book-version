{
 "cells": [
  {
   "cell_type": "code",
   "execution_count": 1,
   "id": "efc48903",
   "metadata": {},
   "outputs": [
    {
     "name": "stdout",
     "output_type": "stream",
     "text": [
      "Requirement already satisfied: opencv-python in c:\\users\\user\\appdata\\local\\programs\\python\\python37\\lib\\site-packages (4.8.0.74)\n",
      "Requirement already satisfied: numpy>=1.17.0 in c:\\users\\user\\appdata\\local\\programs\\python\\python37\\lib\\site-packages (from opencv-python) (1.18.5)\n"
     ]
    },
    {
     "name": "stderr",
     "output_type": "stream",
     "text": [
      "\n",
      "[notice] A new release of pip is available: 23.1.2 -> 23.2\n",
      "[notice] To update, run: python.exe -m pip install --upgrade pip\n"
     ]
    }
   ],
   "source": [
    "!pip install opencv-python"
   ]
  },
  {
   "cell_type": "code",
   "execution_count": 2,
   "id": "c831d7d5",
   "metadata": {},
   "outputs": [],
   "source": [
    "import os\n",
    "import torch \n",
    "import torch.nn as nn \n",
    "import torch.optim as optim \n",
    "import torchvision.transforms as transforms \n",
    "import numpy as np \n",
    "import cv2\n",
    "from torch.utils.data import Dataset, DataLoader\n",
    "from tqdm import tqdm \n",
    "import matplotlib.pyplot as plt \n",
    "import random "
   ]
  },
  {
   "cell_type": "markdown",
   "id": "0389c96c",
   "metadata": {},
   "source": [
    "## 控制電腦中的亂數(保持每次訓練結果都一致)\n"
   ]
  },
  {
   "cell_type": "code",
   "execution_count": 3,
   "id": "52e917e8",
   "metadata": {},
   "outputs": [],
   "source": [
    "def same_seeds(seed):\n",
    "    random.seed(seed) \n",
    "    np.random.seed(seed)  \n",
    "    torch.manual_seed(seed)\n",
    "    if torch.cuda.is_available():\n",
    "        torch.cuda.manual_seed(seed)\n",
    "        torch.cuda.manual_seed_all(seed) \n",
    "    torch.backends.cudnn.benchmark = False\n",
    "    torch.backends.cudnn.deterministic = True"
   ]
  },
  {
   "cell_type": "markdown",
   "id": "1cb10f77",
   "metadata": {},
   "source": [
    "## 定義前處理方式"
   ]
  },
  {
   "cell_type": "code",
   "execution_count": 4,
   "id": "1a8ec9b0",
   "metadata": {},
   "outputs": [],
   "source": [
    "transform = transforms.Compose([\n",
    "    transforms.ToTensor(), #轉換成張量\n",
    "     transforms.Normalize((0.5, 0.5, 0.5), (0.5, 0.5, 0.5)) # 正規化\n",
    "])"
   ]
  },
  {
   "cell_type": "markdown",
   "id": "071004ac",
   "metadata": {},
   "source": [
    "## 轉換Label資料"
   ]
  },
  {
   "cell_type": "code",
   "execution_count": 5,
   "id": "eb28bea7",
   "metadata": {},
   "outputs": [],
   "source": [
    "label_encoding = {i:cnt for cnt, i in enumerate(os.listdir('Image/Train'))}\n",
    "label_decoding = {v:k for k, v in label_encoding.items()}"
   ]
  },
  {
   "cell_type": "markdown",
   "id": "94e05c60",
   "metadata": {},
   "source": [
    "## 讀取資料夾的圖片與標籤"
   ]
  },
  {
   "cell_type": "code",
   "execution_count": 6,
   "id": "570110c4",
   "metadata": {},
   "outputs": [],
   "source": [
    "x_train, y_train, x_valid, y_valid = [], [], [], []\n",
    "for types in os.listdir('Image'):\n",
    "    classes_path = f'Image/{types}'\n",
    "    for classes in os.listdir(classes_path):\n",
    "        file_path = f'{classes_path}/{classes}'\n",
    "        for file_name in os.listdir(file_path):\n",
    "            img = cv2.imread(f'{file_path}/{file_name}')\n",
    "            if types  == 'Train':\n",
    "                x_train.append(transform(img))\n",
    "                y_train.append(label_encoding[classes])\n",
    "            else:\n",
    "                x_valid.append(transform(img))\n",
    "                y_valid.append(label_encoding[classes])"
   ]
  },
  {
   "cell_type": "markdown",
   "id": "0e8c8196",
   "metadata": {},
   "source": [
    "## 資料轉型(List to Tensor)"
   ]
  },
  {
   "cell_type": "code",
   "execution_count": 7,
   "id": "feeabfc4",
   "metadata": {},
   "outputs": [],
   "source": [
    "x_train, x_valid = torch.stack(x_train, dim = 0), torch.stack(x_valid, dim = 0)\n",
    "y_train, y_valid = torch.tensor(y_train), torch.tensor(y_valid)"
   ]
  },
  {
   "cell_type": "markdown",
   "id": "93ff0d55",
   "metadata": {},
   "source": [
    "## 建立 Dataset與Dataloader"
   ]
  },
  {
   "cell_type": "code",
   "execution_count": 8,
   "id": "df81ea30",
   "metadata": {},
   "outputs": [],
   "source": [
    "class CIFAR10(Dataset):\n",
    "    def __init__(self, x, y):\n",
    "        self.x = x\n",
    "        self.y = y\n",
    "          \n",
    "    def __getitem__(self, index):\n",
    "        return self.x[index], self.y[index]\n",
    "       \n",
    "    def __len__(self):\n",
    "        return len(self.x)\n",
    "    \n",
    "trainset = CIFAR10(x_train, y_train)\n",
    "validset = CIFAR10(x_valid, y_valid)\n",
    "\n",
    "train_loader = DataLoader(trainset, batch_size = 64, shuffle = True, num_workers = 0, pin_memory = True)\n",
    "valid_loader = DataLoader(validset, batch_size = 64, shuffle = True, num_workers = 0, pin_memory = True)"
   ]
  },
  {
   "cell_type": "markdown",
   "id": "e72ac687",
   "metadata": {},
   "source": [
    "# 建立CNN模型"
   ]
  },
  {
   "cell_type": "code",
   "execution_count": 9,
   "id": "e134f30b",
   "metadata": {},
   "outputs": [],
   "source": [
    "class CNN(nn.Module):\n",
    "    def __init__(self):\n",
    "        super().__init__()\n",
    "        self.conv1 = nn.Conv2d(3, 32, 3, 1, 1)\n",
    "        self.pool = nn.MaxPool2d(2, 2)\n",
    "        self.conv2 = nn.Conv2d(32, 64, 3, 1, 1)\n",
    "        self.fc1 = nn.Linear(4096, 128)\n",
    "        self.fc2 = nn.Linear(128, 10)\n",
    "        \n",
    "        self.relu = nn.ReLU()\n",
    "    def forward(self, x):\n",
    "        x = self.pool(self.relu(self.conv1(x)))\n",
    "        x = self.pool(self.relu(self.conv2(x)))\n",
    "        x = x.view(x.size(0), -1)\n",
    "        x = self.fc1(x)\n",
    "        x = self.fc2(x)\n",
    "        \n",
    "        return x\n",
    "    \n",
    "device = torch.device('cuda' if torch.cuda.is_available() else 'cpu')\n",
    "model = CNN().to(device)\n",
    "criterion = nn.CrossEntropyLoss()\n",
    "optimizer = optim.Adam(model.parameters(), lr=1e-4)"
   ]
  },
  {
   "cell_type": "markdown",
   "id": "fdd16f44",
   "metadata": {},
   "source": [
    "# 定義訓練的方式"
   ]
  },
  {
   "cell_type": "code",
   "execution_count": 10,
   "id": "6d7b2ac2",
   "metadata": {},
   "outputs": [],
   "source": [
    "def train(epoch):\n",
    "    train_loss, train_acc = 0, 0\n",
    "    train_pbar = tqdm(train_loader, position=0, leave=True) # 宣告進度條\n",
    "    \n",
    "    model.train() # 將模型切換成訓練模式\n",
    "    for input_datas in train_pbar: \n",
    "        features, labels = [i.to(device) for i in input_datas] # 將資料放入到GPU中\n",
    "        optimizer.zero_grad()  # 梯度清零\n",
    "        outputs = model(features) # 模型計算答案(前向傳播)\n",
    "        \n",
    "        loss = criterion(outputs, labels) # 計算Loss值\n",
    "        loss.backward() # 返向傳播\n",
    "        optimizer.step() # 更新模型權重\n",
    "        \n",
    "        train_pbar.set_description(f'Train Epoch {epoch}')  # 顯示訓練次數\n",
    "        train_pbar.set_postfix({'loss':f'{loss:.3f}'}) # 顯示當下模型損失\n",
    "        \n",
    "        _, pred = torch.max(outputs, dim = 1)  # 計算類別\n",
    "        train_acc += sum(pred == labels) # 計算預測成功的數量\n",
    "        train_loss += loss.item()  # 模型總損失\n",
    "\n",
    "    return train_loss/len(train_loader), train_acc/len(trainset) # 計算一次訓練的Loss與準確率\n",
    "\n",
    "\n",
    "def valid(epoch):\n",
    "    valid_loss, valid_acc = 0, 0\n",
    "    valid_pbar = tqdm(valid_loader, position=0, leave=True)\n",
    "    \n",
    "    model.eval()\n",
    "    with torch.no_grad(): \n",
    "        for input_datas in valid_pbar:\n",
    "            features, labels = [i.to(device) for i in input_datas]\n",
    "            outputs = model(features) \n",
    "            loss = criterion(outputs, labels)\n",
    "\n",
    "            valid_pbar.set_description(f'Valid Epoch {epoch}')\n",
    "            valid_pbar.set_postfix({'loss':f'{loss:.3f}'})\n",
    "\n",
    "            _, pred = torch.max(outputs, dim = 1) \n",
    "            valid_acc += sum(pred == labels)\n",
    "            valid_loss += loss.item()\n",
    "\n",
    "    return valid_loss/len(valid_loader), valid_acc/len(validset)\n",
    "\n",
    "        \n",
    "def show_training_loss(loss_record):\n",
    "    train_loss, valid_loss = [i for i in loss_record.values()]\n",
    "    \n",
    "    plt.plot(train_loss)\n",
    "    plt.plot(valid_loss)\n",
    "    #標題\n",
    "    plt.title('Result')\n",
    "    #y軸標籤\n",
    "    plt.ylabel('Loss')\n",
    "    #x軸標籤\n",
    "    plt.xlabel('Epoch')\n",
    "    #顯示折線的名稱\n",
    "    plt.legend(['train', 'valid'], loc='upper left')\n",
    "    #顯示折線圖\n",
    "    plt.show()"
   ]
  },
  {
   "cell_type": "markdown",
   "id": "325525ba",
   "metadata": {},
   "source": [
    "## 訓練模型"
   ]
  },
  {
   "cell_type": "code",
   "execution_count": 11,
   "id": "dcd3ffec",
   "metadata": {},
   "outputs": [
    {
     "name": "stderr",
     "output_type": "stream",
     "text": [
      "Train Epoch 0: 100%|██████████| 782/782 [00:07<00:00, 102.80it/s, loss=1.222]\n",
      "Valid Epoch 0: 100%|██████████| 157/157 [00:00<00:00, 190.27it/s, loss=1.138]\n"
     ]
    },
    {
     "name": "stdout",
     "output_type": "stream",
     "text": [
      "Saving Model With Acc 0.48800\n",
      "Train Loss: 1.65106 Train Acc: 0.41610| Valid Loss: 1.43933 Valid Acc: 0.48800| Best Acc: 0.48800\n",
      "\n"
     ]
    },
    {
     "name": "stderr",
     "output_type": "stream",
     "text": [
      "Train Epoch 1: 100%|██████████| 782/782 [00:06<00:00, 126.97it/s, loss=1.065]\n",
      "Valid Epoch 1: 100%|██████████| 157/157 [00:01<00:00, 156.82it/s, loss=1.757]\n"
     ]
    },
    {
     "name": "stdout",
     "output_type": "stream",
     "text": [
      "Saving Model With Acc 0.54450\n",
      "Train Loss: 1.34886 Train Acc: 0.52582| Valid Loss: 1.30384 Valid Acc: 0.54450| Best Acc: 0.54450\n",
      "\n"
     ]
    },
    {
     "name": "stderr",
     "output_type": "stream",
     "text": [
      "Train Epoch 2: 100%|██████████| 782/782 [00:06<00:00, 126.62it/s, loss=0.997]\n",
      "Valid Epoch 2: 100%|██████████| 157/157 [00:00<00:00, 186.32it/s, loss=1.211]\n"
     ]
    },
    {
     "name": "stdout",
     "output_type": "stream",
     "text": [
      "Saving Model With Acc 0.57290\n",
      "Train Loss: 1.24240 Train Acc: 0.56432| Valid Loss: 1.20961 Valid Acc: 0.57290| Best Acc: 0.57290\n",
      "\n"
     ]
    },
    {
     "name": "stderr",
     "output_type": "stream",
     "text": [
      "Train Epoch 3: 100%|██████████| 782/782 [00:06<00:00, 122.27it/s, loss=0.699]\n",
      "Valid Epoch 3: 100%|██████████| 157/157 [00:00<00:00, 177.63it/s, loss=1.149]\n"
     ]
    },
    {
     "name": "stdout",
     "output_type": "stream",
     "text": [
      "Saving Model With Acc 0.59510\n",
      "Train Loss: 1.16853 Train Acc: 0.59088| Valid Loss: 1.14568 Valid Acc: 0.59510| Best Acc: 0.59510\n",
      "\n"
     ]
    },
    {
     "name": "stderr",
     "output_type": "stream",
     "text": [
      "Train Epoch 4: 100%|██████████| 782/782 [00:06<00:00, 126.19it/s, loss=0.949]\n",
      "Valid Epoch 4: 100%|██████████| 157/157 [00:00<00:00, 184.51it/s, loss=1.271]\n"
     ]
    },
    {
     "name": "stdout",
     "output_type": "stream",
     "text": [
      "Saving Model With Acc 0.60230\n",
      "Train Loss: 1.11035 Train Acc: 0.61284| Valid Loss: 1.12945 Valid Acc: 0.60230| Best Acc: 0.60230\n",
      "\n"
     ]
    },
    {
     "name": "stderr",
     "output_type": "stream",
     "text": [
      "Train Epoch 5: 100%|██████████| 782/782 [00:06<00:00, 127.70it/s, loss=0.771]\n",
      "Valid Epoch 5: 100%|██████████| 157/157 [00:00<00:00, 179.45it/s, loss=0.964]\n"
     ]
    },
    {
     "name": "stdout",
     "output_type": "stream",
     "text": [
      "Saving Model With Acc 0.62230\n",
      "Train Loss: 1.06099 Train Acc: 0.63194| Valid Loss: 1.07193 Valid Acc: 0.62230| Best Acc: 0.62230\n",
      "\n"
     ]
    },
    {
     "name": "stderr",
     "output_type": "stream",
     "text": [
      "Train Epoch 6: 100%|██████████| 782/782 [00:06<00:00, 117.16it/s, loss=0.787]\n",
      "Valid Epoch 6: 100%|██████████| 157/157 [00:01<00:00, 147.43it/s, loss=0.831]\n"
     ]
    },
    {
     "name": "stdout",
     "output_type": "stream",
     "text": [
      "Saving Model With Acc 0.62950\n",
      "Train Loss: 1.02009 Train Acc: 0.64534| Valid Loss: 1.04962 Valid Acc: 0.62950| Best Acc: 0.62950\n",
      "\n"
     ]
    },
    {
     "name": "stderr",
     "output_type": "stream",
     "text": [
      "Train Epoch 7: 100%|██████████| 782/782 [00:06<00:00, 127.40it/s, loss=0.758]\n",
      "Valid Epoch 7: 100%|██████████| 157/157 [00:00<00:00, 198.61it/s, loss=1.101]\n"
     ]
    },
    {
     "name": "stdout",
     "output_type": "stream",
     "text": [
      "Saving Model With Acc 0.63960\n",
      "Train Loss: 0.98055 Train Acc: 0.66138| Valid Loss: 1.03516 Valid Acc: 0.63960| Best Acc: 0.63960\n",
      "\n"
     ]
    },
    {
     "name": "stderr",
     "output_type": "stream",
     "text": [
      "Train Epoch 8: 100%|██████████| 782/782 [00:06<00:00, 126.41it/s, loss=0.944]\n",
      "Valid Epoch 8: 100%|██████████| 157/157 [00:00<00:00, 189.94it/s, loss=0.505]\n"
     ]
    },
    {
     "name": "stdout",
     "output_type": "stream",
     "text": [
      "Saving Model With Acc 0.64870\n",
      "Train Loss: 0.94967 Train Acc: 0.67000| Valid Loss: 1.00084 Valid Acc: 0.64870| Best Acc: 0.64870\n",
      "\n"
     ]
    },
    {
     "name": "stderr",
     "output_type": "stream",
     "text": [
      "Train Epoch 9: 100%|██████████| 782/782 [00:06<00:00, 128.29it/s, loss=0.703]\n",
      "Valid Epoch 9: 100%|██████████| 157/157 [00:00<00:00, 193.53it/s, loss=1.144]\n"
     ]
    },
    {
     "name": "stdout",
     "output_type": "stream",
     "text": [
      "Train Loss: 0.92138 Train Acc: 0.68156| Valid Loss: 1.00789 Valid Acc: 0.64230| Best Acc: 0.64870\n",
      "\n"
     ]
    },
    {
     "name": "stderr",
     "output_type": "stream",
     "text": [
      "Train Epoch 10: 100%|██████████| 782/782 [00:06<00:00, 127.23it/s, loss=0.523]\n",
      "Valid Epoch 10: 100%|██████████| 157/157 [00:00<00:00, 192.30it/s, loss=0.747]\n"
     ]
    },
    {
     "name": "stdout",
     "output_type": "stream",
     "text": [
      "Saving Model With Acc 0.66120\n",
      "Train Loss: 0.89429 Train Acc: 0.69278| Valid Loss: 0.96783 Valid Acc: 0.66120| Best Acc: 0.66120\n",
      "\n"
     ]
    },
    {
     "name": "stderr",
     "output_type": "stream",
     "text": [
      "Train Epoch 11: 100%|██████████| 782/782 [00:06<00:00, 129.32it/s, loss=0.624]\n",
      "Valid Epoch 11: 100%|██████████| 157/157 [00:00<00:00, 199.00it/s, loss=0.856]\n"
     ]
    },
    {
     "name": "stdout",
     "output_type": "stream",
     "text": [
      "Saving Model With Acc 0.66750\n",
      "Train Loss: 0.87214 Train Acc: 0.70018| Valid Loss: 0.95025 Valid Acc: 0.66750| Best Acc: 0.66750\n",
      "\n"
     ]
    },
    {
     "name": "stderr",
     "output_type": "stream",
     "text": [
      "Train Epoch 12: 100%|██████████| 782/782 [00:06<00:00, 127.15it/s, loss=1.082]\n",
      "Valid Epoch 12: 100%|██████████| 157/157 [00:00<00:00, 197.50it/s, loss=1.373]\n"
     ]
    },
    {
     "name": "stdout",
     "output_type": "stream",
     "text": [
      "Train Loss: 0.84733 Train Acc: 0.70810| Valid Loss: 0.95427 Valid Acc: 0.66710| Best Acc: 0.66750\n",
      "\n"
     ]
    },
    {
     "name": "stderr",
     "output_type": "stream",
     "text": [
      "Train Epoch 13: 100%|██████████| 782/782 [00:06<00:00, 128.47it/s, loss=0.658]\n",
      "Valid Epoch 13: 100%|██████████| 157/157 [00:00<00:00, 197.70it/s, loss=1.173]\n"
     ]
    },
    {
     "name": "stdout",
     "output_type": "stream",
     "text": [
      "Saving Model With Acc 0.66810\n",
      "Train Loss: 0.82992 Train Acc: 0.71534| Valid Loss: 0.96046 Valid Acc: 0.66810| Best Acc: 0.66810\n",
      "\n"
     ]
    },
    {
     "name": "stderr",
     "output_type": "stream",
     "text": [
      "Train Epoch 14: 100%|██████████| 782/782 [00:06<00:00, 126.14it/s, loss=0.701]\n",
      "Valid Epoch 14: 100%|██████████| 157/157 [00:00<00:00, 193.68it/s, loss=0.522]\n"
     ]
    },
    {
     "name": "stdout",
     "output_type": "stream",
     "text": [
      "Saving Model With Acc 0.67980\n",
      "Train Loss: 0.80983 Train Acc: 0.72242| Valid Loss: 0.92792 Valid Acc: 0.67980| Best Acc: 0.67980\n",
      "\n"
     ]
    },
    {
     "name": "stderr",
     "output_type": "stream",
     "text": [
      "Train Epoch 15: 100%|██████████| 782/782 [00:06<00:00, 125.94it/s, loss=0.965]\n",
      "Valid Epoch 15: 100%|██████████| 157/157 [00:00<00:00, 184.97it/s, loss=0.794]\n"
     ]
    },
    {
     "name": "stdout",
     "output_type": "stream",
     "text": [
      "Train Loss: 0.79123 Train Acc: 0.72748| Valid Loss: 0.94042 Valid Acc: 0.67760| Best Acc: 0.67980\n",
      "\n"
     ]
    },
    {
     "name": "stderr",
     "output_type": "stream",
     "text": [
      "Train Epoch 16: 100%|██████████| 782/782 [00:05<00:00, 130.87it/s, loss=0.553]\n",
      "Valid Epoch 16: 100%|██████████| 157/157 [00:00<00:00, 190.06it/s, loss=0.669]\n"
     ]
    },
    {
     "name": "stdout",
     "output_type": "stream",
     "text": [
      "Saving Model With Acc 0.68510\n",
      "Train Loss: 0.77408 Train Acc: 0.73304| Valid Loss: 0.91191 Valid Acc: 0.68510| Best Acc: 0.68510\n",
      "\n"
     ]
    },
    {
     "name": "stderr",
     "output_type": "stream",
     "text": [
      "Train Epoch 17: 100%|██████████| 782/782 [00:06<00:00, 126.48it/s, loss=0.887]\n",
      "Valid Epoch 17: 100%|██████████| 157/157 [00:00<00:00, 184.40it/s, loss=0.993]\n"
     ]
    },
    {
     "name": "stdout",
     "output_type": "stream",
     "text": [
      "Train Loss: 0.75460 Train Acc: 0.74054| Valid Loss: 0.92233 Valid Acc: 0.68170| Best Acc: 0.68510\n",
      "\n"
     ]
    },
    {
     "name": "stderr",
     "output_type": "stream",
     "text": [
      "Train Epoch 18: 100%|██████████| 782/782 [00:06<00:00, 124.12it/s, loss=0.582]\n",
      "Valid Epoch 18: 100%|██████████| 157/157 [00:00<00:00, 162.38it/s, loss=0.748]\n"
     ]
    },
    {
     "name": "stdout",
     "output_type": "stream",
     "text": [
      "Train Loss: 0.74023 Train Acc: 0.74452| Valid Loss: 0.91162 Valid Acc: 0.68200| Best Acc: 0.68510\n",
      "\n"
     ]
    },
    {
     "name": "stderr",
     "output_type": "stream",
     "text": [
      "Train Epoch 19: 100%|██████████| 782/782 [00:06<00:00, 121.56it/s, loss=0.814]\n",
      "Valid Epoch 19: 100%|██████████| 157/157 [00:00<00:00, 157.27it/s, loss=1.079]\n"
     ]
    },
    {
     "name": "stdout",
     "output_type": "stream",
     "text": [
      "Saving Model With Acc 0.68800\n",
      "Train Loss: 0.72641 Train Acc: 0.75106| Valid Loss: 0.90979 Valid Acc: 0.68800| Best Acc: 0.68800\n",
      "\n"
     ]
    },
    {
     "name": "stderr",
     "output_type": "stream",
     "text": [
      "Train Epoch 20: 100%|██████████| 782/782 [00:06<00:00, 125.87it/s, loss=0.585]\n",
      "Valid Epoch 20: 100%|██████████| 157/157 [00:00<00:00, 173.88it/s, loss=0.608]\n"
     ]
    },
    {
     "name": "stdout",
     "output_type": "stream",
     "text": [
      "Train Loss: 0.70852 Train Acc: 0.75592| Valid Loss: 0.91103 Valid Acc: 0.68610| Best Acc: 0.68800\n",
      "\n"
     ]
    },
    {
     "name": "stderr",
     "output_type": "stream",
     "text": [
      "Train Epoch 21: 100%|██████████| 782/782 [00:06<00:00, 124.73it/s, loss=0.566]\n",
      "Valid Epoch 21: 100%|██████████| 157/157 [00:00<00:00, 180.71it/s, loss=0.997]\n"
     ]
    },
    {
     "name": "stdout",
     "output_type": "stream",
     "text": [
      "Train Loss: 0.69511 Train Acc: 0.75912| Valid Loss: 0.91229 Valid Acc: 0.68530| Best Acc: 0.68800\n",
      "\n"
     ]
    },
    {
     "name": "stderr",
     "output_type": "stream",
     "text": [
      "Train Epoch 22: 100%|██████████| 782/782 [00:06<00:00, 125.87it/s, loss=0.407]\n",
      "Valid Epoch 22: 100%|██████████| 157/157 [00:00<00:00, 185.35it/s, loss=0.442]\n"
     ]
    },
    {
     "name": "stdout",
     "output_type": "stream",
     "text": [
      "Train Loss: 0.68072 Train Acc: 0.76550| Valid Loss: 0.93573 Valid Acc: 0.68160| Best Acc: 0.68800\n",
      "\n"
     ]
    },
    {
     "name": "stderr",
     "output_type": "stream",
     "text": [
      "Train Epoch 23: 100%|██████████| 782/782 [00:06<00:00, 126.32it/s, loss=0.483]\n",
      "Valid Epoch 23: 100%|██████████| 157/157 [00:00<00:00, 181.75it/s, loss=0.742]\n"
     ]
    },
    {
     "name": "stdout",
     "output_type": "stream",
     "text": [
      "Train Loss: 0.66961 Train Acc: 0.76984| Valid Loss: 0.91557 Valid Acc: 0.68630| Best Acc: 0.68800\n",
      "\n"
     ]
    },
    {
     "name": "stderr",
     "output_type": "stream",
     "text": [
      "Train Epoch 24: 100%|██████████| 782/782 [00:06<00:00, 128.54it/s, loss=0.985]\n",
      "Valid Epoch 24: 100%|██████████| 157/157 [00:00<00:00, 181.01it/s, loss=1.295]\n"
     ]
    },
    {
     "name": "stdout",
     "output_type": "stream",
     "text": [
      "Saving Model With Acc 0.69280\n",
      "Train Loss: 0.65410 Train Acc: 0.77416| Valid Loss: 0.91541 Valid Acc: 0.69280| Best Acc: 0.69280\n",
      "\n"
     ]
    },
    {
     "name": "stderr",
     "output_type": "stream",
     "text": [
      "Train Epoch 25: 100%|██████████| 782/782 [00:06<00:00, 128.78it/s, loss=0.702]\n",
      "Valid Epoch 25: 100%|██████████| 157/157 [00:00<00:00, 179.72it/s, loss=1.491]\n"
     ]
    },
    {
     "name": "stdout",
     "output_type": "stream",
     "text": [
      "Saving Model With Acc 0.69380\n",
      "Train Loss: 0.64338 Train Acc: 0.77836| Valid Loss: 0.92283 Valid Acc: 0.69380| Best Acc: 0.69380\n",
      "\n"
     ]
    },
    {
     "name": "stderr",
     "output_type": "stream",
     "text": [
      "Train Epoch 26: 100%|██████████| 782/782 [00:06<00:00, 117.71it/s, loss=0.822]\n",
      "Valid Epoch 26: 100%|██████████| 157/157 [00:00<00:00, 177.84it/s, loss=0.570]\n"
     ]
    },
    {
     "name": "stdout",
     "output_type": "stream",
     "text": [
      "Train Loss: 0.62929 Train Acc: 0.78436| Valid Loss: 0.93685 Valid Acc: 0.68710| Best Acc: 0.69380\n",
      "\n"
     ]
    },
    {
     "name": "stderr",
     "output_type": "stream",
     "text": [
      "Train Epoch 27: 100%|██████████| 782/782 [00:06<00:00, 122.78it/s, loss=0.519]\n",
      "Valid Epoch 27: 100%|██████████| 157/157 [00:00<00:00, 182.71it/s, loss=0.363]\n"
     ]
    },
    {
     "name": "stdout",
     "output_type": "stream",
     "text": [
      "Train Loss: 0.61944 Train Acc: 0.78832| Valid Loss: 0.90527 Valid Acc: 0.69340| Best Acc: 0.69380\n",
      "\n"
     ]
    },
    {
     "name": "stderr",
     "output_type": "stream",
     "text": [
      "Train Epoch 28: 100%|██████████| 782/782 [00:06<00:00, 124.36it/s, loss=0.366]\n",
      "Valid Epoch 28: 100%|██████████| 157/157 [00:00<00:00, 187.09it/s, loss=0.930]\n"
     ]
    },
    {
     "name": "stdout",
     "output_type": "stream",
     "text": [
      "Train Loss: 0.60718 Train Acc: 0.79166| Valid Loss: 0.91537 Valid Acc: 0.69020| Best Acc: 0.69380\n",
      "\n"
     ]
    },
    {
     "name": "stderr",
     "output_type": "stream",
     "text": [
      "Train Epoch 29: 100%|██████████| 782/782 [00:06<00:00, 124.71it/s, loss=0.637]\n",
      "Valid Epoch 29: 100%|██████████| 157/157 [00:00<00:00, 162.10it/s, loss=0.820]\n"
     ]
    },
    {
     "name": "stdout",
     "output_type": "stream",
     "text": [
      "Train Loss: 0.59752 Train Acc: 0.79462| Valid Loss: 0.92772 Valid Acc: 0.69070| Best Acc: 0.69380\n",
      "\n"
     ]
    },
    {
     "name": "stderr",
     "output_type": "stream",
     "text": [
      "Train Epoch 30: 100%|██████████| 782/782 [00:06<00:00, 123.38it/s, loss=0.574]\n",
      "Valid Epoch 30: 100%|██████████| 157/157 [00:00<00:00, 186.56it/s, loss=1.065]\n"
     ]
    },
    {
     "name": "stdout",
     "output_type": "stream",
     "text": [
      "Saving Model With Acc 0.69820\n",
      "Train Loss: 0.58768 Train Acc: 0.79696| Valid Loss: 0.91880 Valid Acc: 0.69820| Best Acc: 0.69820\n",
      "\n"
     ]
    },
    {
     "name": "stderr",
     "output_type": "stream",
     "text": [
      "Train Epoch 31: 100%|██████████| 782/782 [00:06<00:00, 130.28it/s, loss=0.584]\n",
      "Valid Epoch 31: 100%|██████████| 157/157 [00:00<00:00, 171.64it/s, loss=1.505]\n"
     ]
    },
    {
     "name": "stdout",
     "output_type": "stream",
     "text": [
      "Train Loss: 0.57562 Train Acc: 0.80246| Valid Loss: 0.93307 Valid Acc: 0.69270| Best Acc: 0.69820\n",
      "\n"
     ]
    },
    {
     "name": "stderr",
     "output_type": "stream",
     "text": [
      "Train Epoch 32: 100%|██████████| 782/782 [00:06<00:00, 122.12it/s, loss=0.285]\n",
      "Valid Epoch 32: 100%|██████████| 157/157 [00:00<00:00, 189.08it/s, loss=1.844]\n"
     ]
    },
    {
     "name": "stdout",
     "output_type": "stream",
     "text": [
      "Train Loss: 0.56643 Train Acc: 0.80566| Valid Loss: 0.93255 Valid Acc: 0.69470| Best Acc: 0.69820\n",
      "\n"
     ]
    },
    {
     "name": "stderr",
     "output_type": "stream",
     "text": [
      "Train Epoch 33: 100%|██████████| 782/782 [00:06<00:00, 125.31it/s, loss=0.437]\n",
      "Valid Epoch 33: 100%|██████████| 157/157 [00:00<00:00, 176.51it/s, loss=1.860]\n"
     ]
    },
    {
     "name": "stdout",
     "output_type": "stream",
     "text": [
      "Train Loss: 0.55845 Train Acc: 0.80776| Valid Loss: 0.93694 Valid Acc: 0.69090| Best Acc: 0.69820\n",
      "\n"
     ]
    },
    {
     "name": "stderr",
     "output_type": "stream",
     "text": [
      "Train Epoch 34: 100%|██████████| 782/782 [00:06<00:00, 129.36it/s, loss=0.507]\n",
      "Valid Epoch 34: 100%|██████████| 157/157 [00:00<00:00, 167.66it/s, loss=1.104]\n"
     ]
    },
    {
     "name": "stdout",
     "output_type": "stream",
     "text": [
      "Train Loss: 0.54646 Train Acc: 0.81236| Valid Loss: 0.93049 Valid Acc: 0.69570| Best Acc: 0.69820\n",
      "\n"
     ]
    },
    {
     "name": "stderr",
     "output_type": "stream",
     "text": [
      "Train Epoch 35: 100%|██████████| 782/782 [00:05<00:00, 130.64it/s, loss=0.396]\n",
      "Valid Epoch 35: 100%|██████████| 157/157 [00:00<00:00, 197.88it/s, loss=0.842]\n"
     ]
    },
    {
     "name": "stdout",
     "output_type": "stream",
     "text": [
      "Train Loss: 0.53837 Train Acc: 0.81470| Valid Loss: 0.95445 Valid Acc: 0.68920| Best Acc: 0.69820\n",
      "\n"
     ]
    },
    {
     "name": "stderr",
     "output_type": "stream",
     "text": [
      "Train Epoch 36: 100%|██████████| 782/782 [00:06<00:00, 127.36it/s, loss=0.822]\n",
      "Valid Epoch 36: 100%|██████████| 157/157 [00:01<00:00, 152.37it/s, loss=0.575]\n"
     ]
    },
    {
     "name": "stdout",
     "output_type": "stream",
     "text": [
      "Train Loss: 0.52558 Train Acc: 0.81988| Valid Loss: 0.94636 Valid Acc: 0.69530| Best Acc: 0.69820\n",
      "\n"
     ]
    },
    {
     "name": "stderr",
     "output_type": "stream",
     "text": [
      "Train Epoch 37: 100%|██████████| 782/782 [00:06<00:00, 126.25it/s, loss=0.318]\n",
      "Valid Epoch 37: 100%|██████████| 157/157 [00:00<00:00, 190.72it/s, loss=0.695]\n"
     ]
    },
    {
     "name": "stdout",
     "output_type": "stream",
     "text": [
      "Train Loss: 0.51746 Train Acc: 0.82162| Valid Loss: 0.97119 Valid Acc: 0.68860| Best Acc: 0.69820\n",
      "\n"
     ]
    },
    {
     "name": "stderr",
     "output_type": "stream",
     "text": [
      "Train Epoch 38: 100%|██████████| 782/782 [00:06<00:00, 128.88it/s, loss=0.217]\n",
      "Valid Epoch 38: 100%|██████████| 157/157 [00:00<00:00, 171.52it/s, loss=1.318]\n"
     ]
    },
    {
     "name": "stdout",
     "output_type": "stream",
     "text": [
      "Train Loss: 0.51166 Train Acc: 0.82442| Valid Loss: 0.97532 Valid Acc: 0.69080| Best Acc: 0.69820\n",
      "\n"
     ]
    },
    {
     "name": "stderr",
     "output_type": "stream",
     "text": [
      "Train Epoch 39: 100%|██████████| 782/782 [00:06<00:00, 126.62it/s, loss=0.847]\n",
      "Valid Epoch 39: 100%|██████████| 157/157 [00:00<00:00, 189.76it/s, loss=0.958]\n"
     ]
    },
    {
     "name": "stdout",
     "output_type": "stream",
     "text": [
      "Train Loss: 0.50243 Train Acc: 0.82816| Valid Loss: 0.97090 Valid Acc: 0.68560| Best Acc: 0.69820\n",
      "\n"
     ]
    },
    {
     "name": "stderr",
     "output_type": "stream",
     "text": [
      "Train Epoch 40: 100%|██████████| 782/782 [00:06<00:00, 128.21it/s, loss=0.316]\n",
      "Valid Epoch 40: 100%|██████████| 157/157 [00:00<00:00, 183.01it/s, loss=0.832]\n"
     ]
    },
    {
     "name": "stdout",
     "output_type": "stream",
     "text": [
      "------------------------------------\n",
      "|Model can't improve, stop training|\n",
      "------------------------------------\n"
     ]
    },
    {
     "data": {
      "image/png": "[encoded data removed]",
      "text/plain": [
       "<Figure size 640x480 with 1 Axes>"
      ]
     },
     "metadata": {},
     "output_type": "display_data"
    }
   ],
   "source": [
    "epochs = 50                              # 訓練次數\n",
    "early_stopping = 10                      # 模型訓練幾次沒進步就停止\n",
    "stop_cnt = 0                             # 計數模型是否有進步的計數器\n",
    "model_path = 'model.ckpt'                # 模型存放路徑\n",
    "show_loss = True                         # 是否顯示訓練折線圖\n",
    "best_acc = 0                             # 最佳的準確率\n",
    "loss_record = {'train':[], 'valid':[]}   # 訓練紀錄\n",
    "\n",
    "for epoch in range(epochs):   \n",
    "    train_loss, train_acc = train(epoch)\n",
    "    valid_loss, valid_acc = valid(epoch)\n",
    "    \n",
    "    loss_record['train'].append(train_loss)\n",
    "    loss_record['valid'].append(valid_loss)\n",
    "    \n",
    "    # 儲存最佳的模型權重\n",
    "    if valid_acc > best_acc:\n",
    "        best_acc = valid_acc\n",
    "        torch.save(model.state_dict(), model_path)\n",
    "        print(f'Saving Model With Acc {best_acc:.5f}')\n",
    "        stop_cnt = 0\n",
    "    else:\n",
    "        stop_cnt+=1\n",
    "    \n",
    "    # Early stopping\n",
    "    if stop_cnt == early_stopping:\n",
    "        output = \"Model can't improve, stop training\"\n",
    "        print('-' * (len(output)+2))\n",
    "        print(f'|{output}|')\n",
    "        print('-' * (len(output)+2))\n",
    "        break\n",
    "        \n",
    "    print(f'Train Loss: {train_loss:.5f} Train Acc: {train_acc:.5f}', end='| ')\n",
    "    print(f'Valid Loss: {valid_loss:.5f} Valid Acc: {valid_acc:.5f}', end='| ')\n",
    "    print(f'Best Acc: {best_acc:.5f}', end ='\\n\\n')\n",
    "\n",
    "if show_loss:\n",
    "    show_training_loss(loss_record)\n",
    "        "
   ]
  },
  {
   "cell_type": "markdown",
   "id": "74be4efc",
   "metadata": {},
   "source": [
    "## 讀取歷史最佳模型"
   ]
  },
  {
   "cell_type": "code",
   "execution_count": 12,
   "id": "1335fbd9",
   "metadata": {},
   "outputs": [
    {
     "data": {
      "text/plain": [
       "CNN(\n",
       "  (conv1): Conv2d(3, 32, kernel_size=(3, 3), stride=(1, 1), padding=(1, 1))\n",
       "  (pool): MaxPool2d(kernel_size=2, stride=2, padding=0, dilation=1, ceil_mode=False)\n",
       "  (conv2): Conv2d(32, 64, kernel_size=(3, 3), stride=(1, 1), padding=(1, 1))\n",
       "  (fc1): Linear(in_features=4096, out_features=128, bias=True)\n",
       "  (fc2): Linear(in_features=128, out_features=10, bias=True)\n",
       "  (relu): ReLU()\n",
       ")"
      ]
     },
     "execution_count": 12,
     "metadata": {},
     "output_type": "execute_result"
    }
   ],
   "source": [
    "mdoel = CNN()\n",
    "model.load_state_dict(torch.load(model_path))\n",
    "model.eval()"
   ]
  },
  {
   "cell_type": "markdown",
   "id": "36cd141f",
   "metadata": {},
   "source": [
    "## 實際預測方式"
   ]
  },
  {
   "cell_type": "code",
   "execution_count": 14,
   "id": "151b7c4d",
   "metadata": {},
   "outputs": [
    {
     "name": "stdout",
     "output_type": "stream",
     "text": [
      "Label: Airplane\n"
     ]
    },
    {
     "data": {
      "image/png": "[encoded data removed]",
      "text/plain": [
       "<Figure size 640x480 with 1 Axes>"
      ]
     },
     "metadata": {},
     "output_type": "display_data"
    }
   ],
   "source": [
    "img = x_valid[90].unsqueeze(0).to(device)    # 將圖片新增維度\n",
    "\n",
    "output = model(img)                          # 計算各類別機率\n",
    "_, pred = torch.max(output, dim = 1)         # 找到最大機率的位子\n",
    "\n",
    "label = pred.tolist()[0]                     # 取得Label\n",
    "npimg = (x_valid[90]/2+0.5).numpy()          # 還原正規化\n",
    "npimg = np.transpose(npimg, (1, 2, 0))       # 維度還原\n",
    "\n",
    "plt.imshow(npimg)                            # 顯示圖片\n",
    "print('Label:',label_decoding[label])        # 顯示文字 "
   ]
  },
  {
   "cell_type": "code",
   "execution_count": null,
   "id": "9db2a5e7",
   "metadata": {},
   "outputs": [],
   "source": [
    "\n"
   ]
  }
 ],
 "metadata": {
  "kernelspec": {
   "display_name": "Python 3 (ipykernel)",
   "language": "python",
   "name": "python3"
  },
  "language_info": {
   "codemirror_mode": {
    "name": "ipython",
    "version": 3
   },
   "file_extension": ".py",
   "mimetype": "text/x-python",
   "name": "python",
   "nbconvert_exporter": "python",
   "pygments_lexer": "ipython3",
   "version": "3.7.8"
  }
 },
 "nbformat": 4,
 "nbformat_minor": 5
}
